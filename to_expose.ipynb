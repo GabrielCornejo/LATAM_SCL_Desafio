{
  "cells": [
    {
      "cell_type": "markdown",
      "metadata": {
        "id": "ktJS3n9Rb-ow"
      },
      "source": [
        "# Trabajo de Juan\n",
        "\n",
        "# A lo largo del código Yo, Gabriel Cornejo, escribo algunos comentarios y al final expongo mis comentarios."
      ]
    },
    {
      "cell_type": "markdown",
      "metadata": {
        "id": "hityz-ZQb-o0"
      },
      "source": [
        "## Problema\n",
        "\n",
        "El problema consiste en predecir la probabilidad de atraso de los vuelos que aterrizan o despegan del aeropuerto de Santiago\n",
        "de Chile (SCL). Para eso les entregamos un dataset usando datos públicos y reales donde cada fila corresponde a un vuelo\n",
        "que aterrizó o despegó de SCL. Para cada vuelo se cuenta con la siguiente información:\n",
        "\n",
        "* **Fecha-I** : Fecha y hora programada del vuelo.\n",
        "* **Vlo-I** : Número de vuelo programado.\n",
        "* **Ori-I** : Código de ciudad de origen programado.\n",
        "* **Des-I** : Código de ciudad de destino programado.\n",
        "* **Emp-I** : Código aerolínea de vuelo programado.\n",
        "* **Fecha-O** : Fecha y hora de operación del vuelo.\n",
        "* **Vlo-O** : Número de vuelo de operación del vuelo.\n",
        "* **Ori-O** : Código de ciudad de origen de operación\n",
        "* **Des-O** : Código de ciudad de destino de operación.\n",
        "* **Emp-O** : Código aerolínea de vuelo operado.\n",
        "* **DIA** : Día del mes de operación del vuelo.\n",
        "* **MES** : Número de mes de operación del vuelo.\n",
        "* **AÑO** : Año de operación del vuelo.\n",
        "* **DIANOM** : Día de la semana de operación del vuelo.\n",
        "* **TIPOVUELO** : Tipo de vuelo, I =Internacional, N =Nacional.\n",
        "* **OPERA** : Nombre de aerolínea que opera.\n",
        "* **SIGLAORI** : Nombre ciudad origen.\n",
        "* **SIGLADES** : Nombre ciudad destino."
      ]
    },
    {
      "cell_type": "markdown",
      "metadata": {
        "id": "Pesp914wb-o1"
      },
      "source": [
        "## Desarrollo"
      ]
    },
    {
      "cell_type": "markdown",
      "metadata": {
        "id": "nDU6gA_eb-o1"
      },
      "source": [
        "### 0. Obtención de datos"
      ]
    },
    {
      "cell_type": "code",
      "execution_count": null,
      "metadata": {
        "id": "KnY6wPrmb-o2"
      },
      "outputs": [],
      "source": [
        "#Se importan las librerías necesarias para el problema\n",
        "import pandas as pd\n",
        "import numpy as np\n",
        "import matplotlib.pyplot as plt\n",
        "import seaborn as sns\n",
        "\n",
        "import missingno as msng\n",
        "import warnings\n",
        "warnings.filterwarnings('ignore')\n",
        "%matplotlib inline\n",
        "plt.rcParams['figure.figsize'] = (15, 10)"
      ]
    },
    {
      "cell_type": "code",
      "execution_count": null,
      "metadata": {
        "scrolled": true,
        "id": "UMMir1Yjb-o3"
      },
      "outputs": [],
      "source": [
        "df = pd.read_csv('dataset_SCL.csv')"
      ]
    },
    {
      "cell_type": "code",
      "execution_count": null,
      "metadata": {
        "colab": {
          "base_uri": "https://localhost:8080/"
        },
        "id": "cNp5-HgAb-o3",
        "outputId": "b6649953-1a5b-4a20-e1d7-1ec51a26067d"
      },
      "outputs": [
        {
          "output_type": "execute_result",
          "data": {
            "text/plain": [
              "(68206, 18)"
            ]
          },
          "metadata": {},
          "execution_count": 9
        }
      ],
      "source": [
        "df.shape"
      ]
    },
    {
      "cell_type": "code",
      "execution_count": null,
      "metadata": {
        "colab": {
          "base_uri": "https://localhost:8080/"
        },
        "id": "8j8OSKR5b-o5",
        "outputId": "a36ab6e8-1bae-44e2-d833-aaa8e8c84219"
      },
      "outputs": [
        {
          "output_type": "stream",
          "name": "stdout",
          "text": [
            "<class 'pandas.core.frame.DataFrame'>\n",
            "RangeIndex: 68206 entries, 0 to 68205\n",
            "Data columns (total 18 columns):\n",
            " #   Column     Non-Null Count  Dtype \n",
            "---  ------     --------------  ----- \n",
            " 0   Fecha-I    68206 non-null  object\n",
            " 1   Vlo-I      68206 non-null  object\n",
            " 2   Ori-I      68206 non-null  object\n",
            " 3   Des-I      68206 non-null  object\n",
            " 4   Emp-I      68206 non-null  object\n",
            " 5   Fecha-O    68206 non-null  object\n",
            " 6   Vlo-O      68205 non-null  object\n",
            " 7   Ori-O      68206 non-null  object\n",
            " 8   Des-O      68206 non-null  object\n",
            " 9   Emp-O      68206 non-null  object\n",
            " 10  DIA        68206 non-null  int64 \n",
            " 11  MES        68206 non-null  int64 \n",
            " 12  AÑO        68206 non-null  int64 \n",
            " 13  DIANOM     68206 non-null  object\n",
            " 14  TIPOVUELO  68206 non-null  object\n",
            " 15  OPERA      68206 non-null  object\n",
            " 16  SIGLAORI   68206 non-null  object\n",
            " 17  SIGLADES   68206 non-null  object\n",
            "dtypes: int64(3), object(15)\n",
            "memory usage: 9.4+ MB\n"
          ]
        }
      ],
      "source": [
        "df.info()"
      ]
    },
    {
      "cell_type": "markdown",
      "source": [
        "Ver las primeras líneas del archivo"
      ],
      "metadata": {
        "id": "hVn4w7yZojuM"
      }
    },
    {
      "cell_type": "code",
      "source": [
        "df.head()"
      ],
      "metadata": {
        "colab": {
          "base_uri": "https://localhost:8080/",
          "height": 206
        },
        "id": "qF9lgw0-nCfg",
        "outputId": "b19c505c-910e-4bc7-91b3-c9644f07de4f"
      },
      "execution_count": null,
      "outputs": [
        {
          "output_type": "execute_result",
          "data": {
            "text/plain": [
              "               Fecha-I Vlo-I Ori-I Des-I Emp-I              Fecha-O Vlo-O  \\\n",
              "0  2017-01-01 23:30:00   226  SCEL  KMIA   AAL  2017-01-01 23:33:00   226   \n",
              "1  2017-01-02 23:30:00   226  SCEL  KMIA   AAL  2017-01-02 23:39:00   226   \n",
              "2  2017-01-03 23:30:00   226  SCEL  KMIA   AAL  2017-01-03 23:39:00   226   \n",
              "3  2017-01-04 23:30:00   226  SCEL  KMIA   AAL  2017-01-04 23:33:00   226   \n",
              "4  2017-01-05 23:30:00   226  SCEL  KMIA   AAL  2017-01-05 23:28:00   226   \n",
              "\n",
              "  Ori-O Des-O Emp-O  DIA  MES   AÑO     DIANOM TIPOVUELO              OPERA  \\\n",
              "0  SCEL  KMIA   AAL    1    1  2017    Domingo         I  American Airlines   \n",
              "1  SCEL  KMIA   AAL    2    1  2017      Lunes         I  American Airlines   \n",
              "2  SCEL  KMIA   AAL    3    1  2017     Martes         I  American Airlines   \n",
              "3  SCEL  KMIA   AAL    4    1  2017  Miercoles         I  American Airlines   \n",
              "4  SCEL  KMIA   AAL    5    1  2017     Jueves         I  American Airlines   \n",
              "\n",
              "   SIGLAORI SIGLADES  \n",
              "0  Santiago    Miami  \n",
              "1  Santiago    Miami  \n",
              "2  Santiago    Miami  \n",
              "3  Santiago    Miami  \n",
              "4  Santiago    Miami  "
            ],
            "text/html": [
              "\n",
              "  <div id=\"df-5eb9b990-6d81-4570-a263-84b5281cb955\">\n",
              "    <div class=\"colab-df-container\">\n",
              "      <div>\n",
              "<style scoped>\n",
              "    .dataframe tbody tr th:only-of-type {\n",
              "        vertical-align: middle;\n",
              "    }\n",
              "\n",
              "    .dataframe tbody tr th {\n",
              "        vertical-align: top;\n",
              "    }\n",
              "\n",
              "    .dataframe thead th {\n",
              "        text-align: right;\n",
              "    }\n",
              "</style>\n",
              "<table border=\"1\" class=\"dataframe\">\n",
              "  <thead>\n",
              "    <tr style=\"text-align: right;\">\n",
              "      <th></th>\n",
              "      <th>Fecha-I</th>\n",
              "      <th>Vlo-I</th>\n",
              "      <th>Ori-I</th>\n",
              "      <th>Des-I</th>\n",
              "      <th>Emp-I</th>\n",
              "      <th>Fecha-O</th>\n",
              "      <th>Vlo-O</th>\n",
              "      <th>Ori-O</th>\n",
              "      <th>Des-O</th>\n",
              "      <th>Emp-O</th>\n",
              "      <th>DIA</th>\n",
              "      <th>MES</th>\n",
              "      <th>AÑO</th>\n",
              "      <th>DIANOM</th>\n",
              "      <th>TIPOVUELO</th>\n",
              "      <th>OPERA</th>\n",
              "      <th>SIGLAORI</th>\n",
              "      <th>SIGLADES</th>\n",
              "    </tr>\n",
              "  </thead>\n",
              "  <tbody>\n",
              "    <tr>\n",
              "      <th>0</th>\n",
              "      <td>2017-01-01 23:30:00</td>\n",
              "      <td>226</td>\n",
              "      <td>SCEL</td>\n",
              "      <td>KMIA</td>\n",
              "      <td>AAL</td>\n",
              "      <td>2017-01-01 23:33:00</td>\n",
              "      <td>226</td>\n",
              "      <td>SCEL</td>\n",
              "      <td>KMIA</td>\n",
              "      <td>AAL</td>\n",
              "      <td>1</td>\n",
              "      <td>1</td>\n",
              "      <td>2017</td>\n",
              "      <td>Domingo</td>\n",
              "      <td>I</td>\n",
              "      <td>American Airlines</td>\n",
              "      <td>Santiago</td>\n",
              "      <td>Miami</td>\n",
              "    </tr>\n",
              "    <tr>\n",
              "      <th>1</th>\n",
              "      <td>2017-01-02 23:30:00</td>\n",
              "      <td>226</td>\n",
              "      <td>SCEL</td>\n",
              "      <td>KMIA</td>\n",
              "      <td>AAL</td>\n",
              "      <td>2017-01-02 23:39:00</td>\n",
              "      <td>226</td>\n",
              "      <td>SCEL</td>\n",
              "      <td>KMIA</td>\n",
              "      <td>AAL</td>\n",
              "      <td>2</td>\n",
              "      <td>1</td>\n",
              "      <td>2017</td>\n",
              "      <td>Lunes</td>\n",
              "      <td>I</td>\n",
              "      <td>American Airlines</td>\n",
              "      <td>Santiago</td>\n",
              "      <td>Miami</td>\n",
              "    </tr>\n",
              "    <tr>\n",
              "      <th>2</th>\n",
              "      <td>2017-01-03 23:30:00</td>\n",
              "      <td>226</td>\n",
              "      <td>SCEL</td>\n",
              "      <td>KMIA</td>\n",
              "      <td>AAL</td>\n",
              "      <td>2017-01-03 23:39:00</td>\n",
              "      <td>226</td>\n",
              "      <td>SCEL</td>\n",
              "      <td>KMIA</td>\n",
              "      <td>AAL</td>\n",
              "      <td>3</td>\n",
              "      <td>1</td>\n",
              "      <td>2017</td>\n",
              "      <td>Martes</td>\n",
              "      <td>I</td>\n",
              "      <td>American Airlines</td>\n",
              "      <td>Santiago</td>\n",
              "      <td>Miami</td>\n",
              "    </tr>\n",
              "    <tr>\n",
              "      <th>3</th>\n",
              "      <td>2017-01-04 23:30:00</td>\n",
              "      <td>226</td>\n",
              "      <td>SCEL</td>\n",
              "      <td>KMIA</td>\n",
              "      <td>AAL</td>\n",
              "      <td>2017-01-04 23:33:00</td>\n",
              "      <td>226</td>\n",
              "      <td>SCEL</td>\n",
              "      <td>KMIA</td>\n",
              "      <td>AAL</td>\n",
              "      <td>4</td>\n",
              "      <td>1</td>\n",
              "      <td>2017</td>\n",
              "      <td>Miercoles</td>\n",
              "      <td>I</td>\n",
              "      <td>American Airlines</td>\n",
              "      <td>Santiago</td>\n",
              "      <td>Miami</td>\n",
              "    </tr>\n",
              "    <tr>\n",
              "      <th>4</th>\n",
              "      <td>2017-01-05 23:30:00</td>\n",
              "      <td>226</td>\n",
              "      <td>SCEL</td>\n",
              "      <td>KMIA</td>\n",
              "      <td>AAL</td>\n",
              "      <td>2017-01-05 23:28:00</td>\n",
              "      <td>226</td>\n",
              "      <td>SCEL</td>\n",
              "      <td>KMIA</td>\n",
              "      <td>AAL</td>\n",
              "      <td>5</td>\n",
              "      <td>1</td>\n",
              "      <td>2017</td>\n",
              "      <td>Jueves</td>\n",
              "      <td>I</td>\n",
              "      <td>American Airlines</td>\n",
              "      <td>Santiago</td>\n",
              "      <td>Miami</td>\n",
              "    </tr>\n",
              "  </tbody>\n",
              "</table>\n",
              "</div>\n",
              "      <button class=\"colab-df-convert\" onclick=\"convertToInteractive('df-5eb9b990-6d81-4570-a263-84b5281cb955')\"\n",
              "              title=\"Convert this dataframe to an interactive table.\"\n",
              "              style=\"display:none;\">\n",
              "        \n",
              "  <svg xmlns=\"http://www.w3.org/2000/svg\" height=\"24px\"viewBox=\"0 0 24 24\"\n",
              "       width=\"24px\">\n",
              "    <path d=\"M0 0h24v24H0V0z\" fill=\"none\"/>\n",
              "    <path d=\"M18.56 5.44l.94 2.06.94-2.06 2.06-.94-2.06-.94-.94-2.06-.94 2.06-2.06.94zm-11 1L8.5 8.5l.94-2.06 2.06-.94-2.06-.94L8.5 2.5l-.94 2.06-2.06.94zm10 10l.94 2.06.94-2.06 2.06-.94-2.06-.94-.94-2.06-.94 2.06-2.06.94z\"/><path d=\"M17.41 7.96l-1.37-1.37c-.4-.4-.92-.59-1.43-.59-.52 0-1.04.2-1.43.59L10.3 9.45l-7.72 7.72c-.78.78-.78 2.05 0 2.83L4 21.41c.39.39.9.59 1.41.59.51 0 1.02-.2 1.41-.59l7.78-7.78 2.81-2.81c.8-.78.8-2.07 0-2.86zM5.41 20L4 18.59l7.72-7.72 1.47 1.35L5.41 20z\"/>\n",
              "  </svg>\n",
              "      </button>\n",
              "      \n",
              "  <style>\n",
              "    .colab-df-container {\n",
              "      display:flex;\n",
              "      flex-wrap:wrap;\n",
              "      gap: 12px;\n",
              "    }\n",
              "\n",
              "    .colab-df-convert {\n",
              "      background-color: #E8F0FE;\n",
              "      border: none;\n",
              "      border-radius: 50%;\n",
              "      cursor: pointer;\n",
              "      display: none;\n",
              "      fill: #1967D2;\n",
              "      height: 32px;\n",
              "      padding: 0 0 0 0;\n",
              "      width: 32px;\n",
              "    }\n",
              "\n",
              "    .colab-df-convert:hover {\n",
              "      background-color: #E2EBFA;\n",
              "      box-shadow: 0px 1px 2px rgba(60, 64, 67, 0.3), 0px 1px 3px 1px rgba(60, 64, 67, 0.15);\n",
              "      fill: #174EA6;\n",
              "    }\n",
              "\n",
              "    [theme=dark] .colab-df-convert {\n",
              "      background-color: #3B4455;\n",
              "      fill: #D2E3FC;\n",
              "    }\n",
              "\n",
              "    [theme=dark] .colab-df-convert:hover {\n",
              "      background-color: #434B5C;\n",
              "      box-shadow: 0px 1px 3px 1px rgba(0, 0, 0, 0.15);\n",
              "      filter: drop-shadow(0px 1px 2px rgba(0, 0, 0, 0.3));\n",
              "      fill: #FFFFFF;\n",
              "    }\n",
              "  </style>\n",
              "\n",
              "      <script>\n",
              "        const buttonEl =\n",
              "          document.querySelector('#df-5eb9b990-6d81-4570-a263-84b5281cb955 button.colab-df-convert');\n",
              "        buttonEl.style.display =\n",
              "          google.colab.kernel.accessAllowed ? 'block' : 'none';\n",
              "\n",
              "        async function convertToInteractive(key) {\n",
              "          const element = document.querySelector('#df-5eb9b990-6d81-4570-a263-84b5281cb955');\n",
              "          const dataTable =\n",
              "            await google.colab.kernel.invokeFunction('convertToInteractive',\n",
              "                                                     [key], {});\n",
              "          if (!dataTable) return;\n",
              "\n",
              "          const docLinkHtml = 'Like what you see? Visit the ' +\n",
              "            '<a target=\"_blank\" href=https://colab.research.google.com/notebooks/data_table.ipynb>data table notebook</a>'\n",
              "            + ' to learn more about interactive tables.';\n",
              "          element.innerHTML = '';\n",
              "          dataTable['output_type'] = 'display_data';\n",
              "          await google.colab.output.renderOutput(dataTable, element);\n",
              "          const docLink = document.createElement('div');\n",
              "          docLink.innerHTML = docLinkHtml;\n",
              "          element.appendChild(docLink);\n",
              "        }\n",
              "      </script>\n",
              "    </div>\n",
              "  </div>\n",
              "  "
            ]
          },
          "metadata": {},
          "execution_count": 11
        }
      ]
    },
    {
      "cell_type": "code",
      "execution_count": null,
      "metadata": {
        "scrolled": true,
        "colab": {
          "base_uri": "https://localhost:8080/",
          "height": 684
        },
        "id": "3PP7Y-7nb-o5",
        "outputId": "673179c7-96aa-4f74-d2a5-23bc1f636283"
      },
      "outputs": [
        {
          "output_type": "execute_result",
          "data": {
            "text/plain": [
              "<matplotlib.axes._subplots.AxesSubplot at 0x7fc2b6121bd0>"
            ]
          },
          "metadata": {},
          "execution_count": 12
        },
        {
          "output_type": "display_data",
          "data": {
            "text/plain": [
              "<Figure size 1800x720 with 2 Axes>"
            ],
            "image/png": "[encoded data removed]"
          },
          "metadata": {
            "needs_background": "light"
          }
        }
      ],
      "source": [
        "msng.matrix(df)"
      ]
    },
    {
      "cell_type": "code",
      "execution_count": null,
      "metadata": {
        "colab": {
          "base_uri": "https://localhost:8080/",
          "height": 300
        },
        "id": "6-_eSXuTb-o6",
        "outputId": "59b7fd2c-e7a4-4b1f-f3f9-ed30b18917b4"
      },
      "outputs": [
        {
          "output_type": "execute_result",
          "data": {
            "text/plain": [
              "                DIA           MES           AÑO\n",
              "count  68206.000000  68206.000000  68206.000000\n",
              "mean      15.714790      6.622585   2017.000029\n",
              "std        8.782886      3.523321      0.005415\n",
              "min        1.000000      1.000000   2017.000000\n",
              "25%        8.000000      3.000000   2017.000000\n",
              "50%       16.000000      7.000000   2017.000000\n",
              "75%       23.000000     10.000000   2017.000000\n",
              "max       31.000000     12.000000   2018.000000"
            ],
            "text/html": [
              "\n",
              "  <div id=\"df-abbc62f2-f906-4e94-90b3-2ea08eb87e96\">\n",
              "    <div class=\"colab-df-container\">\n",
              "      <div>\n",
              "<style scoped>\n",
              "    .dataframe tbody tr th:only-of-type {\n",
              "        vertical-align: middle;\n",
              "    }\n",
              "\n",
              "    .dataframe tbody tr th {\n",
              "        vertical-align: top;\n",
              "    }\n",
              "\n",
              "    .dataframe thead th {\n",
              "        text-align: right;\n",
              "    }\n",
              "</style>\n",
              "<table border=\"1\" class=\"dataframe\">\n",
              "  <thead>\n",
              "    <tr style=\"text-align: right;\">\n",
              "      <th></th>\n",
              "      <th>DIA</th>\n",
              "      <th>MES</th>\n",
              "      <th>AÑO</th>\n",
              "    </tr>\n",
              "  </thead>\n",
              "  <tbody>\n",
              "    <tr>\n",
              "      <th>count</th>\n",
              "      <td>68206.000000</td>\n",
              "      <td>68206.000000</td>\n",
              "      <td>68206.000000</td>\n",
              "    </tr>\n",
              "    <tr>\n",
              "      <th>mean</th>\n",
              "      <td>15.714790</td>\n",
              "      <td>6.622585</td>\n",
              "      <td>2017.000029</td>\n",
              "    </tr>\n",
              "    <tr>\n",
              "      <th>std</th>\n",
              "      <td>8.782886</td>\n",
              "      <td>3.523321</td>\n",
              "      <td>0.005415</td>\n",
              "    </tr>\n",
              "    <tr>\n",
              "      <th>min</th>\n",
              "      <td>1.000000</td>\n",
              "      <td>1.000000</td>\n",
              "      <td>2017.000000</td>\n",
              "    </tr>\n",
              "    <tr>\n",
              "      <th>25%</th>\n",
              "      <td>8.000000</td>\n",
              "      <td>3.000000</td>\n",
              "      <td>2017.000000</td>\n",
              "    </tr>\n",
              "    <tr>\n",
              "      <th>50%</th>\n",
              "      <td>16.000000</td>\n",
              "      <td>7.000000</td>\n",
              "      <td>2017.000000</td>\n",
              "    </tr>\n",
              "    <tr>\n",
              "      <th>75%</th>\n",
              "      <td>23.000000</td>\n",
              "      <td>10.000000</td>\n",
              "      <td>2017.000000</td>\n",
              "    </tr>\n",
              "    <tr>\n",
              "      <th>max</th>\n",
              "      <td>31.000000</td>\n",
              "      <td>12.000000</td>\n",
              "      <td>2018.000000</td>\n",
              "    </tr>\n",
              "  </tbody>\n",
              "</table>\n",
              "</div>\n",
              "      <button class=\"colab-df-convert\" onclick=\"convertToInteractive('df-abbc62f2-f906-4e94-90b3-2ea08eb87e96')\"\n",
              "              title=\"Convert this dataframe to an interactive table.\"\n",
              "              style=\"display:none;\">\n",
              "        \n",
              "  <svg xmlns=\"http://www.w3.org/2000/svg\" height=\"24px\"viewBox=\"0 0 24 24\"\n",
              "       width=\"24px\">\n",
              "    <path d=\"M0 0h24v24H0V0z\" fill=\"none\"/>\n",
              "    <path d=\"M18.56 5.44l.94 2.06.94-2.06 2.06-.94-2.06-.94-.94-2.06-.94 2.06-2.06.94zm-11 1L8.5 8.5l.94-2.06 2.06-.94-2.06-.94L8.5 2.5l-.94 2.06-2.06.94zm10 10l.94 2.06.94-2.06 2.06-.94-2.06-.94-.94-2.06-.94 2.06-2.06.94z\"/><path d=\"M17.41 7.96l-1.37-1.37c-.4-.4-.92-.59-1.43-.59-.52 0-1.04.2-1.43.59L10.3 9.45l-7.72 7.72c-.78.78-.78 2.05 0 2.83L4 21.41c.39.39.9.59 1.41.59.51 0 1.02-.2 1.41-.59l7.78-7.78 2.81-2.81c.8-.78.8-2.07 0-2.86zM5.41 20L4 18.59l7.72-7.72 1.47 1.35L5.41 20z\"/>\n",
              "  </svg>\n",
              "      </button>\n",
              "      \n",
              "  <style>\n",
              "    .colab-df-container {\n",
              "      display:flex;\n",
              "      flex-wrap:wrap;\n",
              "      gap: 12px;\n",
              "    }\n",
              "\n",
              "    .colab-df-convert {\n",
              "      background-color: #E8F0FE;\n",
              "      border: none;\n",
              "      border-radius: 50%;\n",
              "      cursor: pointer;\n",
              "      display: none;\n",
              "      fill: #1967D2;\n",
              "      height: 32px;\n",
              "      padding: 0 0 0 0;\n",
              "      width: 32px;\n",
              "    }\n",
              "\n",
              "    .colab-df-convert:hover {\n",
              "      background-color: #E2EBFA;\n",
              "      box-shadow: 0px 1px 2px rgba(60, 64, 67, 0.3), 0px 1px 3px 1px rgba(60, 64, 67, 0.15);\n",
              "      fill: #174EA6;\n",
              "    }\n",
              "\n",
              "    [theme=dark] .colab-df-convert {\n",
              "      background-color: #3B4455;\n",
              "      fill: #D2E3FC;\n",
              "    }\n",
              "\n",
              "    [theme=dark] .colab-df-convert:hover {\n",
              "      background-color: #434B5C;\n",
              "      box-shadow: 0px 1px 3px 1px rgba(0, 0, 0, 0.15);\n",
              "      filter: drop-shadow(0px 1px 2px rgba(0, 0, 0, 0.3));\n",
              "      fill: #FFFFFF;\n",
              "    }\n",
              "  </style>\n",
              "\n",
              "      <script>\n",
              "        const buttonEl =\n",
              "          document.querySelector('#df-abbc62f2-f906-4e94-90b3-2ea08eb87e96 button.colab-df-convert');\n",
              "        buttonEl.style.display =\n",
              "          google.colab.kernel.accessAllowed ? 'block' : 'none';\n",
              "\n",
              "        async function convertToInteractive(key) {\n",
              "          const element = document.querySelector('#df-abbc62f2-f906-4e94-90b3-2ea08eb87e96');\n",
              "          const dataTable =\n",
              "            await google.colab.kernel.invokeFunction('convertToInteractive',\n",
              "                                                     [key], {});\n",
              "          if (!dataTable) return;\n",
              "\n",
              "          const docLinkHtml = 'Like what you see? Visit the ' +\n",
              "            '<a target=\"_blank\" href=https://colab.research.google.com/notebooks/data_table.ipynb>data table notebook</a>'\n",
              "            + ' to learn more about interactive tables.';\n",
              "          element.innerHTML = '';\n",
              "          dataTable['output_type'] = 'display_data';\n",
              "          await google.colab.output.renderOutput(dataTable, element);\n",
              "          const docLink = document.createElement('div');\n",
              "          docLink.innerHTML = docLinkHtml;\n",
              "          element.appendChild(docLink);\n",
              "        }\n",
              "      </script>\n",
              "    </div>\n",
              "  </div>\n",
              "  "
            ]
          },
          "metadata": {},
          "execution_count": 13
        }
      ],
      "source": [
        "df.describe()"
      ]
    },
    {
      "cell_type": "markdown",
      "metadata": {
        "id": "3yt7Pl7Wb-o6"
      },
      "source": [
        "### 1. ¿Cómo se distribuyen los datos? ¿Qué te llama la atención o cuál es tu conclusión sobre esto?"
      ]
    },
    {
      "cell_type": "code",
      "execution_count": null,
      "metadata": {
        "colab": {
          "base_uri": "https://localhost:8080/",
          "height": 533
        },
        "id": "JKlaJxfZb-o7",
        "outputId": "509f5bd1-3e71-4c8c-99d0-1f1ecce0dced"
      },
      "outputs": [
        {
          "output_type": "display_data",
          "data": {
            "text/plain": [
              "<Figure size 720x432 with 1 Axes>"
            ],
            "image/png": "[encoded data removed]"
          },
          "metadata": {
            "needs_background": "light"
          }
        }
      ],
      "source": [
        "vuelos_aerolineas = df['OPERA'].value_counts()\n",
        "plt.figure(figsize = (10,6))\n",
        "sns.set(style=\"darkgrid\")\n",
        "sns.barplot(vuelos_aerolineas.index, vuelos_aerolineas.values, alpha=0.9)\n",
        "plt.title('Cantidad de Vuelos por Aerolínea')\n",
        "plt.ylabel('Número de Vuelos', fontsize=12)\n",
        "plt.xlabel('Aerolínea', fontsize=12)\n",
        "plt.xticks(rotation=90)\n",
        "plt.show()"
      ]
    },
    {
      "cell_type": "markdown",
      "source": [
        "Más de la mitad de los vuelos son de LATAM. El segundo actor importante es Sky Airline"
      ],
      "metadata": {
        "id": "OuWaL6Dnh0Ys"
      }
    },
    {
      "cell_type": "code",
      "execution_count": null,
      "metadata": {
        "colab": {
          "base_uri": "https://localhost:8080/",
          "height": 414
        },
        "id": "LGnu9lwIb-o7",
        "outputId": "93559fd0-e84d-4694-8600-3c88dae3c37e"
      },
      "outputs": [
        {
          "output_type": "display_data",
          "data": {
            "text/plain": [
              "<Figure size 720x432 with 1 Axes>"
            ],
            "image/png": "[encoded data removed]"
          },
          "metadata": {}
        }
      ],
      "source": [
        "vuelos_dia = df['DIA'].value_counts()\n",
        "plt.figure(figsize = (10,6))\n",
        "sns.set(style = \"darkgrid\")\n",
        "sns.barplot(vuelos_dia.index, vuelos_dia.values, color = 'lightblue', alpha=0.8)\n",
        "plt.title('Cantidad de Vuelos por día del Mes')\n",
        "plt.ylabel('Número de Vuelos', fontsize=12)\n",
        "plt.xlabel('Día del Mes', fontsize=12)\n",
        "plt.xticks(rotation=90)\n",
        "plt.show()"
      ]
    },
    {
      "cell_type": "markdown",
      "source": [
        "La distribución de cantidad de vuelos por día es más bien homogénea, rondando los 2 mil diarios, salvo a fin de mes que cae a un poco más de la mitad."
      ],
      "metadata": {
        "id": "NarhuvTBiRdr"
      }
    },
    {
      "cell_type": "code",
      "execution_count": null,
      "metadata": {
        "colab": {
          "base_uri": "https://localhost:8080/",
          "height": 631
        },
        "id": "aHGTBPS1b-o8",
        "outputId": "e8352515-e0bc-4554-8a13-3bba59c0b383"
      },
      "outputs": [
        {
          "output_type": "display_data",
          "data": {
            "text/plain": [
              "<Figure size 1080x720 with 1 Axes>"
            ],
            "image/png": "[encoded data removed]"
          },
          "metadata": {}
        }
      ],
      "source": [
        "vuelos_mes = df['MES'].value_counts()\n",
        "sns.set(style = \"darkgrid\")\n",
        "sns.barplot(vuelos_mes.index, vuelos_mes.values, color = 'lightblue', alpha=0.8)\n",
        "plt.title('Cantidad de Vuelos por día del Mes')\n",
        "plt.ylabel('Número de Vuelos', fontsize=12)\n",
        "plt.xlabel('Día del Mes', fontsize=12)\n",
        "plt.xticks(rotation=90)\n",
        "plt.show()"
      ]
    },
    {
      "cell_type": "markdown",
      "source": [
        "Desde julio en adelante, se aprecia un aumento en la cantidad de vuelos. Los meses con menos vuelos son abril, mayo y junio, en cambio noviembre, diciembre y enero son los más altos."
      ],
      "metadata": {
        "id": "XUDdCa9MimOv"
      }
    },
    {
      "cell_type": "code",
      "execution_count": null,
      "metadata": {
        "scrolled": true,
        "colab": {
          "base_uri": "https://localhost:8080/",
          "height": 670
        },
        "id": "Vzb54prGb-o8",
        "outputId": "c4ec60bd-8f4a-4fe5-e302-5dd776036b3c"
      },
      "outputs": [
        {
          "output_type": "display_data",
          "data": {
            "text/plain": [
              "<Figure size 1080x720 with 1 Axes>"
            ],
            "image/png": "[encoded data removed]"
          },
          "metadata": {}
        }
      ],
      "source": [
        "vuelos = df['DIANOM'].value_counts()\n",
        "dias = [vuelos.index[2], vuelos.index[5], vuelos.index[4], vuelos.index[1], vuelos.index[0], vuelos.index[6], vuelos.index[3]]\n",
        "valores_dias = [vuelos.values[2], vuelos.values[5], vuelos.values[4], vuelos.values[1], vuelos.values[0], vuelos.values[6], vuelos.values[3]]\n",
        "\n",
        "sns.set(style=\"darkgrid\")\n",
        "sns.barplot(dias, valores_dias, color = 'lightblue', alpha=0.8)\n",
        "plt.title('Cantidad de Vuelos por Día de la Semana')\n",
        "plt.ylabel('Número de Vuelos', fontsize=12)\n",
        "plt.xlabel('Día de la Semana', fontsize=12)\n",
        "plt.xticks(rotation=90)\n",
        "plt.show()"
      ]
    },
    {
      "cell_type": "markdown",
      "source": [
        "Por lo general, el día con menos vuelos es el sábado."
      ],
      "metadata": {
        "id": "Il_ZZGRpjCLc"
      }
    },
    {
      "cell_type": "code",
      "execution_count": null,
      "metadata": {
        "colab": {
          "base_uri": "https://localhost:8080/",
          "height": 627
        },
        "id": "Hoto2XMwb-o8",
        "outputId": "d94c601d-a854-4796-fd4e-d892bad8a6ea"
      },
      "outputs": [
        {
          "output_type": "display_data",
          "data": {
            "text/plain": [
              "<Figure size 1080x720 with 1 Axes>"
            ],
            "image/png": "[encoded data removed]"
          },
          "metadata": {}
        }
      ],
      "source": [
        "vuelos = df['TIPOVUELO'].value_counts()\n",
        "sns.set(style=\"darkgrid\")\n",
        "sns.barplot(vuelos.index, vuelos.values, alpha=0.9)\n",
        "plt.title('Cantidad de Vuelos por Tipo de Vuelo')\n",
        "plt.ylabel('Número de Vuelos', fontsize=12)\n",
        "plt.xlabel('Tipo de Vuelo', fontsize=12)\n",
        "plt.show()"
      ]
    },
    {
      "cell_type": "markdown",
      "source": [
        "La mayoría de los vuelos son vuelos nacionales."
      ],
      "metadata": {
        "id": "I-oDZoMKjQw4"
      }
    },
    {
      "cell_type": "code",
      "execution_count": null,
      "metadata": {
        "colab": {
          "base_uri": "https://localhost:8080/",
          "height": 720
        },
        "id": "WHtbsSj4b-o9",
        "outputId": "f4d7a766-227a-458e-d0f8-e91fb27fa1d5"
      },
      "outputs": [
        {
          "output_type": "display_data",
          "data": {
            "text/plain": [
              "<Figure size 1080x720 with 1 Axes>"
            ],
            "image/png": "[encoded data removed]"
          },
          "metadata": {}
        }
      ],
      "source": [
        "vuelos = df['SIGLADES'].value_counts()\n",
        "sns.set(style=\"darkgrid\")\n",
        "sns.barplot(vuelos.index, vuelos.values, color = 'lightblue', alpha=0.8)\n",
        "plt.title('Cantidad de Vuelos por Destino')\n",
        "plt.ylabel('Número de Vuelos', fontsize=12)\n",
        "plt.xlabel('Destino', fontsize=12)\n",
        "plt.xticks(rotation=90)\n",
        "\n",
        "plt.show()"
      ]
    },
    {
      "cell_type": "markdown",
      "metadata": {
        "id": "SJBtfK9Db-o9"
      },
      "source": [
        "Respecto a las distribuciones, se puede ver que dentro de todo la data está distribuida de manera bastante balanceada. De todas formas se pueden notar ciertas particularidades en algunas columnas: \n",
        "* En las aerolíneas LATAM Airlines es la con mayor cantidad de vuelo debido a que es la más grande aquí en chile y es la que tiene mayor cantidad de destinos. SKY Airlines sería la segunda más grande y de ahí en adelante las demás son bastante similares en cuanto a vuelos. \n",
        "* En cuanto a los días del mes, se puede ver como el día 31 tiene menor cantidad que los demás días y esto se puede deber a que hay menos días 31 durante el año.\n",
        "* Con los días de semana, el día sábado es el único en el que se nota una diferencia. Aquí puede ser porque la gente prefiere ese día para quedarse en donde sea que esté y aprovecharlo en caso que esté de viaje para poder recorrer o solamente descansar.\n",
        "* Por parte de los destinos se puede ver que gran parte se lo llevan las ciudades chilenas del norte. Esto puede ser por un alto flujo en minería."
      ]
    },
    {
      "cell_type": "markdown",
      "metadata": {
        "id": "JVt5mSpDb-o-"
      },
      "source": [
        "### 2. Genera las columnas adicionales y luego expórtelas en un archivo synthetic_features.csv :"
      ]
    },
    {
      "cell_type": "markdown",
      "metadata": {
        "id": "RvK9QXf9b-o-"
      },
      "source": [
        "* **temporada_alta** : 1 si **Fecha-I** está entre 15-Dic y 3-Mar, o 15-Jul y 31-Jul, o 11-Sep y 30-Sep, 0 si no"
      ]
    },
    {
      "cell_type": "code",
      "execution_count": null,
      "metadata": {
        "id": "9JDCGJNUb-o-"
      },
      "outputs": [],
      "source": [
        "from datetime import datetime\n",
        "\n",
        "def temporada_alta(fecha):\n",
        "    fecha_año = int(fecha.split('-')[0])\n",
        "    fecha = datetime.strptime(fecha, '%Y-%m-%d %H:%M:%S')\n",
        "    range1_min = datetime.strptime('15-Dec', '%d-%b').replace(year = fecha_año)\n",
        "    range1_max = datetime.strptime('31-Dec', '%d-%b').replace(year = fecha_año)\n",
        "    range2_min = datetime.strptime('1-Jan', '%d-%b').replace(year = fecha_año)\n",
        "    range2_max = datetime.strptime('3-Mar', '%d-%b').replace(year = fecha_año)\n",
        "    range3_min = datetime.strptime('15-Jul', '%d-%b').replace(year = fecha_año)\n",
        "    range3_max = datetime.strptime('31-Jul', '%d-%b').replace(year = fecha_año)\n",
        "    range4_min = datetime.strptime('11-Sep', '%d-%b').replace(year = fecha_año)\n",
        "    range4_max = datetime.strptime('30-Sep', '%d-%b').replace(year = fecha_año)\n",
        "    \n",
        "    if ((fecha >= range1_min and fecha <= range1_max) or \n",
        "        (fecha >= range2_min and fecha <= range2_max) or \n",
        "        (fecha >= range3_min and fecha <= range3_max) or\n",
        "        (fecha >= range4_min and fecha <= range4_max)):\n",
        "        return 1\n",
        "    else:\n",
        "        return 0\n",
        "    "
      ]
    },
    {
      "cell_type": "code",
      "execution_count": null,
      "metadata": {
        "scrolled": true,
        "id": "a1Os_6iab-o_"
      },
      "outputs": [],
      "source": [
        "df['temporada_alta'] = df['Fecha-I'].apply(temporada_alta)"
      ]
    },
    {
      "cell_type": "code",
      "execution_count": null,
      "metadata": {
        "colab": {
          "base_uri": "https://localhost:8080/"
        },
        "id": "A4YR2GoVb-o_",
        "outputId": "3410b6a3-2b86-4c1f-d735-c03eb8b3b07e"
      },
      "outputs": [
        {
          "output_type": "execute_result",
          "data": {
            "text/plain": [
              "0    46174\n",
              "1    22032\n",
              "Name: temporada_alta, dtype: int64"
            ]
          },
          "metadata": {},
          "execution_count": 22
        }
      ],
      "source": [
        "df['temporada_alta'].value_counts()"
      ]
    },
    {
      "cell_type": "markdown",
      "metadata": {
        "id": "BZFtLIAab-o_"
      },
      "source": [
        "* **dif_min** : diferencia en minutos entre **Fecha-O** y **Fecha-I** ."
      ]
    },
    {
      "cell_type": "code",
      "execution_count": null,
      "metadata": {
        "id": "GgyBl38ib-o_"
      },
      "outputs": [],
      "source": [
        "def dif_min(data):\n",
        "    fecha_o = datetime.strptime(data['Fecha-O'], '%Y-%m-%d %H:%M:%S')\n",
        "    fecha_i = datetime.strptime(data['Fecha-I'], '%Y-%m-%d %H:%M:%S')\n",
        "    dif_min = ((fecha_o - fecha_i).total_seconds())/60\n",
        "    return dif_min\n",
        "        "
      ]
    },
    {
      "cell_type": "code",
      "execution_count": null,
      "metadata": {
        "id": "WFEuXdC6b-pA"
      },
      "outputs": [],
      "source": [
        "df['dif_min'] = df.apply(dif_min, axis = 1)"
      ]
    },
    {
      "cell_type": "markdown",
      "metadata": {
        "id": "5d2m46Wub-pA"
      },
      "source": [
        "* **atraso_15** : 1 si **dif_min** > 15, 0 si no."
      ]
    },
    {
      "cell_type": "code",
      "execution_count": null,
      "metadata": {
        "id": "ooZTjpJ4b-pA"
      },
      "outputs": [],
      "source": [
        "df['atraso_15'] = np.where(df['dif_min'] > 15, 1, 0)"
      ]
    },
    {
      "cell_type": "code",
      "execution_count": null,
      "metadata": {
        "colab": {
          "base_uri": "https://localhost:8080/"
        },
        "id": "InFha-S4b-pA",
        "outputId": "c8a7034c-cdcc-4b5e-c995-d7d23d150a4e"
      },
      "outputs": [
        {
          "output_type": "execute_result",
          "data": {
            "text/plain": [
              "0    55592\n",
              "1    12614\n",
              "Name: atraso_15, dtype: int64"
            ]
          },
          "metadata": {},
          "execution_count": 26
        }
      ],
      "source": [
        "df['atraso_15'].value_counts()"
      ]
    },
    {
      "cell_type": "markdown",
      "metadata": {
        "id": "1HboLKT8b-pA"
      },
      "source": [
        "* **periodo_dia** : mañana (entre 5:00 y 11:59), tarde (entre 12:00 y 18:59) y noche (entre 19:00 y 4:59), en base a **Fecha-I**."
      ]
    },
    {
      "cell_type": "code",
      "execution_count": null,
      "metadata": {
        "id": "AdiNWKrjb-pB"
      },
      "outputs": [],
      "source": [
        "def get_periodo_dia(fecha):\n",
        "    fecha_time = datetime.strptime(fecha, '%Y-%m-%d %H:%M:%S').time()\n",
        "    mañana_min = datetime.strptime(\"05:00\", '%H:%M').time()\n",
        "    mañana_max = datetime.strptime(\"11:59\", '%H:%M').time()\n",
        "    tarde_min = datetime.strptime(\"12:00\", '%H:%M').time()\n",
        "    tarde_max = datetime.strptime(\"18:59\", '%H:%M').time()\n",
        "    noche_min1 = datetime.strptime(\"19:00\", '%H:%M').time()\n",
        "    noche_max1 = datetime.strptime(\"23:59\", '%H:%M').time()\n",
        "    noche_min2 = datetime.strptime(\"00:00\", '%H:%M').time()\n",
        "    noche_max2 = datetime.strptime(\"4:59\", '%H:%M').time()\n",
        "    \n",
        "    if(fecha_time > mañana_min and fecha_time < mañana_max):\n",
        "        return 'mañana'\n",
        "    elif(fecha_time > tarde_min and fecha_time < tarde_max):\n",
        "        return 'tarde'\n",
        "    elif((fecha_time > noche_min1 and fecha_time < noche_max1) or\n",
        "         (fecha_time > noche_min2 and fecha_time < noche_max2)):\n",
        "        return 'noche'"
      ]
    },
    {
      "cell_type": "code",
      "execution_count": null,
      "metadata": {
        "collapsed": true,
        "jupyter": {
          "outputs_hidden": true
        },
        "id": "273dDR6Mb-pB"
      },
      "outputs": [],
      "source": [
        "df['periodo_dia'] = df['Fecha-I'].apply(get_periodo_dia)"
      ]
    },
    {
      "cell_type": "markdown",
      "source": [
        "Veamos las primeras líneas del dataframe \"df\""
      ],
      "metadata": {
        "id": "tHxnUwQpvsVO"
      }
    },
    {
      "cell_type": "code",
      "source": [
        "df.head()"
      ],
      "metadata": {
        "colab": {
          "base_uri": "https://localhost:8080/",
          "height": 236
        },
        "id": "BPzTDivuvy3h",
        "outputId": "8e6837bf-7e6a-4e3f-cea1-3a18c92542d9"
      },
      "execution_count": null,
      "outputs": [
        {
          "output_type": "execute_result",
          "data": {
            "text/plain": [
              "               Fecha-I Vlo-I Ori-I Des-I Emp-I              Fecha-O Vlo-O  \\\n",
              "0  2017-01-01 23:30:00   226  SCEL  KMIA   AAL  2017-01-01 23:33:00   226   \n",
              "1  2017-01-02 23:30:00   226  SCEL  KMIA   AAL  2017-01-02 23:39:00   226   \n",
              "2  2017-01-03 23:30:00   226  SCEL  KMIA   AAL  2017-01-03 23:39:00   226   \n",
              "3  2017-01-04 23:30:00   226  SCEL  KMIA   AAL  2017-01-04 23:33:00   226   \n",
              "4  2017-01-05 23:30:00   226  SCEL  KMIA   AAL  2017-01-05 23:28:00   226   \n",
              "\n",
              "  Ori-O Des-O Emp-O  ...   AÑO     DIANOM  TIPOVUELO              OPERA  \\\n",
              "0  SCEL  KMIA   AAL  ...  2017    Domingo          I  American Airlines   \n",
              "1  SCEL  KMIA   AAL  ...  2017      Lunes          I  American Airlines   \n",
              "2  SCEL  KMIA   AAL  ...  2017     Martes          I  American Airlines   \n",
              "3  SCEL  KMIA   AAL  ...  2017  Miercoles          I  American Airlines   \n",
              "4  SCEL  KMIA   AAL  ...  2017     Jueves          I  American Airlines   \n",
              "\n",
              "   SIGLAORI SIGLADES temporada_alta dif_min  atraso_15  periodo_dia  \n",
              "0  Santiago    Miami              1     3.0          0        noche  \n",
              "1  Santiago    Miami              1     9.0          0        noche  \n",
              "2  Santiago    Miami              1     9.0          0        noche  \n",
              "3  Santiago    Miami              1     3.0          0        noche  \n",
              "4  Santiago    Miami              1    -2.0          0        noche  \n",
              "\n",
              "[5 rows x 22 columns]"
            ],
            "text/html": [
              "\n",
              "  <div id=\"df-3f1dfdcc-fc42-4637-80d5-473277aebec4\">\n",
              "    <div class=\"colab-df-container\">\n",
              "      <div>\n",
              "<style scoped>\n",
              "    .dataframe tbody tr th:only-of-type {\n",
              "        vertical-align: middle;\n",
              "    }\n",
              "\n",
              "    .dataframe tbody tr th {\n",
              "        vertical-align: top;\n",
              "    }\n",
              "\n",
              "    .dataframe thead th {\n",
              "        text-align: right;\n",
              "    }\n",
              "</style>\n",
              "<table border=\"1\" class=\"dataframe\">\n",
              "  <thead>\n",
              "    <tr style=\"text-align: right;\">\n",
              "      <th></th>\n",
              "      <th>Fecha-I</th>\n",
              "      <th>Vlo-I</th>\n",
              "      <th>Ori-I</th>\n",
              "      <th>Des-I</th>\n",
              "      <th>Emp-I</th>\n",
              "      <th>Fecha-O</th>\n",
              "      <th>Vlo-O</th>\n",
              "      <th>Ori-O</th>\n",
              "      <th>Des-O</th>\n",
              "      <th>Emp-O</th>\n",
              "      <th>...</th>\n",
              "      <th>AÑO</th>\n",
              "      <th>DIANOM</th>\n",
              "      <th>TIPOVUELO</th>\n",
              "      <th>OPERA</th>\n",
              "      <th>SIGLAORI</th>\n",
              "      <th>SIGLADES</th>\n",
              "      <th>temporada_alta</th>\n",
              "      <th>dif_min</th>\n",
              "      <th>atraso_15</th>\n",
              "      <th>periodo_dia</th>\n",
              "    </tr>\n",
              "  </thead>\n",
              "  <tbody>\n",
              "    <tr>\n",
              "      <th>0</th>\n",
              "      <td>2017-01-01 23:30:00</td>\n",
              "      <td>226</td>\n",
              "      <td>SCEL</td>\n",
              "      <td>KMIA</td>\n",
              "      <td>AAL</td>\n",
              "      <td>2017-01-01 23:33:00</td>\n",
              "      <td>226</td>\n",
              "      <td>SCEL</td>\n",
              "      <td>KMIA</td>\n",
              "      <td>AAL</td>\n",
              "      <td>...</td>\n",
              "      <td>2017</td>\n",
              "      <td>Domingo</td>\n",
              "      <td>I</td>\n",
              "      <td>American Airlines</td>\n",
              "      <td>Santiago</td>\n",
              "      <td>Miami</td>\n",
              "      <td>1</td>\n",
              "      <td>3.0</td>\n",
              "      <td>0</td>\n",
              "      <td>noche</td>\n",
              "    </tr>\n",
              "    <tr>\n",
              "      <th>1</th>\n",
              "      <td>2017-01-02 23:30:00</td>\n",
              "      <td>226</td>\n",
              "      <td>SCEL</td>\n",
              "      <td>KMIA</td>\n",
              "      <td>AAL</td>\n",
              "      <td>2017-01-02 23:39:00</td>\n",
              "      <td>226</td>\n",
              "      <td>SCEL</td>\n",
              "      <td>KMIA</td>\n",
              "      <td>AAL</td>\n",
              "      <td>...</td>\n",
              "      <td>2017</td>\n",
              "      <td>Lunes</td>\n",
              "      <td>I</td>\n",
              "      <td>American Airlines</td>\n",
              "      <td>Santiago</td>\n",
              "      <td>Miami</td>\n",
              "      <td>1</td>\n",
              "      <td>9.0</td>\n",
              "      <td>0</td>\n",
              "      <td>noche</td>\n",
              "    </tr>\n",
              "    <tr>\n",
              "      <th>2</th>\n",
              "      <td>2017-01-03 23:30:00</td>\n",
              "      <td>226</td>\n",
              "      <td>SCEL</td>\n",
              "      <td>KMIA</td>\n",
              "      <td>AAL</td>\n",
              "      <td>2017-01-03 23:39:00</td>\n",
              "      <td>226</td>\n",
              "      <td>SCEL</td>\n",
              "      <td>KMIA</td>\n",
              "      <td>AAL</td>\n",
              "      <td>...</td>\n",
              "      <td>2017</td>\n",
              "      <td>Martes</td>\n",
              "      <td>I</td>\n",
              "      <td>American Airlines</td>\n",
              "      <td>Santiago</td>\n",
              "      <td>Miami</td>\n",
              "      <td>1</td>\n",
              "      <td>9.0</td>\n",
              "      <td>0</td>\n",
              "      <td>noche</td>\n",
              "    </tr>\n",
              "    <tr>\n",
              "      <th>3</th>\n",
              "      <td>2017-01-04 23:30:00</td>\n",
              "      <td>226</td>\n",
              "      <td>SCEL</td>\n",
              "      <td>KMIA</td>\n",
              "      <td>AAL</td>\n",
              "      <td>2017-01-04 23:33:00</td>\n",
              "      <td>226</td>\n",
              "      <td>SCEL</td>\n",
              "      <td>KMIA</td>\n",
              "      <td>AAL</td>\n",
              "      <td>...</td>\n",
              "      <td>2017</td>\n",
              "      <td>Miercoles</td>\n",
              "      <td>I</td>\n",
              "      <td>American Airlines</td>\n",
              "      <td>Santiago</td>\n",
              "      <td>Miami</td>\n",
              "      <td>1</td>\n",
              "      <td>3.0</td>\n",
              "      <td>0</td>\n",
              "      <td>noche</td>\n",
              "    </tr>\n",
              "    <tr>\n",
              "      <th>4</th>\n",
              "      <td>2017-01-05 23:30:00</td>\n",
              "      <td>226</td>\n",
              "      <td>SCEL</td>\n",
              "      <td>KMIA</td>\n",
              "      <td>AAL</td>\n",
              "      <td>2017-01-05 23:28:00</td>\n",
              "      <td>226</td>\n",
              "      <td>SCEL</td>\n",
              "      <td>KMIA</td>\n",
              "      <td>AAL</td>\n",
              "      <td>...</td>\n",
              "      <td>2017</td>\n",
              "      <td>Jueves</td>\n",
              "      <td>I</td>\n",
              "      <td>American Airlines</td>\n",
              "      <td>Santiago</td>\n",
              "      <td>Miami</td>\n",
              "      <td>1</td>\n",
              "      <td>-2.0</td>\n",
              "      <td>0</td>\n",
              "      <td>noche</td>\n",
              "    </tr>\n",
              "  </tbody>\n",
              "</table>\n",
              "<p>5 rows × 22 columns</p>\n",
              "</div>\n",
              "      <button class=\"colab-df-convert\" onclick=\"convertToInteractive('df-3f1dfdcc-fc42-4637-80d5-473277aebec4')\"\n",
              "              title=\"Convert this dataframe to an interactive table.\"\n",
              "              style=\"display:none;\">\n",
              "        \n",
              "  <svg xmlns=\"http://www.w3.org/2000/svg\" height=\"24px\"viewBox=\"0 0 24 24\"\n",
              "       width=\"24px\">\n",
              "    <path d=\"M0 0h24v24H0V0z\" fill=\"none\"/>\n",
              "    <path d=\"M18.56 5.44l.94 2.06.94-2.06 2.06-.94-2.06-.94-.94-2.06-.94 2.06-2.06.94zm-11 1L8.5 8.5l.94-2.06 2.06-.94-2.06-.94L8.5 2.5l-.94 2.06-2.06.94zm10 10l.94 2.06.94-2.06 2.06-.94-2.06-.94-.94-2.06-.94 2.06-2.06.94z\"/><path d=\"M17.41 7.96l-1.37-1.37c-.4-.4-.92-.59-1.43-.59-.52 0-1.04.2-1.43.59L10.3 9.45l-7.72 7.72c-.78.78-.78 2.05 0 2.83L4 21.41c.39.39.9.59 1.41.59.51 0 1.02-.2 1.41-.59l7.78-7.78 2.81-2.81c.8-.78.8-2.07 0-2.86zM5.41 20L4 18.59l7.72-7.72 1.47 1.35L5.41 20z\"/>\n",
              "  </svg>\n",
              "      </button>\n",
              "      \n",
              "  <style>\n",
              "    .colab-df-container {\n",
              "      display:flex;\n",
              "      flex-wrap:wrap;\n",
              "      gap: 12px;\n",
              "    }\n",
              "\n",
              "    .colab-df-convert {\n",
              "      background-color: #E8F0FE;\n",
              "      border: none;\n",
              "      border-radius: 50%;\n",
              "      cursor: pointer;\n",
              "      display: none;\n",
              "      fill: #1967D2;\n",
              "      height: 32px;\n",
              "      padding: 0 0 0 0;\n",
              "      width: 32px;\n",
              "    }\n",
              "\n",
              "    .colab-df-convert:hover {\n",
              "      background-color: #E2EBFA;\n",
              "      box-shadow: 0px 1px 2px rgba(60, 64, 67, 0.3), 0px 1px 3px 1px rgba(60, 64, 67, 0.15);\n",
              "      fill: #174EA6;\n",
              "    }\n",
              "\n",
              "    [theme=dark] .colab-df-convert {\n",
              "      background-color: #3B4455;\n",
              "      fill: #D2E3FC;\n",
              "    }\n",
              "\n",
              "    [theme=dark] .colab-df-convert:hover {\n",
              "      background-color: #434B5C;\n",
              "      box-shadow: 0px 1px 3px 1px rgba(0, 0, 0, 0.15);\n",
              "      filter: drop-shadow(0px 1px 2px rgba(0, 0, 0, 0.3));\n",
              "      fill: #FFFFFF;\n",
              "    }\n",
              "  </style>\n",
              "\n",
              "      <script>\n",
              "        const buttonEl =\n",
              "          document.querySelector('#df-3f1dfdcc-fc42-4637-80d5-473277aebec4 button.colab-df-convert');\n",
              "        buttonEl.style.display =\n",
              "          google.colab.kernel.accessAllowed ? 'block' : 'none';\n",
              "\n",
              "        async function convertToInteractive(key) {\n",
              "          const element = document.querySelector('#df-3f1dfdcc-fc42-4637-80d5-473277aebec4');\n",
              "          const dataTable =\n",
              "            await google.colab.kernel.invokeFunction('convertToInteractive',\n",
              "                                                     [key], {});\n",
              "          if (!dataTable) return;\n",
              "\n",
              "          const docLinkHtml = 'Like what you see? Visit the ' +\n",
              "            '<a target=\"_blank\" href=https://colab.research.google.com/notebooks/data_table.ipynb>data table notebook</a>'\n",
              "            + ' to learn more about interactive tables.';\n",
              "          element.innerHTML = '';\n",
              "          dataTable['output_type'] = 'display_data';\n",
              "          await google.colab.output.renderOutput(dataTable, element);\n",
              "          const docLink = document.createElement('div');\n",
              "          docLink.innerHTML = docLinkHtml;\n",
              "          element.appendChild(docLink);\n",
              "        }\n",
              "      </script>\n",
              "    </div>\n",
              "  </div>\n",
              "  "
            ]
          },
          "metadata": {},
          "execution_count": 29
        }
      ]
    },
    {
      "cell_type": "markdown",
      "source": [
        "Crear un archivo synthetic_feature en un csv"
      ],
      "metadata": {
        "id": "imXLFjzeNfzT"
      }
    },
    {
      "cell_type": "code",
      "execution_count": null,
      "metadata": {
        "id": "u5MTI9dXb-pB"
      },
      "outputs": [],
      "source": [
        "df[['temporada_alta','dif_min','atraso_15','periodo_dia']].to_csv('synthetic_features.csv', index = False)"
      ]
    },
    {
      "cell_type": "markdown",
      "metadata": {
        "id": "snReJVzNb-pB"
      },
      "source": [
        "### 3. ¿Cómo se compone la tasa de atraso por destino, aerolínea, mes del año, día de la semana, temporada, tipo de vuelo? ¿Qué variables esperarías que más influyeran en predecir atrasos?"
      ]
    },
    {
      "cell_type": "markdown",
      "metadata": {
        "id": "udmwP3u9b-pB"
      },
      "source": [
        "* ¿Cómo se compone la tasa de atraso por destino, aerolínea, mes del año, día de la semana, temporada, tipo de vuelo?"
      ]
    },
    {
      "cell_type": "code",
      "execution_count": null,
      "metadata": {
        "id": "w7lidVB2b-pB"
      },
      "outputs": [],
      "source": [
        "def calcular_tasa(df, columna):\n",
        "    \n",
        "    dic_atrasos = {}\n",
        "    for _, row in df.iterrows():\n",
        "        if row['atraso_15'] == 1:\n",
        "            if row[columna] not in dic_atrasos:\n",
        "                dic_atrasos[row[columna]] = 1\n",
        "            else:\n",
        "                dic_atrasos[row[columna]] += 1\n",
        "    \n",
        "    total_values = df[columna].value_counts()\n",
        "    \n",
        "    dic_tasas = {}\n",
        "    for name, total in total_values.iteritems():\n",
        "        if name in dic_atrasos:\n",
        "            dic_tasas[name] = round(total / dic_atrasos[name], 2)\n",
        "        else:\n",
        "            dic_tasas[name] = 0\n",
        "            \n",
        "    return pd.DataFrame.from_dict(data = dic_tasas, orient = 'index', columns = ['Tasa (%)'])"
      ]
    },
    {
      "cell_type": "code",
      "execution_count": null,
      "metadata": {
        "collapsed": true,
        "jupyter": {
          "outputs_hidden": true
        },
        "colab": {
          "base_uri": "https://localhost:8080/"
        },
        "id": "NMf1sHItb-pC",
        "outputId": "72694ffe-73ed-4dec-9345-08e9f946feb2"
      },
      "outputs": [
        {
          "output_type": "execute_result",
          "data": {
            "text/plain": [
              "                Tasa (%)\n",
              "Buenos Aires        3.91\n",
              "Antofagasta         6.83\n",
              "Lima                4.34\n",
              "Calama              8.18\n",
              "Puerto Montt        5.94\n",
              "...                  ...\n",
              "Quito               1.00\n",
              "Washington          0.00\n",
              "Pisco, Peru         0.00\n",
              "Puerto Stanley      1.00\n",
              "Cochabamba          1.00\n",
              "\n",
              "[62 rows x 1 columns]"
            ],
            "text/html": [
              "\n",
              "  <div id=\"df-a9b419ed-0230-43f9-904f-a810483d40a8\">\n",
              "    <div class=\"colab-df-container\">\n",
              "      <div>\n",
              "<style scoped>\n",
              "    .dataframe tbody tr th:only-of-type {\n",
              "        vertical-align: middle;\n",
              "    }\n",
              "\n",
              "    .dataframe tbody tr th {\n",
              "        vertical-align: top;\n",
              "    }\n",
              "\n",
              "    .dataframe thead th {\n",
              "        text-align: right;\n",
              "    }\n",
              "</style>\n",
              "<table border=\"1\" class=\"dataframe\">\n",
              "  <thead>\n",
              "    <tr style=\"text-align: right;\">\n",
              "      <th></th>\n",
              "      <th>Tasa (%)</th>\n",
              "    </tr>\n",
              "  </thead>\n",
              "  <tbody>\n",
              "    <tr>\n",
              "      <th>Buenos Aires</th>\n",
              "      <td>3.91</td>\n",
              "    </tr>\n",
              "    <tr>\n",
              "      <th>Antofagasta</th>\n",
              "      <td>6.83</td>\n",
              "    </tr>\n",
              "    <tr>\n",
              "      <th>Lima</th>\n",
              "      <td>4.34</td>\n",
              "    </tr>\n",
              "    <tr>\n",
              "      <th>Calama</th>\n",
              "      <td>8.18</td>\n",
              "    </tr>\n",
              "    <tr>\n",
              "      <th>Puerto Montt</th>\n",
              "      <td>5.94</td>\n",
              "    </tr>\n",
              "    <tr>\n",
              "      <th>...</th>\n",
              "      <td>...</td>\n",
              "    </tr>\n",
              "    <tr>\n",
              "      <th>Quito</th>\n",
              "      <td>1.00</td>\n",
              "    </tr>\n",
              "    <tr>\n",
              "      <th>Washington</th>\n",
              "      <td>0.00</td>\n",
              "    </tr>\n",
              "    <tr>\n",
              "      <th>Pisco, Peru</th>\n",
              "      <td>0.00</td>\n",
              "    </tr>\n",
              "    <tr>\n",
              "      <th>Puerto Stanley</th>\n",
              "      <td>1.00</td>\n",
              "    </tr>\n",
              "    <tr>\n",
              "      <th>Cochabamba</th>\n",
              "      <td>1.00</td>\n",
              "    </tr>\n",
              "  </tbody>\n",
              "</table>\n",
              "<p>62 rows × 1 columns</p>\n",
              "</div>\n",
              "      <button class=\"colab-df-convert\" onclick=\"convertToInteractive('df-a9b419ed-0230-43f9-904f-a810483d40a8')\"\n",
              "              title=\"Convert this dataframe to an interactive table.\"\n",
              "              style=\"display:none;\">\n",
              "        \n",
              "  <svg xmlns=\"http://www.w3.org/2000/svg\" height=\"24px\"viewBox=\"0 0 24 24\"\n",
              "       width=\"24px\">\n",
              "    <path d=\"M0 0h24v24H0V0z\" fill=\"none\"/>\n",
              "    <path d=\"M18.56 5.44l.94 2.06.94-2.06 2.06-.94-2.06-.94-.94-2.06-.94 2.06-2.06.94zm-11 1L8.5 8.5l.94-2.06 2.06-.94-2.06-.94L8.5 2.5l-.94 2.06-2.06.94zm10 10l.94 2.06.94-2.06 2.06-.94-2.06-.94-.94-2.06-.94 2.06-2.06.94z\"/><path d=\"M17.41 7.96l-1.37-1.37c-.4-.4-.92-.59-1.43-.59-.52 0-1.04.2-1.43.59L10.3 9.45l-7.72 7.72c-.78.78-.78 2.05 0 2.83L4 21.41c.39.39.9.59 1.41.59.51 0 1.02-.2 1.41-.59l7.78-7.78 2.81-2.81c.8-.78.8-2.07 0-2.86zM5.41 20L4 18.59l7.72-7.72 1.47 1.35L5.41 20z\"/>\n",
              "  </svg>\n",
              "      </button>\n",
              "      \n",
              "  <style>\n",
              "    .colab-df-container {\n",
              "      display:flex;\n",
              "      flex-wrap:wrap;\n",
              "      gap: 12px;\n",
              "    }\n",
              "\n",
              "    .colab-df-convert {\n",
              "      background-color: #E8F0FE;\n",
              "      border: none;\n",
              "      border-radius: 50%;\n",
              "      cursor: pointer;\n",
              "      display: none;\n",
              "      fill: #1967D2;\n",
              "      height: 32px;\n",
              "      padding: 0 0 0 0;\n",
              "      width: 32px;\n",
              "    }\n",
              "\n",
              "    .colab-df-convert:hover {\n",
              "      background-color: #E2EBFA;\n",
              "      box-shadow: 0px 1px 2px rgba(60, 64, 67, 0.3), 0px 1px 3px 1px rgba(60, 64, 67, 0.15);\n",
              "      fill: #174EA6;\n",
              "    }\n",
              "\n",
              "    [theme=dark] .colab-df-convert {\n",
              "      background-color: #3B4455;\n",
              "      fill: #D2E3FC;\n",
              "    }\n",
              "\n",
              "    [theme=dark] .colab-df-convert:hover {\n",
              "      background-color: #434B5C;\n",
              "      box-shadow: 0px 1px 3px 1px rgba(0, 0, 0, 0.15);\n",
              "      filter: drop-shadow(0px 1px 2px rgba(0, 0, 0, 0.3));\n",
              "      fill: #FFFFFF;\n",
              "    }\n",
              "  </style>\n",
              "\n",
              "      <script>\n",
              "        const buttonEl =\n",
              "          document.querySelector('#df-a9b419ed-0230-43f9-904f-a810483d40a8 button.colab-df-convert');\n",
              "        buttonEl.style.display =\n",
              "          google.colab.kernel.accessAllowed ? 'block' : 'none';\n",
              "\n",
              "        async function convertToInteractive(key) {\n",
              "          const element = document.querySelector('#df-a9b419ed-0230-43f9-904f-a810483d40a8');\n",
              "          const dataTable =\n",
              "            await google.colab.kernel.invokeFunction('convertToInteractive',\n",
              "                                                     [key], {});\n",
              "          if (!dataTable) return;\n",
              "\n",
              "          const docLinkHtml = 'Like what you see? Visit the ' +\n",
              "            '<a target=\"_blank\" href=https://colab.research.google.com/notebooks/data_table.ipynb>data table notebook</a>'\n",
              "            + ' to learn more about interactive tables.';\n",
              "          element.innerHTML = '';\n",
              "          dataTable['output_type'] = 'display_data';\n",
              "          await google.colab.output.renderOutput(dataTable, element);\n",
              "          const docLink = document.createElement('div');\n",
              "          docLink.innerHTML = docLinkHtml;\n",
              "          element.appendChild(docLink);\n",
              "        }\n",
              "      </script>\n",
              "    </div>\n",
              "  </div>\n",
              "  "
            ]
          },
          "metadata": {},
          "execution_count": 32
        }
      ],
      "source": [
        "tasas_destinos = calcular_tasa(df, 'SIGLADES')\n",
        "tasas_destinos"
      ]
    },
    {
      "cell_type": "code",
      "execution_count": null,
      "metadata": {
        "colab": {
          "base_uri": "https://localhost:8080/"
        },
        "id": "t7mZBBRkb-pC",
        "outputId": "80fbabe1-f063-42d5-b1ae-dc22a86ec0ac"
      },
      "outputs": [
        {
          "output_type": "display_data",
          "data": {
            "text/plain": [
              "<Figure size 1440x360 with 1 Axes>"
            ],
            "image/png": "[encoded data removed]"
          },
          "metadata": {}
        }
      ],
      "source": [
        "tasas_destinos_values = df['SIGLADES'].value_counts().index\n",
        "plt.figure(figsize = (20,5))\n",
        "sns.set(style=\"darkgrid\")\n",
        "sns.barplot(df['SIGLADES'].value_counts().index, tasas_destinos['Tasa (%)'], alpha = 0.75)\n",
        "plt.title('Tasa de Retraso por Destino')\n",
        "plt.ylabel('Tasa de Retraso [%]', fontsize=12)\n",
        "plt.xlabel('Destino', fontsize=12)\n",
        "plt.xticks(rotation=90)\n",
        "plt.show()"
      ]
    },
    {
      "cell_type": "code",
      "execution_count": null,
      "metadata": {
        "scrolled": true,
        "colab": {
          "base_uri": "https://localhost:8080/"
        },
        "id": "wrq7A_I7b-pC",
        "outputId": "2299e416-f683-4b1e-f6a0-90f13d7e8a30"
      },
      "outputs": [
        {
          "output_type": "execute_result",
          "data": {
            "text/plain": [
              "                          Tasa (%)\n",
              "Grupo LATAM                   5.60\n",
              "Sky Airline                   5.63\n",
              "Aerolineas Argentinas         4.16\n",
              "Copa Air                     15.95\n",
              "Latin American Wings          2.46\n",
              "Avianca                       3.76\n",
              "JetSmart SPA                  5.59\n",
              "Gol Trans                     2.81\n",
              "American Airlines            14.84\n",
              "Air Canada                    2.19\n",
              "Iberia                       10.06\n",
              "Delta Air                    17.05\n",
              "Air France                   11.93\n",
              "Aeromexico                   35.10\n",
              "United Airlines              19.71\n",
              "Oceanair Linhas Aereas        6.49\n",
              "Alitalia                      8.93\n",
              "K.L.M.                       11.95\n",
              "British Airways               7.07\n",
              "Qantas Airways                1.73\n",
              "Lacsa                         8.36\n",
              "Austral                       4.93\n",
              "Plus Ultra Lineas Aereas      1.63"
            ],
            "text/html": [
              "\n",
              "  <div id=\"df-a7944dda-0161-45d0-a318-24a69e8410dd\">\n",
              "    <div class=\"colab-df-container\">\n",
              "      <div>\n",
              "<style scoped>\n",
              "    .dataframe tbody tr th:only-of-type {\n",
              "        vertical-align: middle;\n",
              "    }\n",
              "\n",
              "    .dataframe tbody tr th {\n",
              "        vertical-align: top;\n",
              "    }\n",
              "\n",
              "    .dataframe thead th {\n",
              "        text-align: right;\n",
              "    }\n",
              "</style>\n",
              "<table border=\"1\" class=\"dataframe\">\n",
              "  <thead>\n",
              "    <tr style=\"text-align: right;\">\n",
              "      <th></th>\n",
              "      <th>Tasa (%)</th>\n",
              "    </tr>\n",
              "  </thead>\n",
              "  <tbody>\n",
              "    <tr>\n",
              "      <th>Grupo LATAM</th>\n",
              "      <td>5.60</td>\n",
              "    </tr>\n",
              "    <tr>\n",
              "      <th>Sky Airline</th>\n",
              "      <td>5.63</td>\n",
              "    </tr>\n",
              "    <tr>\n",
              "      <th>Aerolineas Argentinas</th>\n",
              "      <td>4.16</td>\n",
              "    </tr>\n",
              "    <tr>\n",
              "      <th>Copa Air</th>\n",
              "      <td>15.95</td>\n",
              "    </tr>\n",
              "    <tr>\n",
              "      <th>Latin American Wings</th>\n",
              "      <td>2.46</td>\n",
              "    </tr>\n",
              "    <tr>\n",
              "      <th>Avianca</th>\n",
              "      <td>3.76</td>\n",
              "    </tr>\n",
              "    <tr>\n",
              "      <th>JetSmart SPA</th>\n",
              "      <td>5.59</td>\n",
              "    </tr>\n",
              "    <tr>\n",
              "      <th>Gol Trans</th>\n",
              "      <td>2.81</td>\n",
              "    </tr>\n",
              "    <tr>\n",
              "      <th>American Airlines</th>\n",
              "      <td>14.84</td>\n",
              "    </tr>\n",
              "    <tr>\n",
              "      <th>Air Canada</th>\n",
              "      <td>2.19</td>\n",
              "    </tr>\n",
              "    <tr>\n",
              "      <th>Iberia</th>\n",
              "      <td>10.06</td>\n",
              "    </tr>\n",
              "    <tr>\n",
              "      <th>Delta Air</th>\n",
              "      <td>17.05</td>\n",
              "    </tr>\n",
              "    <tr>\n",
              "      <th>Air France</th>\n",
              "      <td>11.93</td>\n",
              "    </tr>\n",
              "    <tr>\n",
              "      <th>Aeromexico</th>\n",
              "      <td>35.10</td>\n",
              "    </tr>\n",
              "    <tr>\n",
              "      <th>United Airlines</th>\n",
              "      <td>19.71</td>\n",
              "    </tr>\n",
              "    <tr>\n",
              "      <th>Oceanair Linhas Aereas</th>\n",
              "      <td>6.49</td>\n",
              "    </tr>\n",
              "    <tr>\n",
              "      <th>Alitalia</th>\n",
              "      <td>8.93</td>\n",
              "    </tr>\n",
              "    <tr>\n",
              "      <th>K.L.M.</th>\n",
              "      <td>11.95</td>\n",
              "    </tr>\n",
              "    <tr>\n",
              "      <th>British Airways</th>\n",
              "      <td>7.07</td>\n",
              "    </tr>\n",
              "    <tr>\n",
              "      <th>Qantas Airways</th>\n",
              "      <td>1.73</td>\n",
              "    </tr>\n",
              "    <tr>\n",
              "      <th>Lacsa</th>\n",
              "      <td>8.36</td>\n",
              "    </tr>\n",
              "    <tr>\n",
              "      <th>Austral</th>\n",
              "      <td>4.93</td>\n",
              "    </tr>\n",
              "    <tr>\n",
              "      <th>Plus Ultra Lineas Aereas</th>\n",
              "      <td>1.63</td>\n",
              "    </tr>\n",
              "  </tbody>\n",
              "</table>\n",
              "</div>\n",
              "      <button class=\"colab-df-convert\" onclick=\"convertToInteractive('df-a7944dda-0161-45d0-a318-24a69e8410dd')\"\n",
              "              title=\"Convert this dataframe to an interactive table.\"\n",
              "              style=\"display:none;\">\n",
              "        \n",
              "  <svg xmlns=\"http://www.w3.org/2000/svg\" height=\"24px\"viewBox=\"0 0 24 24\"\n",
              "       width=\"24px\">\n",
              "    <path d=\"M0 0h24v24H0V0z\" fill=\"none\"/>\n",
              "    <path d=\"M18.56 5.44l.94 2.06.94-2.06 2.06-.94-2.06-.94-.94-2.06-.94 2.06-2.06.94zm-11 1L8.5 8.5l.94-2.06 2.06-.94-2.06-.94L8.5 2.5l-.94 2.06-2.06.94zm10 10l.94 2.06.94-2.06 2.06-.94-2.06-.94-.94-2.06-.94 2.06-2.06.94z\"/><path d=\"M17.41 7.96l-1.37-1.37c-.4-.4-.92-.59-1.43-.59-.52 0-1.04.2-1.43.59L10.3 9.45l-7.72 7.72c-.78.78-.78 2.05 0 2.83L4 21.41c.39.39.9.59 1.41.59.51 0 1.02-.2 1.41-.59l7.78-7.78 2.81-2.81c.8-.78.8-2.07 0-2.86zM5.41 20L4 18.59l7.72-7.72 1.47 1.35L5.41 20z\"/>\n",
              "  </svg>\n",
              "      </button>\n",
              "      \n",
              "  <style>\n",
              "    .colab-df-container {\n",
              "      display:flex;\n",
              "      flex-wrap:wrap;\n",
              "      gap: 12px;\n",
              "    }\n",
              "\n",
              "    .colab-df-convert {\n",
              "      background-color: #E8F0FE;\n",
              "      border: none;\n",
              "      border-radius: 50%;\n",
              "      cursor: pointer;\n",
              "      display: none;\n",
              "      fill: #1967D2;\n",
              "      height: 32px;\n",
              "      padding: 0 0 0 0;\n",
              "      width: 32px;\n",
              "    }\n",
              "\n",
              "    .colab-df-convert:hover {\n",
              "      background-color: #E2EBFA;\n",
              "      box-shadow: 0px 1px 2px rgba(60, 64, 67, 0.3), 0px 1px 3px 1px rgba(60, 64, 67, 0.15);\n",
              "      fill: #174EA6;\n",
              "    }\n",
              "\n",
              "    [theme=dark] .colab-df-convert {\n",
              "      background-color: #3B4455;\n",
              "      fill: #D2E3FC;\n",
              "    }\n",
              "\n",
              "    [theme=dark] .colab-df-convert:hover {\n",
              "      background-color: #434B5C;\n",
              "      box-shadow: 0px 1px 3px 1px rgba(0, 0, 0, 0.15);\n",
              "      filter: drop-shadow(0px 1px 2px rgba(0, 0, 0, 0.3));\n",
              "      fill: #FFFFFF;\n",
              "    }\n",
              "  </style>\n",
              "\n",
              "      <script>\n",
              "        const buttonEl =\n",
              "          document.querySelector('#df-a7944dda-0161-45d0-a318-24a69e8410dd button.colab-df-convert');\n",
              "        buttonEl.style.display =\n",
              "          google.colab.kernel.accessAllowed ? 'block' : 'none';\n",
              "\n",
              "        async function convertToInteractive(key) {\n",
              "          const element = document.querySelector('#df-a7944dda-0161-45d0-a318-24a69e8410dd');\n",
              "          const dataTable =\n",
              "            await google.colab.kernel.invokeFunction('convertToInteractive',\n",
              "                                                     [key], {});\n",
              "          if (!dataTable) return;\n",
              "\n",
              "          const docLinkHtml = 'Like what you see? Visit the ' +\n",
              "            '<a target=\"_blank\" href=https://colab.research.google.com/notebooks/data_table.ipynb>data table notebook</a>'\n",
              "            + ' to learn more about interactive tables.';\n",
              "          element.innerHTML = '';\n",
              "          dataTable['output_type'] = 'display_data';\n",
              "          await google.colab.output.renderOutput(dataTable, element);\n",
              "          const docLink = document.createElement('div');\n",
              "          docLink.innerHTML = docLinkHtml;\n",
              "          element.appendChild(docLink);\n",
              "        }\n",
              "      </script>\n",
              "    </div>\n",
              "  </div>\n",
              "  "
            ]
          },
          "metadata": {},
          "execution_count": 34
        }
      ],
      "source": [
        "tasas_aerolineas = calcular_tasa(df, 'OPERA')\n",
        "tasas_aerolineas"
      ]
    },
    {
      "cell_type": "code",
      "execution_count": null,
      "metadata": {
        "colab": {
          "base_uri": "https://localhost:8080/"
        },
        "id": "0fUnP3Ebb-pC",
        "outputId": "a3c1bd6e-f66a-4b31-f9b4-3ef71ce505b0"
      },
      "outputs": [
        {
          "output_type": "display_data",
          "data": {
            "text/plain": [
              "<Figure size 720x360 with 1 Axes>"
            ],
            "image/png": "[encoded data removed]"
          },
          "metadata": {}
        }
      ],
      "source": [
        "tasas_aerolineas_values = df['OPERA'].value_counts().index\n",
        "\n",
        "plt.figure(figsize = (10,5))\n",
        "sns.set(style=\"darkgrid\")\n",
        "sns.barplot(tasas_aerolineas_values, tasas_aerolineas['Tasa (%)'], alpha = 0.75)\n",
        "plt.title('Tasa de Retraso por Aerlínea')\n",
        "plt.ylabel('Tasa de Retraso [%]', fontsize=12)\n",
        "plt.xlabel('Aerolínea', fontsize=12)\n",
        "plt.xticks(rotation=90)\n",
        "plt.show()"
      ]
    },
    {
      "cell_type": "code",
      "execution_count": null,
      "metadata": {
        "collapsed": true,
        "jupyter": {
          "outputs_hidden": true
        },
        "colab": {
          "base_uri": "https://localhost:8080/"
        },
        "id": "tpAOZ0nOb-pC",
        "outputId": "9eb99be3-f039-4d86-cbe2-93ecc52e2976"
      },
      "outputs": [
        {
          "output_type": "execute_result",
          "data": {
            "text/plain": [
              "    Tasa (%)\n",
              "12      3.94\n",
              "1       6.25\n",
              "11      5.07\n",
              "10      4.43\n",
              "7       3.41\n",
              "8       5.77\n",
              "9       5.80\n",
              "2       6.60\n",
              "3       8.69\n",
              "5       6.34\n",
              "4       8.58\n",
              "6       5.85"
            ],
            "text/html": [
              "\n",
              "  <div id=\"df-352763b8-77ae-425d-9b96-73fbcbc24a4f\">\n",
              "    <div class=\"colab-df-container\">\n",
              "      <div>\n",
              "<style scoped>\n",
              "    .dataframe tbody tr th:only-of-type {\n",
              "        vertical-align: middle;\n",
              "    }\n",
              "\n",
              "    .dataframe tbody tr th {\n",
              "        vertical-align: top;\n",
              "    }\n",
              "\n",
              "    .dataframe thead th {\n",
              "        text-align: right;\n",
              "    }\n",
              "</style>\n",
              "<table border=\"1\" class=\"dataframe\">\n",
              "  <thead>\n",
              "    <tr style=\"text-align: right;\">\n",
              "      <th></th>\n",
              "      <th>Tasa (%)</th>\n",
              "    </tr>\n",
              "  </thead>\n",
              "  <tbody>\n",
              "    <tr>\n",
              "      <th>12</th>\n",
              "      <td>3.94</td>\n",
              "    </tr>\n",
              "    <tr>\n",
              "      <th>1</th>\n",
              "      <td>6.25</td>\n",
              "    </tr>\n",
              "    <tr>\n",
              "      <th>11</th>\n",
              "      <td>5.07</td>\n",
              "    </tr>\n",
              "    <tr>\n",
              "      <th>10</th>\n",
              "      <td>4.43</td>\n",
              "    </tr>\n",
              "    <tr>\n",
              "      <th>7</th>\n",
              "      <td>3.41</td>\n",
              "    </tr>\n",
              "    <tr>\n",
              "      <th>8</th>\n",
              "      <td>5.77</td>\n",
              "    </tr>\n",
              "    <tr>\n",
              "      <th>9</th>\n",
              "      <td>5.80</td>\n",
              "    </tr>\n",
              "    <tr>\n",
              "      <th>2</th>\n",
              "      <td>6.60</td>\n",
              "    </tr>\n",
              "    <tr>\n",
              "      <th>3</th>\n",
              "      <td>8.69</td>\n",
              "    </tr>\n",
              "    <tr>\n",
              "      <th>5</th>\n",
              "      <td>6.34</td>\n",
              "    </tr>\n",
              "    <tr>\n",
              "      <th>4</th>\n",
              "      <td>8.58</td>\n",
              "    </tr>\n",
              "    <tr>\n",
              "      <th>6</th>\n",
              "      <td>5.85</td>\n",
              "    </tr>\n",
              "  </tbody>\n",
              "</table>\n",
              "</div>\n",
              "      <button class=\"colab-df-convert\" onclick=\"convertToInteractive('df-352763b8-77ae-425d-9b96-73fbcbc24a4f')\"\n",
              "              title=\"Convert this dataframe to an interactive table.\"\n",
              "              style=\"display:none;\">\n",
              "        \n",
              "  <svg xmlns=\"http://www.w3.org/2000/svg\" height=\"24px\"viewBox=\"0 0 24 24\"\n",
              "       width=\"24px\">\n",
              "    <path d=\"M0 0h24v24H0V0z\" fill=\"none\"/>\n",
              "    <path d=\"M18.56 5.44l.94 2.06.94-2.06 2.06-.94-2.06-.94-.94-2.06-.94 2.06-2.06.94zm-11 1L8.5 8.5l.94-2.06 2.06-.94-2.06-.94L8.5 2.5l-.94 2.06-2.06.94zm10 10l.94 2.06.94-2.06 2.06-.94-2.06-.94-.94-2.06-.94 2.06-2.06.94z\"/><path d=\"M17.41 7.96l-1.37-1.37c-.4-.4-.92-.59-1.43-.59-.52 0-1.04.2-1.43.59L10.3 9.45l-7.72 7.72c-.78.78-.78 2.05 0 2.83L4 21.41c.39.39.9.59 1.41.59.51 0 1.02-.2 1.41-.59l7.78-7.78 2.81-2.81c.8-.78.8-2.07 0-2.86zM5.41 20L4 18.59l7.72-7.72 1.47 1.35L5.41 20z\"/>\n",
              "  </svg>\n",
              "      </button>\n",
              "      \n",
              "  <style>\n",
              "    .colab-df-container {\n",
              "      display:flex;\n",
              "      flex-wrap:wrap;\n",
              "      gap: 12px;\n",
              "    }\n",
              "\n",
              "    .colab-df-convert {\n",
              "      background-color: #E8F0FE;\n",
              "      border: none;\n",
              "      border-radius: 50%;\n",
              "      cursor: pointer;\n",
              "      display: none;\n",
              "      fill: #1967D2;\n",
              "      height: 32px;\n",
              "      padding: 0 0 0 0;\n",
              "      width: 32px;\n",
              "    }\n",
              "\n",
              "    .colab-df-convert:hover {\n",
              "      background-color: #E2EBFA;\n",
              "      box-shadow: 0px 1px 2px rgba(60, 64, 67, 0.3), 0px 1px 3px 1px rgba(60, 64, 67, 0.15);\n",
              "      fill: #174EA6;\n",
              "    }\n",
              "\n",
              "    [theme=dark] .colab-df-convert {\n",
              "      background-color: #3B4455;\n",
              "      fill: #D2E3FC;\n",
              "    }\n",
              "\n",
              "    [theme=dark] .colab-df-convert:hover {\n",
              "      background-color: #434B5C;\n",
              "      box-shadow: 0px 1px 3px 1px rgba(0, 0, 0, 0.15);\n",
              "      filter: drop-shadow(0px 1px 2px rgba(0, 0, 0, 0.3));\n",
              "      fill: #FFFFFF;\n",
              "    }\n",
              "  </style>\n",
              "\n",
              "      <script>\n",
              "        const buttonEl =\n",
              "          document.querySelector('#df-352763b8-77ae-425d-9b96-73fbcbc24a4f button.colab-df-convert');\n",
              "        buttonEl.style.display =\n",
              "          google.colab.kernel.accessAllowed ? 'block' : 'none';\n",
              "\n",
              "        async function convertToInteractive(key) {\n",
              "          const element = document.querySelector('#df-352763b8-77ae-425d-9b96-73fbcbc24a4f');\n",
              "          const dataTable =\n",
              "            await google.colab.kernel.invokeFunction('convertToInteractive',\n",
              "                                                     [key], {});\n",
              "          if (!dataTable) return;\n",
              "\n",
              "          const docLinkHtml = 'Like what you see? Visit the ' +\n",
              "            '<a target=\"_blank\" href=https://colab.research.google.com/notebooks/data_table.ipynb>data table notebook</a>'\n",
              "            + ' to learn more about interactive tables.';\n",
              "          element.innerHTML = '';\n",
              "          dataTable['output_type'] = 'display_data';\n",
              "          await google.colab.output.renderOutput(dataTable, element);\n",
              "          const docLink = document.createElement('div');\n",
              "          docLink.innerHTML = docLinkHtml;\n",
              "          element.appendChild(docLink);\n",
              "        }\n",
              "      </script>\n",
              "    </div>\n",
              "  </div>\n",
              "  "
            ]
          },
          "metadata": {},
          "execution_count": 36
        }
      ],
      "source": [
        "tasas_meses = calcular_tasa(df, 'MES')\n",
        "tasas_meses"
      ]
    },
    {
      "cell_type": "code",
      "execution_count": null,
      "metadata": {
        "colab": {
          "base_uri": "https://localhost:8080/"
        },
        "id": "J2YFZ7Kfb-pD",
        "outputId": "1de8dbec-e9a5-485f-a8dd-b000c56742d7"
      },
      "outputs": [
        {
          "output_type": "display_data",
          "data": {
            "text/plain": [
              "<Figure size 720x360 with 1 Axes>"
            ],
            "image/png": "[encoded data removed]"
          },
          "metadata": {}
        }
      ],
      "source": [
        "tasas_meses_values = df['MES'].value_counts().index\n",
        "\n",
        "plt.figure(figsize = (10,5))\n",
        "sns.set(style=\"darkgrid\")\n",
        "sns.barplot(tasas_meses_values, tasas_meses['Tasa (%)'], color = 'blue', alpha = 0.75)\n",
        "plt.title('Tasa de Retraso por Mes')\n",
        "plt.ylabel('Tasa de Retraso [%]', fontsize=12)\n",
        "plt.xlabel('Meses', fontsize=12)\n",
        "plt.xticks(rotation=90)\n",
        "plt.ylim(0,10)\n",
        "plt.show()"
      ]
    },
    {
      "cell_type": "code",
      "execution_count": null,
      "metadata": {
        "colab": {
          "base_uri": "https://localhost:8080/"
        },
        "id": "hV53cFyGb-pD",
        "outputId": "83e132d9-c07a-473d-da6a-767ba9e8cb53"
      },
      "outputs": [
        {
          "output_type": "execute_result",
          "data": {
            "text/plain": [
              "           Tasa (%)\n",
              "Viernes        4.50\n",
              "Jueves         5.01\n",
              "Lunes          4.95\n",
              "Domingo        6.21\n",
              "Miercoles      5.85\n",
              "Martes         5.91\n",
              "Sabado         6.13"
            ],
            "text/html": [
              "\n",
              "  <div id=\"df-4684016a-5ce4-45b7-9561-30a70b211f79\">\n",
              "    <div class=\"colab-df-container\">\n",
              "      <div>\n",
              "<style scoped>\n",
              "    .dataframe tbody tr th:only-of-type {\n",
              "        vertical-align: middle;\n",
              "    }\n",
              "\n",
              "    .dataframe tbody tr th {\n",
              "        vertical-align: top;\n",
              "    }\n",
              "\n",
              "    .dataframe thead th {\n",
              "        text-align: right;\n",
              "    }\n",
              "</style>\n",
              "<table border=\"1\" class=\"dataframe\">\n",
              "  <thead>\n",
              "    <tr style=\"text-align: right;\">\n",
              "      <th></th>\n",
              "      <th>Tasa (%)</th>\n",
              "    </tr>\n",
              "  </thead>\n",
              "  <tbody>\n",
              "    <tr>\n",
              "      <th>Viernes</th>\n",
              "      <td>4.50</td>\n",
              "    </tr>\n",
              "    <tr>\n",
              "      <th>Jueves</th>\n",
              "      <td>5.01</td>\n",
              "    </tr>\n",
              "    <tr>\n",
              "      <th>Lunes</th>\n",
              "      <td>4.95</td>\n",
              "    </tr>\n",
              "    <tr>\n",
              "      <th>Domingo</th>\n",
              "      <td>6.21</td>\n",
              "    </tr>\n",
              "    <tr>\n",
              "      <th>Miercoles</th>\n",
              "      <td>5.85</td>\n",
              "    </tr>\n",
              "    <tr>\n",
              "      <th>Martes</th>\n",
              "      <td>5.91</td>\n",
              "    </tr>\n",
              "    <tr>\n",
              "      <th>Sabado</th>\n",
              "      <td>6.13</td>\n",
              "    </tr>\n",
              "  </tbody>\n",
              "</table>\n",
              "</div>\n",
              "      <button class=\"colab-df-convert\" onclick=\"convertToInteractive('df-4684016a-5ce4-45b7-9561-30a70b211f79')\"\n",
              "              title=\"Convert this dataframe to an interactive table.\"\n",
              "              style=\"display:none;\">\n",
              "        \n",
              "  <svg xmlns=\"http://www.w3.org/2000/svg\" height=\"24px\"viewBox=\"0 0 24 24\"\n",
              "       width=\"24px\">\n",
              "    <path d=\"M0 0h24v24H0V0z\" fill=\"none\"/>\n",
              "    <path d=\"M18.56 5.44l.94 2.06.94-2.06 2.06-.94-2.06-.94-.94-2.06-.94 2.06-2.06.94zm-11 1L8.5 8.5l.94-2.06 2.06-.94-2.06-.94L8.5 2.5l-.94 2.06-2.06.94zm10 10l.94 2.06.94-2.06 2.06-.94-2.06-.94-.94-2.06-.94 2.06-2.06.94z\"/><path d=\"M17.41 7.96l-1.37-1.37c-.4-.4-.92-.59-1.43-.59-.52 0-1.04.2-1.43.59L10.3 9.45l-7.72 7.72c-.78.78-.78 2.05 0 2.83L4 21.41c.39.39.9.59 1.41.59.51 0 1.02-.2 1.41-.59l7.78-7.78 2.81-2.81c.8-.78.8-2.07 0-2.86zM5.41 20L4 18.59l7.72-7.72 1.47 1.35L5.41 20z\"/>\n",
              "  </svg>\n",
              "      </button>\n",
              "      \n",
              "  <style>\n",
              "    .colab-df-container {\n",
              "      display:flex;\n",
              "      flex-wrap:wrap;\n",
              "      gap: 12px;\n",
              "    }\n",
              "\n",
              "    .colab-df-convert {\n",
              "      background-color: #E8F0FE;\n",
              "      border: none;\n",
              "      border-radius: 50%;\n",
              "      cursor: pointer;\n",
              "      display: none;\n",
              "      fill: #1967D2;\n",
              "      height: 32px;\n",
              "      padding: 0 0 0 0;\n",
              "      width: 32px;\n",
              "    }\n",
              "\n",
              "    .colab-df-convert:hover {\n",
              "      background-color: #E2EBFA;\n",
              "      box-shadow: 0px 1px 2px rgba(60, 64, 67, 0.3), 0px 1px 3px 1px rgba(60, 64, 67, 0.15);\n",
              "      fill: #174EA6;\n",
              "    }\n",
              "\n",
              "    [theme=dark] .colab-df-convert {\n",
              "      background-color: #3B4455;\n",
              "      fill: #D2E3FC;\n",
              "    }\n",
              "\n",
              "    [theme=dark] .colab-df-convert:hover {\n",
              "      background-color: #434B5C;\n",
              "      box-shadow: 0px 1px 3px 1px rgba(0, 0, 0, 0.15);\n",
              "      filter: drop-shadow(0px 1px 2px rgba(0, 0, 0, 0.3));\n",
              "      fill: #FFFFFF;\n",
              "    }\n",
              "  </style>\n",
              "\n",
              "      <script>\n",
              "        const buttonEl =\n",
              "          document.querySelector('#df-4684016a-5ce4-45b7-9561-30a70b211f79 button.colab-df-convert');\n",
              "        buttonEl.style.display =\n",
              "          google.colab.kernel.accessAllowed ? 'block' : 'none';\n",
              "\n",
              "        async function convertToInteractive(key) {\n",
              "          const element = document.querySelector('#df-4684016a-5ce4-45b7-9561-30a70b211f79');\n",
              "          const dataTable =\n",
              "            await google.colab.kernel.invokeFunction('convertToInteractive',\n",
              "                                                     [key], {});\n",
              "          if (!dataTable) return;\n",
              "\n",
              "          const docLinkHtml = 'Like what you see? Visit the ' +\n",
              "            '<a target=\"_blank\" href=https://colab.research.google.com/notebooks/data_table.ipynb>data table notebook</a>'\n",
              "            + ' to learn more about interactive tables.';\n",
              "          element.innerHTML = '';\n",
              "          dataTable['output_type'] = 'display_data';\n",
              "          await google.colab.output.renderOutput(dataTable, element);\n",
              "          const docLink = document.createElement('div');\n",
              "          docLink.innerHTML = docLinkHtml;\n",
              "          element.appendChild(docLink);\n",
              "        }\n",
              "      </script>\n",
              "    </div>\n",
              "  </div>\n",
              "  "
            ]
          },
          "metadata": {},
          "execution_count": 38
        }
      ],
      "source": [
        "tasas_dias = calcular_tasa(df, 'DIANOM')\n",
        "tasas_dias"
      ]
    },
    {
      "cell_type": "code",
      "execution_count": null,
      "metadata": {
        "colab": {
          "base_uri": "https://localhost:8080/"
        },
        "id": "5ViPrsxFb-pD",
        "outputId": "6d6e1c59-83ee-4393-f608-64a4dab0494c"
      },
      "outputs": [
        {
          "output_type": "display_data",
          "data": {
            "text/plain": [
              "<Figure size 576x432 with 1 Axes>"
            ],
            "image/png": "[encoded data removed]"
          },
          "metadata": {}
        }
      ],
      "source": [
        "tasas_dias_values = df['DIANOM'].value_counts().index\n",
        "\n",
        "sns.set(style=\"darkgrid\")\n",
        "plt.figure(figsize = (8,6))\n",
        "sns.barplot(tasas_dias_values, tasas_dias['Tasa (%)'], color = 'blue', alpha = 0.75)\n",
        "plt.title('Tasa de Retraso por Día')\n",
        "plt.ylabel('Tasa de Retraso [%]', fontsize=12)\n",
        "plt.xlabel('Días', fontsize=12)\n",
        "plt.xticks(rotation=90)\n",
        "plt.ylim(0,7)\n",
        "plt.show()"
      ]
    },
    {
      "cell_type": "code",
      "execution_count": null,
      "metadata": {
        "colab": {
          "base_uri": "https://localhost:8080/"
        },
        "id": "FxiSf6Rgb-pD",
        "outputId": "5d1625dd-5c0a-41d6-dbd5-01e0931d2659"
      },
      "outputs": [
        {
          "output_type": "execute_result",
          "data": {
            "text/plain": [
              "   Tasa (%)\n",
              "0      5.58\n",
              "1      5.08"
            ],
            "text/html": [
              "\n",
              "  <div id=\"df-77730793-c2a3-48a4-addf-ab8c8e34f5f6\">\n",
              "    <div class=\"colab-df-container\">\n",
              "      <div>\n",
              "<style scoped>\n",
              "    .dataframe tbody tr th:only-of-type {\n",
              "        vertical-align: middle;\n",
              "    }\n",
              "\n",
              "    .dataframe tbody tr th {\n",
              "        vertical-align: top;\n",
              "    }\n",
              "\n",
              "    .dataframe thead th {\n",
              "        text-align: right;\n",
              "    }\n",
              "</style>\n",
              "<table border=\"1\" class=\"dataframe\">\n",
              "  <thead>\n",
              "    <tr style=\"text-align: right;\">\n",
              "      <th></th>\n",
              "      <th>Tasa (%)</th>\n",
              "    </tr>\n",
              "  </thead>\n",
              "  <tbody>\n",
              "    <tr>\n",
              "      <th>0</th>\n",
              "      <td>5.58</td>\n",
              "    </tr>\n",
              "    <tr>\n",
              "      <th>1</th>\n",
              "      <td>5.08</td>\n",
              "    </tr>\n",
              "  </tbody>\n",
              "</table>\n",
              "</div>\n",
              "      <button class=\"colab-df-convert\" onclick=\"convertToInteractive('df-77730793-c2a3-48a4-addf-ab8c8e34f5f6')\"\n",
              "              title=\"Convert this dataframe to an interactive table.\"\n",
              "              style=\"display:none;\">\n",
              "        \n",
              "  <svg xmlns=\"http://www.w3.org/2000/svg\" height=\"24px\"viewBox=\"0 0 24 24\"\n",
              "       width=\"24px\">\n",
              "    <path d=\"M0 0h24v24H0V0z\" fill=\"none\"/>\n",
              "    <path d=\"M18.56 5.44l.94 2.06.94-2.06 2.06-.94-2.06-.94-.94-2.06-.94 2.06-2.06.94zm-11 1L8.5 8.5l.94-2.06 2.06-.94-2.06-.94L8.5 2.5l-.94 2.06-2.06.94zm10 10l.94 2.06.94-2.06 2.06-.94-2.06-.94-.94-2.06-.94 2.06-2.06.94z\"/><path d=\"M17.41 7.96l-1.37-1.37c-.4-.4-.92-.59-1.43-.59-.52 0-1.04.2-1.43.59L10.3 9.45l-7.72 7.72c-.78.78-.78 2.05 0 2.83L4 21.41c.39.39.9.59 1.41.59.51 0 1.02-.2 1.41-.59l7.78-7.78 2.81-2.81c.8-.78.8-2.07 0-2.86zM5.41 20L4 18.59l7.72-7.72 1.47 1.35L5.41 20z\"/>\n",
              "  </svg>\n",
              "      </button>\n",
              "      \n",
              "  <style>\n",
              "    .colab-df-container {\n",
              "      display:flex;\n",
              "      flex-wrap:wrap;\n",
              "      gap: 12px;\n",
              "    }\n",
              "\n",
              "    .colab-df-convert {\n",
              "      background-color: #E8F0FE;\n",
              "      border: none;\n",
              "      border-radius: 50%;\n",
              "      cursor: pointer;\n",
              "      display: none;\n",
              "      fill: #1967D2;\n",
              "      height: 32px;\n",
              "      padding: 0 0 0 0;\n",
              "      width: 32px;\n",
              "    }\n",
              "\n",
              "    .colab-df-convert:hover {\n",
              "      background-color: #E2EBFA;\n",
              "      box-shadow: 0px 1px 2px rgba(60, 64, 67, 0.3), 0px 1px 3px 1px rgba(60, 64, 67, 0.15);\n",
              "      fill: #174EA6;\n",
              "    }\n",
              "\n",
              "    [theme=dark] .colab-df-convert {\n",
              "      background-color: #3B4455;\n",
              "      fill: #D2E3FC;\n",
              "    }\n",
              "\n",
              "    [theme=dark] .colab-df-convert:hover {\n",
              "      background-color: #434B5C;\n",
              "      box-shadow: 0px 1px 3px 1px rgba(0, 0, 0, 0.15);\n",
              "      filter: drop-shadow(0px 1px 2px rgba(0, 0, 0, 0.3));\n",
              "      fill: #FFFFFF;\n",
              "    }\n",
              "  </style>\n",
              "\n",
              "      <script>\n",
              "        const buttonEl =\n",
              "          document.querySelector('#df-77730793-c2a3-48a4-addf-ab8c8e34f5f6 button.colab-df-convert');\n",
              "        buttonEl.style.display =\n",
              "          google.colab.kernel.accessAllowed ? 'block' : 'none';\n",
              "\n",
              "        async function convertToInteractive(key) {\n",
              "          const element = document.querySelector('#df-77730793-c2a3-48a4-addf-ab8c8e34f5f6');\n",
              "          const dataTable =\n",
              "            await google.colab.kernel.invokeFunction('convertToInteractive',\n",
              "                                                     [key], {});\n",
              "          if (!dataTable) return;\n",
              "\n",
              "          const docLinkHtml = 'Like what you see? Visit the ' +\n",
              "            '<a target=\"_blank\" href=https://colab.research.google.com/notebooks/data_table.ipynb>data table notebook</a>'\n",
              "            + ' to learn more about interactive tables.';\n",
              "          element.innerHTML = '';\n",
              "          dataTable['output_type'] = 'display_data';\n",
              "          await google.colab.output.renderOutput(dataTable, element);\n",
              "          const docLink = document.createElement('div');\n",
              "          docLink.innerHTML = docLinkHtml;\n",
              "          element.appendChild(docLink);\n",
              "        }\n",
              "      </script>\n",
              "    </div>\n",
              "  </div>\n",
              "  "
            ]
          },
          "metadata": {},
          "execution_count": 40
        }
      ],
      "source": [
        "tasas_temporada = calcular_tasa(df, 'temporada_alta')\n",
        "tasas_temporada"
      ]
    },
    {
      "cell_type": "code",
      "execution_count": null,
      "metadata": {
        "colab": {
          "base_uri": "https://localhost:8080/"
        },
        "id": "1f3hJ4P1b-pD",
        "outputId": "a7c05bbc-0793-403e-d18d-676cbad2de58"
      },
      "outputs": [
        {
          "output_type": "display_data",
          "data": {
            "text/plain": [
              "<Figure size 576x360 with 1 Axes>"
            ],
            "image/png": "[encoded data removed]"
          },
          "metadata": {}
        }
      ],
      "source": [
        "tasas_temporada_values = df['temporada_alta'].value_counts().index\n",
        "\n",
        "plt.figure(figsize = (8, 5))\n",
        "sns.set(style=\"darkgrid\")\n",
        "sns.barplot(tasas_temporada_values, tasas_temporada['Tasa (%)'])\n",
        "plt.title('Tasa de Retraso por Temporada')\n",
        "plt.ylabel('Tasa de Retraso [%]', fontsize=12)\n",
        "plt.xlabel('Temporada', fontsize=12)\n",
        "plt.xticks(rotation=90)\n",
        "plt.ylim(0,6)\n",
        "plt.show()"
      ]
    },
    {
      "cell_type": "code",
      "execution_count": null,
      "metadata": {
        "colab": {
          "base_uri": "https://localhost:8080/"
        },
        "id": "IoZwuVBGb-pE",
        "outputId": "b4c3dfce-51a4-473b-c82e-261b72ac927e"
      },
      "outputs": [
        {
          "output_type": "execute_result",
          "data": {
            "text/plain": [
              "   Tasa (%)\n",
              "N      6.64\n",
              "I      4.43"
            ],
            "text/html": [
              "\n",
              "  <div id=\"df-3692fa1b-fb80-4ce1-b2d3-f1743d92a4f5\">\n",
              "    <div class=\"colab-df-container\">\n",
              "      <div>\n",
              "<style scoped>\n",
              "    .dataframe tbody tr th:only-of-type {\n",
              "        vertical-align: middle;\n",
              "    }\n",
              "\n",
              "    .dataframe tbody tr th {\n",
              "        vertical-align: top;\n",
              "    }\n",
              "\n",
              "    .dataframe thead th {\n",
              "        text-align: right;\n",
              "    }\n",
              "</style>\n",
              "<table border=\"1\" class=\"dataframe\">\n",
              "  <thead>\n",
              "    <tr style=\"text-align: right;\">\n",
              "      <th></th>\n",
              "      <th>Tasa (%)</th>\n",
              "    </tr>\n",
              "  </thead>\n",
              "  <tbody>\n",
              "    <tr>\n",
              "      <th>N</th>\n",
              "      <td>6.64</td>\n",
              "    </tr>\n",
              "    <tr>\n",
              "      <th>I</th>\n",
              "      <td>4.43</td>\n",
              "    </tr>\n",
              "  </tbody>\n",
              "</table>\n",
              "</div>\n",
              "      <button class=\"colab-df-convert\" onclick=\"convertToInteractive('df-3692fa1b-fb80-4ce1-b2d3-f1743d92a4f5')\"\n",
              "              title=\"Convert this dataframe to an interactive table.\"\n",
              "              style=\"display:none;\">\n",
              "        \n",
              "  <svg xmlns=\"http://www.w3.org/2000/svg\" height=\"24px\"viewBox=\"0 0 24 24\"\n",
              "       width=\"24px\">\n",
              "    <path d=\"M0 0h24v24H0V0z\" fill=\"none\"/>\n",
              "    <path d=\"M18.56 5.44l.94 2.06.94-2.06 2.06-.94-2.06-.94-.94-2.06-.94 2.06-2.06.94zm-11 1L8.5 8.5l.94-2.06 2.06-.94-2.06-.94L8.5 2.5l-.94 2.06-2.06.94zm10 10l.94 2.06.94-2.06 2.06-.94-2.06-.94-.94-2.06-.94 2.06-2.06.94z\"/><path d=\"M17.41 7.96l-1.37-1.37c-.4-.4-.92-.59-1.43-.59-.52 0-1.04.2-1.43.59L10.3 9.45l-7.72 7.72c-.78.78-.78 2.05 0 2.83L4 21.41c.39.39.9.59 1.41.59.51 0 1.02-.2 1.41-.59l7.78-7.78 2.81-2.81c.8-.78.8-2.07 0-2.86zM5.41 20L4 18.59l7.72-7.72 1.47 1.35L5.41 20z\"/>\n",
              "  </svg>\n",
              "      </button>\n",
              "      \n",
              "  <style>\n",
              "    .colab-df-container {\n",
              "      display:flex;\n",
              "      flex-wrap:wrap;\n",
              "      gap: 12px;\n",
              "    }\n",
              "\n",
              "    .colab-df-convert {\n",
              "      background-color: #E8F0FE;\n",
              "      border: none;\n",
              "      border-radius: 50%;\n",
              "      cursor: pointer;\n",
              "      display: none;\n",
              "      fill: #1967D2;\n",
              "      height: 32px;\n",
              "      padding: 0 0 0 0;\n",
              "      width: 32px;\n",
              "    }\n",
              "\n",
              "    .colab-df-convert:hover {\n",
              "      background-color: #E2EBFA;\n",
              "      box-shadow: 0px 1px 2px rgba(60, 64, 67, 0.3), 0px 1px 3px 1px rgba(60, 64, 67, 0.15);\n",
              "      fill: #174EA6;\n",
              "    }\n",
              "\n",
              "    [theme=dark] .colab-df-convert {\n",
              "      background-color: #3B4455;\n",
              "      fill: #D2E3FC;\n",
              "    }\n",
              "\n",
              "    [theme=dark] .colab-df-convert:hover {\n",
              "      background-color: #434B5C;\n",
              "      box-shadow: 0px 1px 3px 1px rgba(0, 0, 0, 0.15);\n",
              "      filter: drop-shadow(0px 1px 2px rgba(0, 0, 0, 0.3));\n",
              "      fill: #FFFFFF;\n",
              "    }\n",
              "  </style>\n",
              "\n",
              "      <script>\n",
              "        const buttonEl =\n",
              "          document.querySelector('#df-3692fa1b-fb80-4ce1-b2d3-f1743d92a4f5 button.colab-df-convert');\n",
              "        buttonEl.style.display =\n",
              "          google.colab.kernel.accessAllowed ? 'block' : 'none';\n",
              "\n",
              "        async function convertToInteractive(key) {\n",
              "          const element = document.querySelector('#df-3692fa1b-fb80-4ce1-b2d3-f1743d92a4f5');\n",
              "          const dataTable =\n",
              "            await google.colab.kernel.invokeFunction('convertToInteractive',\n",
              "                                                     [key], {});\n",
              "          if (!dataTable) return;\n",
              "\n",
              "          const docLinkHtml = 'Like what you see? Visit the ' +\n",
              "            '<a target=\"_blank\" href=https://colab.research.google.com/notebooks/data_table.ipynb>data table notebook</a>'\n",
              "            + ' to learn more about interactive tables.';\n",
              "          element.innerHTML = '';\n",
              "          dataTable['output_type'] = 'display_data';\n",
              "          await google.colab.output.renderOutput(dataTable, element);\n",
              "          const docLink = document.createElement('div');\n",
              "          docLink.innerHTML = docLinkHtml;\n",
              "          element.appendChild(docLink);\n",
              "        }\n",
              "      </script>\n",
              "    </div>\n",
              "  </div>\n",
              "  "
            ]
          },
          "metadata": {},
          "execution_count": 42
        }
      ],
      "source": [
        "tasas_tipovuelo = calcular_tasa(df, 'TIPOVUELO')\n",
        "tasas_tipovuelo"
      ]
    },
    {
      "cell_type": "code",
      "execution_count": null,
      "metadata": {
        "colab": {
          "base_uri": "https://localhost:8080/"
        },
        "id": "BHt_HIUSb-pE",
        "outputId": "1e7c64a1-8dff-4359-94c2-f3f5f107da70"
      },
      "outputs": [
        {
          "output_type": "display_data",
          "data": {
            "text/plain": [
              "<Figure size 360x360 with 1 Axes>"
            ],
            "image/png": "[encoded data removed]"
          },
          "metadata": {}
        }
      ],
      "source": [
        "tasas_tipovuelo_values = df['TIPOVUELO'].value_counts().index\n",
        "\n",
        "plt.figure(figsize = (5,5))\n",
        "sns.set(style=\"darkgrid\")\n",
        "sns.barplot(tasas_tipovuelo_values, tasas_tipovuelo['Tasa (%)'])\n",
        "plt.title('Tasa de Retraso por Tipo de Vuelo')\n",
        "plt.ylabel('Tasa de Retraso [%]', fontsize=12)\n",
        "plt.xlabel('Tipo de Vuelo', fontsize=12)\n",
        "plt.ylim(0,7)\n",
        "plt.show()"
      ]
    },
    {
      "cell_type": "code",
      "execution_count": null,
      "metadata": {
        "colab": {
          "base_uri": "https://localhost:8080/"
        },
        "id": "f3lJ50vBb-pE",
        "outputId": "7ee51ba2-1849-4cc9-de4f-78b8ff5f36c8"
      },
      "outputs": [
        {
          "output_type": "execute_result",
          "data": {
            "text/plain": [
              "        Tasa (%)\n",
              "tarde       5.06\n",
              "mañana      6.21\n",
              "noche       5.02"
            ],
            "text/html": [
              "\n",
              "  <div id=\"df-87ef6984-d550-4533-aa01-c2d7fbff141a\">\n",
              "    <div class=\"colab-df-container\">\n",
              "      <div>\n",
              "<style scoped>\n",
              "    .dataframe tbody tr th:only-of-type {\n",
              "        vertical-align: middle;\n",
              "    }\n",
              "\n",
              "    .dataframe tbody tr th {\n",
              "        vertical-align: top;\n",
              "    }\n",
              "\n",
              "    .dataframe thead th {\n",
              "        text-align: right;\n",
              "    }\n",
              "</style>\n",
              "<table border=\"1\" class=\"dataframe\">\n",
              "  <thead>\n",
              "    <tr style=\"text-align: right;\">\n",
              "      <th></th>\n",
              "      <th>Tasa (%)</th>\n",
              "    </tr>\n",
              "  </thead>\n",
              "  <tbody>\n",
              "    <tr>\n",
              "      <th>tarde</th>\n",
              "      <td>5.06</td>\n",
              "    </tr>\n",
              "    <tr>\n",
              "      <th>mañana</th>\n",
              "      <td>6.21</td>\n",
              "    </tr>\n",
              "    <tr>\n",
              "      <th>noche</th>\n",
              "      <td>5.02</td>\n",
              "    </tr>\n",
              "  </tbody>\n",
              "</table>\n",
              "</div>\n",
              "      <button class=\"colab-df-convert\" onclick=\"convertToInteractive('df-87ef6984-d550-4533-aa01-c2d7fbff141a')\"\n",
              "              title=\"Convert this dataframe to an interactive table.\"\n",
              "              style=\"display:none;\">\n",
              "        \n",
              "  <svg xmlns=\"http://www.w3.org/2000/svg\" height=\"24px\"viewBox=\"0 0 24 24\"\n",
              "       width=\"24px\">\n",
              "    <path d=\"M0 0h24v24H0V0z\" fill=\"none\"/>\n",
              "    <path d=\"M18.56 5.44l.94 2.06.94-2.06 2.06-.94-2.06-.94-.94-2.06-.94 2.06-2.06.94zm-11 1L8.5 8.5l.94-2.06 2.06-.94-2.06-.94L8.5 2.5l-.94 2.06-2.06.94zm10 10l.94 2.06.94-2.06 2.06-.94-2.06-.94-.94-2.06-.94 2.06-2.06.94z\"/><path d=\"M17.41 7.96l-1.37-1.37c-.4-.4-.92-.59-1.43-.59-.52 0-1.04.2-1.43.59L10.3 9.45l-7.72 7.72c-.78.78-.78 2.05 0 2.83L4 21.41c.39.39.9.59 1.41.59.51 0 1.02-.2 1.41-.59l7.78-7.78 2.81-2.81c.8-.78.8-2.07 0-2.86zM5.41 20L4 18.59l7.72-7.72 1.47 1.35L5.41 20z\"/>\n",
              "  </svg>\n",
              "      </button>\n",
              "      \n",
              "  <style>\n",
              "    .colab-df-container {\n",
              "      display:flex;\n",
              "      flex-wrap:wrap;\n",
              "      gap: 12px;\n",
              "    }\n",
              "\n",
              "    .colab-df-convert {\n",
              "      background-color: #E8F0FE;\n",
              "      border: none;\n",
              "      border-radius: 50%;\n",
              "      cursor: pointer;\n",
              "      display: none;\n",
              "      fill: #1967D2;\n",
              "      height: 32px;\n",
              "      padding: 0 0 0 0;\n",
              "      width: 32px;\n",
              "    }\n",
              "\n",
              "    .colab-df-convert:hover {\n",
              "      background-color: #E2EBFA;\n",
              "      box-shadow: 0px 1px 2px rgba(60, 64, 67, 0.3), 0px 1px 3px 1px rgba(60, 64, 67, 0.15);\n",
              "      fill: #174EA6;\n",
              "    }\n",
              "\n",
              "    [theme=dark] .colab-df-convert {\n",
              "      background-color: #3B4455;\n",
              "      fill: #D2E3FC;\n",
              "    }\n",
              "\n",
              "    [theme=dark] .colab-df-convert:hover {\n",
              "      background-color: #434B5C;\n",
              "      box-shadow: 0px 1px 3px 1px rgba(0, 0, 0, 0.15);\n",
              "      filter: drop-shadow(0px 1px 2px rgba(0, 0, 0, 0.3));\n",
              "      fill: #FFFFFF;\n",
              "    }\n",
              "  </style>\n",
              "\n",
              "      <script>\n",
              "        const buttonEl =\n",
              "          document.querySelector('#df-87ef6984-d550-4533-aa01-c2d7fbff141a button.colab-df-convert');\n",
              "        buttonEl.style.display =\n",
              "          google.colab.kernel.accessAllowed ? 'block' : 'none';\n",
              "\n",
              "        async function convertToInteractive(key) {\n",
              "          const element = document.querySelector('#df-87ef6984-d550-4533-aa01-c2d7fbff141a');\n",
              "          const dataTable =\n",
              "            await google.colab.kernel.invokeFunction('convertToInteractive',\n",
              "                                                     [key], {});\n",
              "          if (!dataTable) return;\n",
              "\n",
              "          const docLinkHtml = 'Like what you see? Visit the ' +\n",
              "            '<a target=\"_blank\" href=https://colab.research.google.com/notebooks/data_table.ipynb>data table notebook</a>'\n",
              "            + ' to learn more about interactive tables.';\n",
              "          element.innerHTML = '';\n",
              "          dataTable['output_type'] = 'display_data';\n",
              "          await google.colab.output.renderOutput(dataTable, element);\n",
              "          const docLink = document.createElement('div');\n",
              "          docLink.innerHTML = docLinkHtml;\n",
              "          element.appendChild(docLink);\n",
              "        }\n",
              "      </script>\n",
              "    </div>\n",
              "  </div>\n",
              "  "
            ]
          },
          "metadata": {},
          "execution_count": 44
        }
      ],
      "source": [
        "tasa_periododia = calcular_tasa(df, 'periodo_dia')\n",
        "tasa_periododia"
      ]
    },
    {
      "cell_type": "code",
      "execution_count": null,
      "metadata": {
        "colab": {
          "base_uri": "https://localhost:8080/"
        },
        "id": "UjnrDQaQb-pE",
        "outputId": "b3c08301-677e-420d-b7cb-d5e4c0364a0f"
      },
      "outputs": [
        {
          "output_type": "display_data",
          "data": {
            "text/plain": [
              "<Figure size 360x360 with 1 Axes>"
            ],
            "image/png": "[encoded data removed]"
          },
          "metadata": {}
        }
      ],
      "source": [
        "tasas_periodo_values = df['periodo_dia'].value_counts().index\n",
        "\n",
        "plt.figure(figsize = (5,5))\n",
        "sns.set(style=\"darkgrid\")\n",
        "sns.barplot(tasas_periodo_values, tasa_periododia['Tasa (%)'])\n",
        "plt.title('Tasa de Retraso por Periodo')\n",
        "plt.ylabel('Tasa de Retraso [%]', fontsize=12)\n",
        "plt.xlabel('Tipo de Periodo', fontsize=12)\n",
        "plt.ylim(3,7)\n",
        "plt.show()"
      ]
    },
    {
      "cell_type": "markdown",
      "metadata": {
        "id": "cjax90aib-pE"
      },
      "source": [
        "* ¿Qué variables esperarías que más influyeran en predecir atrasos?"
      ]
    },
    {
      "cell_type": "markdown",
      "metadata": {
        "id": "r_wWBjAPb-pE"
      },
      "source": [
        "Me parece que las que más podrían influir serían:\n",
        "* **Aerolíneas**: Dependiendo de la calidad de gestión de cada aerolínea puede ser que afecte en sus programaciones. También puede que afecte el tipo de aerolínea, si es una low cost por ejemplo, estas llevan menos equipaje ya que es un costo extra para cada pasajero por lo que el tiempo de carga es menor, corriendo menor riesgo de retraso. \n",
        "* **Tipo de Vuelo**: esto puede afectar en cómo esté el clima del país de destino. Por ejemplo si se tiene que volar a argentina y se tiene que cruzar por la cordillera y hay un mal clima, es posible que se tenga que esperar un rato para poder salir.\n",
        "* **Mes**: Esto va un poco de la mano con lo anterior, si es que es un mes del año donde el clima no es lo suficientemente adecuado, se tendría que esperar.  \n",
        " \n",
        "* **Destino**: De acuerdo al gráfico Tasa de Atraso por destino, se puede apreciar que las tasas no son homogéneas, es decir, sabiendo el destino, ya se puede predecir una cierta tasa y por lo tanto la clase 0 o 1 de atraso."
      ]
    },
    {
      "cell_type": "markdown",
      "metadata": {
        "id": "vNYXjI7xb-pF"
      },
      "source": [
        "### 4. Entrena uno o varios modelos (usando el/los algoritmo(s) que prefieras) para estimar la probabilidad de atraso de un vuelo. Siéntete libre de generar variables adicionales y/o complementar con variables externas."
      ]
    },
    {
      "cell_type": "code",
      "execution_count": null,
      "metadata": {
        "id": "W2stanVqb-pF"
      },
      "outputs": [],
      "source": [
        "from sklearn.model_selection import train_test_split\n",
        "from sklearn.utils import shuffle\n",
        "from sklearn.linear_model import LogisticRegression\n",
        "from sklearn.metrics import confusion_matrix, classification_report"
      ]
    },
    {
      "cell_type": "code",
      "execution_count": null,
      "metadata": {
        "id": "ljoM_saBb-pF"
      },
      "outputs": [],
      "source": [
        "data = shuffle(df[['OPERA', 'MES', 'TIPOVUELO', 'SIGLADES', 'DIANOM', 'atraso_15']], random_state = 111)"
      ]
    },
    {
      "cell_type": "markdown",
      "source": [
        "Veamos las primeras líneas de data."
      ],
      "metadata": {
        "id": "8-MaulUjwxLQ"
      }
    },
    {
      "cell_type": "code",
      "source": [
        "data.head()"
      ],
      "metadata": {
        "id": "pofv88lMw1kg",
        "colab": {
          "base_uri": "https://localhost:8080/",
          "height": 206
        },
        "outputId": "77b7ac19-73eb-41b4-eb61-545f6ce72c5b"
      },
      "execution_count": null,
      "outputs": [
        {
          "output_type": "execute_result",
          "data": {
            "text/plain": [
              "             OPERA  MES TIPOVUELO     SIGLADES     DIANOM  atraso_15\n",
              "13375  Sky Airline    3         N  Antofagasta    Viernes          0\n",
              "35799  Grupo LATAM    7         N   Concepcion     Jueves          0\n",
              "48176  Grupo LATAM    9         N        Arica  Miercoles          0\n",
              "58675  Grupo LATAM   11         N      Iquique    Viernes          0\n",
              "23374  Sky Airline    5         N     Valdivia      Lunes          0"
            ],
            "text/html": [
              "\n",
              "  <div id=\"df-40fd9b45-7df1-4384-bccb-e6762c9a9862\">\n",
              "    <div class=\"colab-df-container\">\n",
              "      <div>\n",
              "<style scoped>\n",
              "    .dataframe tbody tr th:only-of-type {\n",
              "        vertical-align: middle;\n",
              "    }\n",
              "\n",
              "    .dataframe tbody tr th {\n",
              "        vertical-align: top;\n",
              "    }\n",
              "\n",
              "    .dataframe thead th {\n",
              "        text-align: right;\n",
              "    }\n",
              "</style>\n",
              "<table border=\"1\" class=\"dataframe\">\n",
              "  <thead>\n",
              "    <tr style=\"text-align: right;\">\n",
              "      <th></th>\n",
              "      <th>OPERA</th>\n",
              "      <th>MES</th>\n",
              "      <th>TIPOVUELO</th>\n",
              "      <th>SIGLADES</th>\n",
              "      <th>DIANOM</th>\n",
              "      <th>atraso_15</th>\n",
              "    </tr>\n",
              "  </thead>\n",
              "  <tbody>\n",
              "    <tr>\n",
              "      <th>13375</th>\n",
              "      <td>Sky Airline</td>\n",
              "      <td>3</td>\n",
              "      <td>N</td>\n",
              "      <td>Antofagasta</td>\n",
              "      <td>Viernes</td>\n",
              "      <td>0</td>\n",
              "    </tr>\n",
              "    <tr>\n",
              "      <th>35799</th>\n",
              "      <td>Grupo LATAM</td>\n",
              "      <td>7</td>\n",
              "      <td>N</td>\n",
              "      <td>Concepcion</td>\n",
              "      <td>Jueves</td>\n",
              "      <td>0</td>\n",
              "    </tr>\n",
              "    <tr>\n",
              "      <th>48176</th>\n",
              "      <td>Grupo LATAM</td>\n",
              "      <td>9</td>\n",
              "      <td>N</td>\n",
              "      <td>Arica</td>\n",
              "      <td>Miercoles</td>\n",
              "      <td>0</td>\n",
              "    </tr>\n",
              "    <tr>\n",
              "      <th>58675</th>\n",
              "      <td>Grupo LATAM</td>\n",
              "      <td>11</td>\n",
              "      <td>N</td>\n",
              "      <td>Iquique</td>\n",
              "      <td>Viernes</td>\n",
              "      <td>0</td>\n",
              "    </tr>\n",
              "    <tr>\n",
              "      <th>23374</th>\n",
              "      <td>Sky Airline</td>\n",
              "      <td>5</td>\n",
              "      <td>N</td>\n",
              "      <td>Valdivia</td>\n",
              "      <td>Lunes</td>\n",
              "      <td>0</td>\n",
              "    </tr>\n",
              "  </tbody>\n",
              "</table>\n",
              "</div>\n",
              "      <button class=\"colab-df-convert\" onclick=\"convertToInteractive('df-40fd9b45-7df1-4384-bccb-e6762c9a9862')\"\n",
              "              title=\"Convert this dataframe to an interactive table.\"\n",
              "              style=\"display:none;\">\n",
              "        \n",
              "  <svg xmlns=\"http://www.w3.org/2000/svg\" height=\"24px\"viewBox=\"0 0 24 24\"\n",
              "       width=\"24px\">\n",
              "    <path d=\"M0 0h24v24H0V0z\" fill=\"none\"/>\n",
              "    <path d=\"M18.56 5.44l.94 2.06.94-2.06 2.06-.94-2.06-.94-.94-2.06-.94 2.06-2.06.94zm-11 1L8.5 8.5l.94-2.06 2.06-.94-2.06-.94L8.5 2.5l-.94 2.06-2.06.94zm10 10l.94 2.06.94-2.06 2.06-.94-2.06-.94-.94-2.06-.94 2.06-2.06.94z\"/><path d=\"M17.41 7.96l-1.37-1.37c-.4-.4-.92-.59-1.43-.59-.52 0-1.04.2-1.43.59L10.3 9.45l-7.72 7.72c-.78.78-.78 2.05 0 2.83L4 21.41c.39.39.9.59 1.41.59.51 0 1.02-.2 1.41-.59l7.78-7.78 2.81-2.81c.8-.78.8-2.07 0-2.86zM5.41 20L4 18.59l7.72-7.72 1.47 1.35L5.41 20z\"/>\n",
              "  </svg>\n",
              "      </button>\n",
              "      \n",
              "  <style>\n",
              "    .colab-df-container {\n",
              "      display:flex;\n",
              "      flex-wrap:wrap;\n",
              "      gap: 12px;\n",
              "    }\n",
              "\n",
              "    .colab-df-convert {\n",
              "      background-color: #E8F0FE;\n",
              "      border: none;\n",
              "      border-radius: 50%;\n",
              "      cursor: pointer;\n",
              "      display: none;\n",
              "      fill: #1967D2;\n",
              "      height: 32px;\n",
              "      padding: 0 0 0 0;\n",
              "      width: 32px;\n",
              "    }\n",
              "\n",
              "    .colab-df-convert:hover {\n",
              "      background-color: #E2EBFA;\n",
              "      box-shadow: 0px 1px 2px rgba(60, 64, 67, 0.3), 0px 1px 3px 1px rgba(60, 64, 67, 0.15);\n",
              "      fill: #174EA6;\n",
              "    }\n",
              "\n",
              "    [theme=dark] .colab-df-convert {\n",
              "      background-color: #3B4455;\n",
              "      fill: #D2E3FC;\n",
              "    }\n",
              "\n",
              "    [theme=dark] .colab-df-convert:hover {\n",
              "      background-color: #434B5C;\n",
              "      box-shadow: 0px 1px 3px 1px rgba(0, 0, 0, 0.15);\n",
              "      filter: drop-shadow(0px 1px 2px rgba(0, 0, 0, 0.3));\n",
              "      fill: #FFFFFF;\n",
              "    }\n",
              "  </style>\n",
              "\n",
              "      <script>\n",
              "        const buttonEl =\n",
              "          document.querySelector('#df-40fd9b45-7df1-4384-bccb-e6762c9a9862 button.colab-df-convert');\n",
              "        buttonEl.style.display =\n",
              "          google.colab.kernel.accessAllowed ? 'block' : 'none';\n",
              "\n",
              "        async function convertToInteractive(key) {\n",
              "          const element = document.querySelector('#df-40fd9b45-7df1-4384-bccb-e6762c9a9862');\n",
              "          const dataTable =\n",
              "            await google.colab.kernel.invokeFunction('convertToInteractive',\n",
              "                                                     [key], {});\n",
              "          if (!dataTable) return;\n",
              "\n",
              "          const docLinkHtml = 'Like what you see? Visit the ' +\n",
              "            '<a target=\"_blank\" href=https://colab.research.google.com/notebooks/data_table.ipynb>data table notebook</a>'\n",
              "            + ' to learn more about interactive tables.';\n",
              "          element.innerHTML = '';\n",
              "          dataTable['output_type'] = 'display_data';\n",
              "          await google.colab.output.renderOutput(dataTable, element);\n",
              "          const docLink = document.createElement('div');\n",
              "          docLink.innerHTML = docLinkHtml;\n",
              "          element.appendChild(docLink);\n",
              "        }\n",
              "      </script>\n",
              "    </div>\n",
              "  </div>\n",
              "  "
            ]
          },
          "metadata": {},
          "execution_count": 48
        }
      ]
    },
    {
      "cell_type": "code",
      "execution_count": null,
      "metadata": {
        "id": "PfhbOMgVb-pF"
      },
      "outputs": [],
      "source": [
        "features = pd.concat([pd.get_dummies(data['OPERA'], prefix = 'OPERA'),pd.get_dummies(data['TIPOVUELO'], prefix = 'TIPOVUELO'), pd.get_dummies(data['MES'], prefix = 'MES')], axis = 1)\n",
        "label = data['atraso_15']"
      ]
    },
    {
      "cell_type": "code",
      "source": [
        "features.head()"
      ],
      "metadata": {
        "id": "yA76jGFexLps",
        "colab": {
          "base_uri": "https://localhost:8080/",
          "height": 280
        },
        "outputId": "c3c8be0c-fe22-4929-e3ae-8510876d00df"
      },
      "execution_count": null,
      "outputs": [
        {
          "output_type": "execute_result",
          "data": {
            "text/plain": [
              "       OPERA_Aerolineas Argentinas  OPERA_Aeromexico  OPERA_Air Canada  \\\n",
              "13375                            0                 0                 0   \n",
              "35799                            0                 0                 0   \n",
              "48176                            0                 0                 0   \n",
              "58675                            0                 0                 0   \n",
              "23374                            0                 0                 0   \n",
              "\n",
              "       OPERA_Air France  OPERA_Alitalia  OPERA_American Airlines  \\\n",
              "13375                 0               0                        0   \n",
              "35799                 0               0                        0   \n",
              "48176                 0               0                        0   \n",
              "58675                 0               0                        0   \n",
              "23374                 0               0                        0   \n",
              "\n",
              "       OPERA_Austral  OPERA_Avianca  OPERA_British Airways  OPERA_Copa Air  \\\n",
              "13375              0              0                      0               0   \n",
              "35799              0              0                      0               0   \n",
              "48176              0              0                      0               0   \n",
              "58675              0              0                      0               0   \n",
              "23374              0              0                      0               0   \n",
              "\n",
              "       ...  MES_3  MES_4  MES_5  MES_6  MES_7  MES_8  MES_9  MES_10  MES_11  \\\n",
              "13375  ...      1      0      0      0      0      0      0       0       0   \n",
              "35799  ...      0      0      0      0      1      0      0       0       0   \n",
              "48176  ...      0      0      0      0      0      0      1       0       0   \n",
              "58675  ...      0      0      0      0      0      0      0       0       1   \n",
              "23374  ...      0      0      1      0      0      0      0       0       0   \n",
              "\n",
              "       MES_12  \n",
              "13375       0  \n",
              "35799       0  \n",
              "48176       0  \n",
              "58675       0  \n",
              "23374       0  \n",
              "\n",
              "[5 rows x 37 columns]"
            ],
            "text/html": [
              "\n",
              "  <div id=\"df-a32cac6f-b10a-4875-906f-df134f5f169b\">\n",
              "    <div class=\"colab-df-container\">\n",
              "      <div>\n",
              "<style scoped>\n",
              "    .dataframe tbody tr th:only-of-type {\n",
              "        vertical-align: middle;\n",
              "    }\n",
              "\n",
              "    .dataframe tbody tr th {\n",
              "        vertical-align: top;\n",
              "    }\n",
              "\n",
              "    .dataframe thead th {\n",
              "        text-align: right;\n",
              "    }\n",
              "</style>\n",
              "<table border=\"1\" class=\"dataframe\">\n",
              "  <thead>\n",
              "    <tr style=\"text-align: right;\">\n",
              "      <th></th>\n",
              "      <th>OPERA_Aerolineas Argentinas</th>\n",
              "      <th>OPERA_Aeromexico</th>\n",
              "      <th>OPERA_Air Canada</th>\n",
              "      <th>OPERA_Air France</th>\n",
              "      <th>OPERA_Alitalia</th>\n",
              "      <th>OPERA_American Airlines</th>\n",
              "      <th>OPERA_Austral</th>\n",
              "      <th>OPERA_Avianca</th>\n",
              "      <th>OPERA_British Airways</th>\n",
              "      <th>OPERA_Copa Air</th>\n",
              "      <th>...</th>\n",
              "      <th>MES_3</th>\n",
              "      <th>MES_4</th>\n",
              "      <th>MES_5</th>\n",
              "      <th>MES_6</th>\n",
              "      <th>MES_7</th>\n",
              "      <th>MES_8</th>\n",
              "      <th>MES_9</th>\n",
              "      <th>MES_10</th>\n",
              "      <th>MES_11</th>\n",
              "      <th>MES_12</th>\n",
              "    </tr>\n",
              "  </thead>\n",
              "  <tbody>\n",
              "    <tr>\n",
              "      <th>13375</th>\n",
              "      <td>0</td>\n",
              "      <td>0</td>\n",
              "      <td>0</td>\n",
              "      <td>0</td>\n",
              "      <td>0</td>\n",
              "      <td>0</td>\n",
              "      <td>0</td>\n",
              "      <td>0</td>\n",
              "      <td>0</td>\n",
              "      <td>0</td>\n",
              "      <td>...</td>\n",
              "      <td>1</td>\n",
              "      <td>0</td>\n",
              "      <td>0</td>\n",
              "      <td>0</td>\n",
              "      <td>0</td>\n",
              "      <td>0</td>\n",
              "      <td>0</td>\n",
              "      <td>0</td>\n",
              "      <td>0</td>\n",
              "      <td>0</td>\n",
              "    </tr>\n",
              "    <tr>\n",
              "      <th>35799</th>\n",
              "      <td>0</td>\n",
              "      <td>0</td>\n",
              "      <td>0</td>\n",
              "      <td>0</td>\n",
              "      <td>0</td>\n",
              "      <td>0</td>\n",
              "      <td>0</td>\n",
              "      <td>0</td>\n",
              "      <td>0</td>\n",
              "      <td>0</td>\n",
              "      <td>...</td>\n",
              "      <td>0</td>\n",
              "      <td>0</td>\n",
              "      <td>0</td>\n",
              "      <td>0</td>\n",
              "      <td>1</td>\n",
              "      <td>0</td>\n",
              "      <td>0</td>\n",
              "      <td>0</td>\n",
              "      <td>0</td>\n",
              "      <td>0</td>\n",
              "    </tr>\n",
              "    <tr>\n",
              "      <th>48176</th>\n",
              "      <td>0</td>\n",
              "      <td>0</td>\n",
              "      <td>0</td>\n",
              "      <td>0</td>\n",
              "      <td>0</td>\n",
              "      <td>0</td>\n",
              "      <td>0</td>\n",
              "      <td>0</td>\n",
              "      <td>0</td>\n",
              "      <td>0</td>\n",
              "      <td>...</td>\n",
              "      <td>0</td>\n",
              "      <td>0</td>\n",
              "      <td>0</td>\n",
              "      <td>0</td>\n",
              "      <td>0</td>\n",
              "      <td>0</td>\n",
              "      <td>1</td>\n",
              "      <td>0</td>\n",
              "      <td>0</td>\n",
              "      <td>0</td>\n",
              "    </tr>\n",
              "    <tr>\n",
              "      <th>58675</th>\n",
              "      <td>0</td>\n",
              "      <td>0</td>\n",
              "      <td>0</td>\n",
              "      <td>0</td>\n",
              "      <td>0</td>\n",
              "      <td>0</td>\n",
              "      <td>0</td>\n",
              "      <td>0</td>\n",
              "      <td>0</td>\n",
              "      <td>0</td>\n",
              "      <td>...</td>\n",
              "      <td>0</td>\n",
              "      <td>0</td>\n",
              "      <td>0</td>\n",
              "      <td>0</td>\n",
              "      <td>0</td>\n",
              "      <td>0</td>\n",
              "      <td>0</td>\n",
              "      <td>0</td>\n",
              "      <td>1</td>\n",
              "      <td>0</td>\n",
              "    </tr>\n",
              "    <tr>\n",
              "      <th>23374</th>\n",
              "      <td>0</td>\n",
              "      <td>0</td>\n",
              "      <td>0</td>\n",
              "      <td>0</td>\n",
              "      <td>0</td>\n",
              "      <td>0</td>\n",
              "      <td>0</td>\n",
              "      <td>0</td>\n",
              "      <td>0</td>\n",
              "      <td>0</td>\n",
              "      <td>...</td>\n",
              "      <td>0</td>\n",
              "      <td>0</td>\n",
              "      <td>1</td>\n",
              "      <td>0</td>\n",
              "      <td>0</td>\n",
              "      <td>0</td>\n",
              "      <td>0</td>\n",
              "      <td>0</td>\n",
              "      <td>0</td>\n",
              "      <td>0</td>\n",
              "    </tr>\n",
              "  </tbody>\n",
              "</table>\n",
              "<p>5 rows × 37 columns</p>\n",
              "</div>\n",
              "      <button class=\"colab-df-convert\" onclick=\"convertToInteractive('df-a32cac6f-b10a-4875-906f-df134f5f169b')\"\n",
              "              title=\"Convert this dataframe to an interactive table.\"\n",
              "              style=\"display:none;\">\n",
              "        \n",
              "  <svg xmlns=\"http://www.w3.org/2000/svg\" height=\"24px\"viewBox=\"0 0 24 24\"\n",
              "       width=\"24px\">\n",
              "    <path d=\"M0 0h24v24H0V0z\" fill=\"none\"/>\n",
              "    <path d=\"M18.56 5.44l.94 2.06.94-2.06 2.06-.94-2.06-.94-.94-2.06-.94 2.06-2.06.94zm-11 1L8.5 8.5l.94-2.06 2.06-.94-2.06-.94L8.5 2.5l-.94 2.06-2.06.94zm10 10l.94 2.06.94-2.06 2.06-.94-2.06-.94-.94-2.06-.94 2.06-2.06.94z\"/><path d=\"M17.41 7.96l-1.37-1.37c-.4-.4-.92-.59-1.43-.59-.52 0-1.04.2-1.43.59L10.3 9.45l-7.72 7.72c-.78.78-.78 2.05 0 2.83L4 21.41c.39.39.9.59 1.41.59.51 0 1.02-.2 1.41-.59l7.78-7.78 2.81-2.81c.8-.78.8-2.07 0-2.86zM5.41 20L4 18.59l7.72-7.72 1.47 1.35L5.41 20z\"/>\n",
              "  </svg>\n",
              "      </button>\n",
              "      \n",
              "  <style>\n",
              "    .colab-df-container {\n",
              "      display:flex;\n",
              "      flex-wrap:wrap;\n",
              "      gap: 12px;\n",
              "    }\n",
              "\n",
              "    .colab-df-convert {\n",
              "      background-color: #E8F0FE;\n",
              "      border: none;\n",
              "      border-radius: 50%;\n",
              "      cursor: pointer;\n",
              "      display: none;\n",
              "      fill: #1967D2;\n",
              "      height: 32px;\n",
              "      padding: 0 0 0 0;\n",
              "      width: 32px;\n",
              "    }\n",
              "\n",
              "    .colab-df-convert:hover {\n",
              "      background-color: #E2EBFA;\n",
              "      box-shadow: 0px 1px 2px rgba(60, 64, 67, 0.3), 0px 1px 3px 1px rgba(60, 64, 67, 0.15);\n",
              "      fill: #174EA6;\n",
              "    }\n",
              "\n",
              "    [theme=dark] .colab-df-convert {\n",
              "      background-color: #3B4455;\n",
              "      fill: #D2E3FC;\n",
              "    }\n",
              "\n",
              "    [theme=dark] .colab-df-convert:hover {\n",
              "      background-color: #434B5C;\n",
              "      box-shadow: 0px 1px 3px 1px rgba(0, 0, 0, 0.15);\n",
              "      filter: drop-shadow(0px 1px 2px rgba(0, 0, 0, 0.3));\n",
              "      fill: #FFFFFF;\n",
              "    }\n",
              "  </style>\n",
              "\n",
              "      <script>\n",
              "        const buttonEl =\n",
              "          document.querySelector('#df-a32cac6f-b10a-4875-906f-df134f5f169b button.colab-df-convert');\n",
              "        buttonEl.style.display =\n",
              "          google.colab.kernel.accessAllowed ? 'block' : 'none';\n",
              "\n",
              "        async function convertToInteractive(key) {\n",
              "          const element = document.querySelector('#df-a32cac6f-b10a-4875-906f-df134f5f169b');\n",
              "          const dataTable =\n",
              "            await google.colab.kernel.invokeFunction('convertToInteractive',\n",
              "                                                     [key], {});\n",
              "          if (!dataTable) return;\n",
              "\n",
              "          const docLinkHtml = 'Like what you see? Visit the ' +\n",
              "            '<a target=\"_blank\" href=https://colab.research.google.com/notebooks/data_table.ipynb>data table notebook</a>'\n",
              "            + ' to learn more about interactive tables.';\n",
              "          element.innerHTML = '';\n",
              "          dataTable['output_type'] = 'display_data';\n",
              "          await google.colab.output.renderOutput(dataTable, element);\n",
              "          const docLink = document.createElement('div');\n",
              "          docLink.innerHTML = docLinkHtml;\n",
              "          element.appendChild(docLink);\n",
              "        }\n",
              "      </script>\n",
              "    </div>\n",
              "  </div>\n",
              "  "
            ]
          },
          "metadata": {},
          "execution_count": 50
        }
      ]
    },
    {
      "cell_type": "code",
      "source": [
        "features1 = features.transpose()\n",
        "print(features1)"
      ],
      "metadata": {
        "id": "fxCefG4jSJqA",
        "colab": {
          "base_uri": "https://localhost:8080/"
        },
        "outputId": "5f89684b-3585-4d97-cf15-300377429855"
      },
      "execution_count": null,
      "outputs": [
        {
          "output_type": "stream",
          "name": "stdout",
          "text": [
            "                                13375  35799  48176  58675  23374  27666  \\\n",
            "OPERA_Aerolineas Argentinas         0      0      0      0      0      1   \n",
            "OPERA_Aeromexico                    0      0      0      0      0      0   \n",
            "OPERA_Air Canada                    0      0      0      0      0      0   \n",
            "OPERA_Air France                    0      0      0      0      0      0   \n",
            "OPERA_Alitalia                      0      0      0      0      0      0   \n",
            "OPERA_American Airlines             0      0      0      0      0      0   \n",
            "OPERA_Austral                       0      0      0      0      0      0   \n",
            "OPERA_Avianca                       0      0      0      0      0      0   \n",
            "OPERA_British Airways               0      0      0      0      0      0   \n",
            "OPERA_Copa Air                      0      0      0      0      0      0   \n",
            "OPERA_Delta Air                     0      0      0      0      0      0   \n",
            "OPERA_Gol Trans                     0      0      0      0      0      0   \n",
            "OPERA_Grupo LATAM                   0      1      1      1      0      0   \n",
            "OPERA_Iberia                        0      0      0      0      0      0   \n",
            "OPERA_JetSmart SPA                  0      0      0      0      0      0   \n",
            "OPERA_K.L.M.                        0      0      0      0      0      0   \n",
            "OPERA_Lacsa                         0      0      0      0      0      0   \n",
            "OPERA_Latin American Wings          0      0      0      0      0      0   \n",
            "OPERA_Oceanair Linhas Aereas        0      0      0      0      0      0   \n",
            "OPERA_Plus Ultra Lineas Aereas      0      0      0      0      0      0   \n",
            "OPERA_Qantas Airways                0      0      0      0      0      0   \n",
            "OPERA_Sky Airline                   1      0      0      0      1      0   \n",
            "OPERA_United Airlines               0      0      0      0      0      0   \n",
            "TIPOVUELO_I                         0      0      0      0      0      1   \n",
            "TIPOVUELO_N                         1      1      1      1      1      0   \n",
            "MES_1                               0      0      0      0      0      0   \n",
            "MES_2                               0      0      0      0      0      0   \n",
            "MES_3                               1      0      0      0      0      0   \n",
            "MES_4                               0      0      0      0      0      0   \n",
            "MES_5                               0      0      0      0      1      0   \n",
            "MES_6                               0      0      0      0      0      1   \n",
            "MES_7                               0      1      0      0      0      0   \n",
            "MES_8                               0      0      0      0      0      0   \n",
            "MES_9                               0      0      1      0      0      0   \n",
            "MES_10                              0      0      0      0      0      0   \n",
            "MES_11                              0      0      0      1      0      0   \n",
            "MES_12                              0      0      0      0      0      0   \n",
            "\n",
            "                                850    53131  23976  44265  ...  15926  10658  \\\n",
            "OPERA_Aerolineas Argentinas         0      0      0      0  ...      0      0   \n",
            "OPERA_Aeromexico                    0      0      0      1  ...      0      0   \n",
            "OPERA_Air Canada                    0      0      0      0  ...      0      0   \n",
            "OPERA_Air France                    0      0      0      0  ...      0      0   \n",
            "OPERA_Alitalia                      0      0      0      0  ...      0      0   \n",
            "OPERA_American Airlines             0      0      0      0  ...      0      0   \n",
            "OPERA_Austral                       0      0      0      0  ...      0      0   \n",
            "OPERA_Avianca                       0      0      0      0  ...      0      0   \n",
            "OPERA_British Airways               0      0      0      0  ...      0      0   \n",
            "OPERA_Copa Air                      0      0      0      0  ...      0      0   \n",
            "OPERA_Delta Air                     0      0      0      0  ...      0      0   \n",
            "OPERA_Gol Trans                     0      0      0      0  ...      0      0   \n",
            "OPERA_Grupo LATAM                   0      1      0      0  ...      1      1   \n",
            "OPERA_Iberia                        0      0      0      0  ...      0      0   \n",
            "OPERA_JetSmart SPA                  0      0      0      0  ...      0      0   \n",
            "OPERA_K.L.M.                        0      0      0      0  ...      0      0   \n",
            "OPERA_Lacsa                         0      0      0      0  ...      0      0   \n",
            "OPERA_Latin American Wings          0      0      0      0  ...      0      0   \n",
            "OPERA_Oceanair Linhas Aereas        0      0      0      0  ...      0      0   \n",
            "OPERA_Plus Ultra Lineas Aereas      0      0      0      0  ...      0      0   \n",
            "OPERA_Qantas Airways                1      0      0      0  ...      0      0   \n",
            "OPERA_Sky Airline                   0      0      1      0  ...      0      0   \n",
            "OPERA_United Airlines               0      0      0      0  ...      0      0   \n",
            "TIPOVUELO_I                         1      0      0      1  ...      1      1   \n",
            "TIPOVUELO_N                         0      1      1      0  ...      0      0   \n",
            "MES_1                               1      0      0      0  ...      0      0   \n",
            "MES_2                               0      0      0      0  ...      0      1   \n",
            "MES_3                               0      0      0      0  ...      1      0   \n",
            "MES_4                               0      0      0      0  ...      0      0   \n",
            "MES_5                               0      0      1      0  ...      0      0   \n",
            "MES_6                               0      0      0      0  ...      0      0   \n",
            "MES_7                               0      0      0      0  ...      0      0   \n",
            "MES_8                               0      0      0      0  ...      0      0   \n",
            "MES_9                               0      0      0      1  ...      0      0   \n",
            "MES_10                              0      1      0      0  ...      0      0   \n",
            "MES_11                              0      0      0      0  ...      0      0   \n",
            "MES_12                              0      0      0      0  ...      0      0   \n",
            "\n",
            "                                21788  41688  17857  37831  28790  25257  \\\n",
            "OPERA_Aerolineas Argentinas         0      0      0      0      0      0   \n",
            "OPERA_Aeromexico                    0      0      0      0      0      0   \n",
            "OPERA_Air Canada                    0      0      0      0      0      0   \n",
            "OPERA_Air France                    0      0      0      0      0      0   \n",
            "OPERA_Alitalia                      0      0      0      0      0      0   \n",
            "OPERA_American Airlines             0      0      0      0      0      0   \n",
            "OPERA_Austral                       0      0      0      0      0      0   \n",
            "OPERA_Avianca                       0      0      0      0      0      0   \n",
            "OPERA_British Airways               0      0      0      0      0      0   \n",
            "OPERA_Copa Air                      0      0      0      0      0      0   \n",
            "OPERA_Delta Air                     0      0      0      0      0      0   \n",
            "OPERA_Gol Trans                     0      0      0      0      0      0   \n",
            "OPERA_Grupo LATAM                   1      1      0      1      0      1   \n",
            "OPERA_Iberia                        0      0      0      0      0      0   \n",
            "OPERA_JetSmart SPA                  0      0      0      0      0      0   \n",
            "OPERA_K.L.M.                        0      0      1      0      0      0   \n",
            "OPERA_Lacsa                         0      0      0      0      0      0   \n",
            "OPERA_Latin American Wings          0      0      0      0      0      0   \n",
            "OPERA_Oceanair Linhas Aereas        0      0      0      0      0      0   \n",
            "OPERA_Plus Ultra Lineas Aereas      0      0      0      0      0      0   \n",
            "OPERA_Qantas Airways                0      0      0      0      0      0   \n",
            "OPERA_Sky Airline                   0      0      0      0      1      0   \n",
            "OPERA_United Airlines               0      0      0      0      0      0   \n",
            "TIPOVUELO_I                         1      0      1      1      0      0   \n",
            "TIPOVUELO_N                         0      1      0      0      1      1   \n",
            "MES_1                               0      0      0      0      0      0   \n",
            "MES_2                               0      0      0      0      0      0   \n",
            "MES_3                               0      0      0      0      0      0   \n",
            "MES_4                               1      0      1      0      0      0   \n",
            "MES_5                               0      0      0      0      0      1   \n",
            "MES_6                               0      0      0      0      1      0   \n",
            "MES_7                               0      0      0      1      0      0   \n",
            "MES_8                               0      1      0      0      0      0   \n",
            "MES_9                               0      0      0      0      0      0   \n",
            "MES_10                              0      0      0      0      0      0   \n",
            "MES_11                              0      0      0      0      0      0   \n",
            "MES_12                              0      0      0      0      0      0   \n",
            "\n",
            "                                4820   10196  \n",
            "OPERA_Aerolineas Argentinas         0      0  \n",
            "OPERA_Aeromexico                    0      0  \n",
            "OPERA_Air Canada                    0      0  \n",
            "OPERA_Air France                    0      0  \n",
            "OPERA_Alitalia                      0      0  \n",
            "OPERA_American Airlines             0      0  \n",
            "OPERA_Austral                       0      0  \n",
            "OPERA_Avianca                       0      0  \n",
            "OPERA_British Airways               0      0  \n",
            "OPERA_Copa Air                      0      0  \n",
            "OPERA_Delta Air                     0      0  \n",
            "OPERA_Gol Trans                     0      0  \n",
            "OPERA_Grupo LATAM                   1      1  \n",
            "OPERA_Iberia                        0      0  \n",
            "OPERA_JetSmart SPA                  0      0  \n",
            "OPERA_K.L.M.                        0      0  \n",
            "OPERA_Lacsa                         0      0  \n",
            "OPERA_Latin American Wings          0      0  \n",
            "OPERA_Oceanair Linhas Aereas        0      0  \n",
            "OPERA_Plus Ultra Lineas Aereas      0      0  \n",
            "OPERA_Qantas Airways                0      0  \n",
            "OPERA_Sky Airline                   0      0  \n",
            "OPERA_United Airlines               0      0  \n",
            "TIPOVUELO_I                         1      0  \n",
            "TIPOVUELO_N                         0      1  \n",
            "MES_1                               1      0  \n",
            "MES_2                               0      1  \n",
            "MES_3                               0      0  \n",
            "MES_4                               0      0  \n",
            "MES_5                               0      0  \n",
            "MES_6                               0      0  \n",
            "MES_7                               0      0  \n",
            "MES_8                               0      0  \n",
            "MES_9                               0      0  \n",
            "MES_10                              0      0  \n",
            "MES_11                              0      0  \n",
            "MES_12                              0      0  \n",
            "\n",
            "[37 rows x 68206 columns]\n"
          ]
        }
      ]
    },
    {
      "cell_type": "code",
      "source": [
        "label.head()"
      ],
      "metadata": {
        "id": "21aR6Nerxa3g",
        "colab": {
          "base_uri": "https://localhost:8080/"
        },
        "outputId": "6172a12e-0fa5-4f81-86b1-0a2327d3f757"
      },
      "execution_count": null,
      "outputs": [
        {
          "output_type": "execute_result",
          "data": {
            "text/plain": [
              "13375    0\n",
              "35799    0\n",
              "48176    0\n",
              "58675    0\n",
              "23374    0\n",
              "Name: atraso_15, dtype: int64"
            ]
          },
          "metadata": {},
          "execution_count": 52
        }
      ]
    },
    {
      "cell_type": "markdown",
      "source": [
        "Se separan las muestras de entrenamiento y testing.\n",
        "77% entrenamiento, 33% testing."
      ],
      "metadata": {
        "id": "v9SBeHeBxkcl"
      }
    },
    {
      "cell_type": "code",
      "execution_count": null,
      "metadata": {
        "id": "eaAjF3LSb-pF"
      },
      "outputs": [],
      "source": [
        "x_train, x_test, y_train, y_test = train_test_split(features, label, test_size = 0.33, random_state = 42)"
      ]
    },
    {
      "cell_type": "code",
      "execution_count": null,
      "metadata": {
        "scrolled": true,
        "id": "pNhzIFQfb-pF",
        "colab": {
          "base_uri": "https://localhost:8080/"
        },
        "outputId": "5294b0d3-22f0-475c-eff9-bccfa2374a54"
      },
      "outputs": [
        {
          "output_type": "execute_result",
          "data": {
            "text/plain": [
              "((45698, 37), (22508, 37))"
            ]
          },
          "metadata": {},
          "execution_count": 54
        }
      ],
      "source": [
        "x_train.shape, x_test.shape"
      ]
    },
    {
      "cell_type": "code",
      "execution_count": null,
      "metadata": {
        "id": "euD9zMZrb-pG",
        "colab": {
          "base_uri": "https://localhost:8080/"
        },
        "outputId": "ab8c28e7-706a-44c6-d5f4-55b999f7ec5a"
      },
      "outputs": [
        {
          "output_type": "execute_result",
          "data": {
            "text/plain": [
              "0    0.813799\n",
              "1    0.186201\n",
              "Name: atraso_15, dtype: float64"
            ]
          },
          "metadata": {},
          "execution_count": 55
        }
      ],
      "source": [
        "y_train.value_counts('%')"
      ]
    },
    {
      "cell_type": "code",
      "execution_count": null,
      "metadata": {
        "id": "hCuBKHTjb-pG",
        "colab": {
          "base_uri": "https://localhost:8080/"
        },
        "outputId": "7eb9c6dc-ddaa-4401-dd5b-fb99c5d15aa5"
      },
      "outputs": [
        {
          "output_type": "execute_result",
          "data": {
            "text/plain": [
              "0    0.81762\n",
              "1    0.18238\n",
              "Name: atraso_15, dtype: float64"
            ]
          },
          "metadata": {},
          "execution_count": 56
        }
      ],
      "source": [
        "y_test.value_counts('%')"
      ]
    },
    {
      "cell_type": "markdown",
      "metadata": {
        "id": "wumB_1Blb-pG"
      },
      "source": [
        "#### Utilizando Regresión logística"
      ]
    },
    {
      "cell_type": "code",
      "execution_count": null,
      "metadata": {
        "id": "W4R1vEZxb-pG"
      },
      "outputs": [],
      "source": [
        "logReg = LogisticRegression()\n",
        "model = logReg.fit(x_train, y_train)"
      ]
    },
    {
      "cell_type": "code",
      "execution_count": null,
      "metadata": {
        "id": "u61oHKOvb-pG"
      },
      "outputs": [],
      "source": [
        "y_pred = model.predict(x_test)"
      ]
    },
    {
      "cell_type": "markdown",
      "metadata": {
        "id": "C9OnU9fAb-pG"
      },
      "source": [
        "#### Métricas Regresión Logística"
      ]
    },
    {
      "cell_type": "code",
      "execution_count": null,
      "metadata": {
        "id": "Ne77i4WLb-pG",
        "colab": {
          "base_uri": "https://localhost:8080/"
        },
        "outputId": "84423585-a2aa-4ac8-8c57-3f2886f61be9"
      },
      "outputs": [
        {
          "output_type": "execute_result",
          "data": {
            "text/plain": [
              "array([[18311,    92],\n",
              "       [ 3985,   120]])"
            ]
          },
          "metadata": {},
          "execution_count": 59
        }
      ],
      "source": [
        "confusion_matrix(y_test, y_pred)"
      ]
    },
    {
      "cell_type": "code",
      "execution_count": null,
      "metadata": {
        "id": "JDxp4TWgb-pH",
        "colab": {
          "base_uri": "https://localhost:8080/"
        },
        "outputId": "97b2e2dc-55ba-4d62-f6e0-9b2ad82710cc"
      },
      "outputs": [
        {
          "output_type": "stream",
          "name": "stdout",
          "text": [
            "              precision    recall  f1-score   support\n",
            "\n",
            "           0       0.82      1.00      0.90     18403\n",
            "           1       0.57      0.03      0.06      4105\n",
            "\n",
            "    accuracy                           0.82     22508\n",
            "   macro avg       0.69      0.51      0.48     22508\n",
            "weighted avg       0.77      0.82      0.75     22508\n",
            "\n"
          ]
        }
      ],
      "source": [
        "print(classification_report(y_test, y_pred))"
      ]
    },
    {
      "cell_type": "markdown",
      "metadata": {
        "id": "IV5knpwpb-pH"
      },
      "source": [
        "#### Utilizando XGBoost"
      ]
    },
    {
      "cell_type": "code",
      "execution_count": null,
      "metadata": {
        "scrolled": true,
        "id": "7XtGZ2l7b-pH"
      },
      "outputs": [],
      "source": [
        "import xgboost as xgb\n",
        "from xgboost import plot_importance"
      ]
    },
    {
      "cell_type": "code",
      "execution_count": null,
      "metadata": {
        "id": "rQmw3VS0b-pH"
      },
      "outputs": [],
      "source": [
        "modelxgb = xgb.XGBClassifier(random_state=1, learning_rate=0.01)\n",
        "modelxgb = modelxgb.fit(x_train, y_train)"
      ]
    },
    {
      "cell_type": "code",
      "execution_count": null,
      "metadata": {
        "id": "0Z4rHQ9qb-pH"
      },
      "outputs": [],
      "source": [
        "y_predxgb = modelxgb.predict(x_test)"
      ]
    },
    {
      "cell_type": "markdown",
      "metadata": {
        "id": "KGll-YBlb-pH"
      },
      "source": [
        "#### Métricas XGBoost"
      ]
    },
    {
      "cell_type": "code",
      "execution_count": null,
      "metadata": {
        "scrolled": true,
        "id": "29wd_18Xb-pH",
        "colab": {
          "base_uri": "https://localhost:8080/"
        },
        "outputId": "7d3b2be4-2bfe-4df1-f7fe-859f54e46468"
      },
      "outputs": [
        {
          "output_type": "execute_result",
          "data": {
            "text/plain": [
              "array([[18403,     0],\n",
              "       [ 4105,     0]])"
            ]
          },
          "metadata": {},
          "execution_count": 64
        }
      ],
      "source": [
        "confusion_matrix(y_test, y_predxgb)"
      ]
    },
    {
      "cell_type": "code",
      "execution_count": null,
      "metadata": {
        "id": "0yF6R0W7b-pI",
        "colab": {
          "base_uri": "https://localhost:8080/"
        },
        "outputId": "eeb9dcef-28b0-4070-ccb2-18f31f70e56a"
      },
      "outputs": [
        {
          "output_type": "stream",
          "name": "stdout",
          "text": [
            "              precision    recall  f1-score   support\n",
            "\n",
            "           0       0.82      1.00      0.90     18403\n",
            "           1       0.00      0.00      0.00      4105\n",
            "\n",
            "    accuracy                           0.82     22508\n",
            "   macro avg       0.41      0.50      0.45     22508\n",
            "weighted avg       0.67      0.82      0.74     22508\n",
            "\n"
          ]
        }
      ],
      "source": [
        "print(classification_report(y_test, y_predxgb))"
      ]
    },
    {
      "cell_type": "markdown",
      "metadata": {
        "id": "3vaglcIVb-pI"
      },
      "source": [
        "#### Utilizando XGBoost dejando Features más importantes "
      ]
    },
    {
      "cell_type": "code",
      "execution_count": null,
      "metadata": {
        "id": "PTlzWMkyb-pI",
        "colab": {
          "base_uri": "https://localhost:8080/"
        },
        "outputId": "295ae283-2215-4605-da87-e803aad66564"
      },
      "outputs": [
        {
          "output_type": "execute_result",
          "data": {
            "text/plain": [
              "array([0.01169022, 0.        , 0.11834391, 0.        , 0.        ,\n",
              "       0.06906035, 0.        , 0.        , 0.        , 0.10180492,\n",
              "       0.        , 0.        , 0.00113403, 0.        , 0.00113217,\n",
              "       0.        , 0.        , 0.16502443, 0.        , 0.0099514 ,\n",
              "       0.0841885 , 0.00133777, 0.00850817, 0.13333023, 0.        ,\n",
              "       0.        , 0.        , 0.        , 0.02873759, 0.        ,\n",
              "       0.        , 0.08859436, 0.        , 0.03379858, 0.05050578,\n",
              "       0.        , 0.09285755], dtype=float32)"
            ]
          },
          "metadata": {},
          "execution_count": 66
        }
      ],
      "source": [
        "modelxgb.feature_importances_"
      ]
    },
    {
      "cell_type": "code",
      "execution_count": null,
      "metadata": {
        "id": "r2vpKhGwb-pI",
        "colab": {
          "base_uri": "https://localhost:8080/",
          "height": 662
        },
        "outputId": "24a53fd6-d61c-41e7-e086-1941a6d36aa2"
      },
      "outputs": [
        {
          "output_type": "execute_result",
          "data": {
            "text/plain": [
              "<matplotlib.axes._subplots.AxesSubplot at 0x7fc2b5f0b9d0>"
            ]
          },
          "metadata": {},
          "execution_count": 67
        },
        {
          "output_type": "display_data",
          "data": {
            "text/plain": [
              "<Figure size 936x720 with 0 Axes>"
            ]
          },
          "metadata": {}
        },
        {
          "output_type": "display_data",
          "data": {
            "text/plain": [
              "<Figure size 1080x720 with 1 Axes>"
            ],
            "image/png": "[encoded data removed]"
          },
          "metadata": {}
        }
      ],
      "source": [
        "plt.figure(figsize = (13,10))\n",
        "plot_importance(modelxgb)"
      ]
    },
    {
      "cell_type": "code",
      "execution_count": null,
      "metadata": {
        "id": "j7YHB5L1b-pI"
      },
      "outputs": [],
      "source": [
        "features_importantes = features[['MES_7', 'TIPOVUELO_I', 'OPERA_Copa Air', 'OPERA_Latin American Wings',\n",
        "                                'MES_12', 'OPERA_Grupo LATAM', 'MES_10', 'OPERA_JetSmart SPA', 'OPERA_Air Canada',\n",
        "                                'MES_9', 'OPERA_American Airlines']]\n",
        "labels_ = label"
      ]
    },
    {
      "cell_type": "code",
      "execution_count": null,
      "metadata": {
        "id": "BV4fNY3lb-pI"
      },
      "outputs": [],
      "source": [
        "x_train2, x_test2, y_train2, y_test2 = train_test_split(features_importantes, labels_, test_size = 0.33, random_state = 42)"
      ]
    },
    {
      "cell_type": "code",
      "execution_count": null,
      "metadata": {
        "id": "dH7AVLweb-pI"
      },
      "outputs": [],
      "source": [
        "modelxgb_f_i = xgb.XGBClassifier(random_state=1, learning_rate=0.01, subsample = 1, max_depth = 10)\n",
        "modelxgb_f_i = modelxgb_f_i.fit(x_train2, y_train2)"
      ]
    },
    {
      "cell_type": "code",
      "execution_count": null,
      "metadata": {
        "id": "zaf0iVEUb-pJ"
      },
      "outputs": [],
      "source": [
        "y_predxgb_f_i = modelxgb_f_i.predict(x_test2)"
      ]
    },
    {
      "cell_type": "markdown",
      "metadata": {
        "id": "UZJ7c2tPb-pJ"
      },
      "source": [
        "#### Métricas XGBoost dejando Features más importantes "
      ]
    },
    {
      "cell_type": "code",
      "execution_count": null,
      "metadata": {
        "id": "VDYkpKIxb-pJ",
        "colab": {
          "base_uri": "https://localhost:8080/"
        },
        "outputId": "698b0b1e-1574-4d84-ed7c-fa6264c4c606"
      },
      "outputs": [
        {
          "output_type": "execute_result",
          "data": {
            "text/plain": [
              "array([[18371,    32],\n",
              "       [ 4044,    61]])"
            ]
          },
          "metadata": {},
          "execution_count": 72
        }
      ],
      "source": [
        "confusion_matrix(y_test2, y_predxgb_f_i)"
      ]
    },
    {
      "cell_type": "code",
      "execution_count": null,
      "metadata": {
        "id": "vJwxgA5Kb-pJ",
        "colab": {
          "base_uri": "https://localhost:8080/"
        },
        "outputId": "4e73fbdb-1ca3-48b1-b49a-0699b18b8152"
      },
      "outputs": [
        {
          "output_type": "stream",
          "name": "stdout",
          "text": [
            "              precision    recall  f1-score   support\n",
            "\n",
            "           0       0.82      1.00      0.90     18403\n",
            "           1       0.66      0.01      0.03      4105\n",
            "\n",
            "    accuracy                           0.82     22508\n",
            "   macro avg       0.74      0.51      0.46     22508\n",
            "weighted avg       0.79      0.82      0.74     22508\n",
            "\n"
          ]
        }
      ],
      "source": [
        "print(classification_report(y_test2, y_predxgb_f_i))"
      ]
    },
    {
      "cell_type": "markdown",
      "metadata": {
        "id": "464rSF8Jb-pJ"
      },
      "source": [
        "### 5. Evalúa tu modelo. ¿Qué performance tiene? ¿Qué métricas usaste para evaluar esa performance y por qué? ¿Por qué elegiste ese algoritmo en particular? ¿Qué variables son las que más influyen en la predicción? ¿Cómo podrías mejorar la performance?"
      ]
    },
    {
      "cell_type": "markdown",
      "metadata": {
        "id": "kiTThk1Bb-pJ"
      },
      "source": [
        "Los modelos utilizados en la sección anterior fueron:\n",
        "* **Regresión Logística**: Fue seleccionado ya que es el modelo más simple para poder resolver problemas de clasificación.\n",
        "* **XGBoost**: Fue seleccionado porque en general tiene un gran desempeño y entrega buenos resultados ya sea para regresión y clasificación, además es bastante rápido y facilita el tuneo de hiperparámetros.\n",
        "\n",
        "Los resultados obtenidos con ambos modelos fueron muy malos. Se utilizó matriz de confusión para validar los resultados. La cantidad de falsos negativos fue muy alta. Una de las posibles razones, la más clara, es el desbalanceo que existe en la clase 'atraso_15'. Del total de datos un 82% corresponde a no atraso y el 18% restante a atraso.\n",
        "Para poder mejorar la performance se tomaron dos decisiones, la primera aplicar un Grid Search CV sobre XGBoost para tunear de mejor manera los hiperparámetros y la segunda realizar un upsampling de la clase desbalanceada, en este caso los atrasos.\n",
        "\n"
      ]
    },
    {
      "cell_type": "markdown",
      "metadata": {
        "id": "VoaLM6UEb-pJ"
      },
      "source": [
        "### Grid Search CV sobre Modelo XG Boost con los mejores features"
      ]
    },
    {
      "cell_type": "code",
      "execution_count": null,
      "metadata": {
        "id": "fep-Gj_sb-pJ"
      },
      "outputs": [],
      "source": [
        "from sklearn.model_selection import GridSearchCV"
      ]
    },
    {
      "cell_type": "code",
      "execution_count": null,
      "metadata": {
        "scrolled": true,
        "colab": {
          "base_uri": "https://localhost:8080/"
        },
        "id": "ITmZfpBub-pK",
        "outputId": "150ea443-c797-4dc8-aff3-1f6063898e10"
      },
      "outputs": [
        {
          "output_type": "stream",
          "name": "stdout",
          "text": [
            "Fitting 2 folds for each of 18 candidates, totalling 36 fits\n"
          ]
        }
      ],
      "source": [
        "parameters = {\n",
        "                'learning_rate': [0.01,0.05, 0.1],\n",
        "                'n_estimators': [50, 100, 150],\n",
        "                'subsample': [0.5, 0.9]\n",
        "}\n",
        "\n",
        "modelxgb_f_i_GridCV = GridSearchCV(modelxgb_f_i, param_grid = parameters,\n",
        "    cv = 2, n_jobs=-1, verbose=1).fit(x_train, y_train)"
      ]
    },
    {
      "cell_type": "code",
      "execution_count": null,
      "metadata": {
        "id": "PtVsYxIwb-pK"
      },
      "outputs": [],
      "source": [
        "y_predxgb_f_i_grid = modelxgb_f_i_GridCV.predict(x_test)"
      ]
    },
    {
      "cell_type": "code",
      "execution_count": null,
      "metadata": {
        "id": "Ghc84h85b-pK",
        "outputId": "6ad32e52-470f-473a-eb1e-78985453890c",
        "colab": {
          "base_uri": "https://localhost:8080/"
        }
      },
      "outputs": [
        {
          "output_type": "execute_result",
          "data": {
            "text/plain": [
              "array([[18287,   116],\n",
              "       [ 3933,   172]])"
            ]
          },
          "metadata": {},
          "execution_count": 77
        }
      ],
      "source": [
        "confusion_matrix(y_test, y_predxgb_f_i_grid)"
      ]
    },
    {
      "cell_type": "code",
      "source": [
        "print(classification_report(y_test, y_predxgb_f_i_grid))"
      ],
      "metadata": {
        "colab": {
          "base_uri": "https://localhost:8080/"
        },
        "id": "R-hYVkGIepGi",
        "outputId": "81662882-8701-48ac-da13-2f1a0ea15fea"
      },
      "execution_count": null,
      "outputs": [
        {
          "output_type": "stream",
          "name": "stdout",
          "text": [
            "              precision    recall  f1-score   support\n",
            "\n",
            "           0       0.82      0.99      0.90     18403\n",
            "           1       0.60      0.04      0.08      4105\n",
            "\n",
            "    accuracy                           0.82     22508\n",
            "   macro avg       0.71      0.52      0.49     22508\n",
            "weighted avg       0.78      0.82      0.75     22508\n",
            "\n"
          ]
        }
      ]
    },
    {
      "cell_type": "markdown",
      "source": [
        "Luego de hacer el grid para XGB, precision para Retraso es un 62% y la Sensibilidad un 9%:"
      ],
      "metadata": {
        "id": "MMCnanwFjfS_"
      }
    },
    {
      "cell_type": "code",
      "source": [
        "modelxgb_f_i_GridCV.score(x_test, y_test)"
      ],
      "metadata": {
        "colab": {
          "base_uri": "https://localhost:8080/"
        },
        "id": "7xbtYyWBkiZr",
        "outputId": "37034abd-9c10-4aa4-ccb8-0644ded74d6b"
      },
      "execution_count": null,
      "outputs": [
        {
          "output_type": "execute_result",
          "data": {
            "text/plain": [
              "0.8201084059001243"
            ]
          },
          "metadata": {},
          "execution_count": 79
        }
      ]
    },
    {
      "cell_type": "markdown",
      "metadata": {
        "id": "cUFAdyO5b-pK"
      },
      "source": [
        "### Upsampling"
      ]
    },
    {
      "cell_type": "code",
      "execution_count": null,
      "metadata": {
        "id": "qSAghvc5b-pK",
        "outputId": "6acd3bf9-28ca-4173-a8be-1b2a3c1c9c57",
        "colab": {
          "base_uri": "https://localhost:8080/"
        }
      },
      "outputs": [
        {
          "output_type": "execute_result",
          "data": {
            "text/plain": [
              "0    55592\n",
              "1    12614\n",
              "Name: atraso_15, dtype: int64"
            ]
          },
          "metadata": {},
          "execution_count": 80
        }
      ],
      "source": [
        "data['atraso_15'].value_counts()"
      ]
    },
    {
      "cell_type": "code",
      "execution_count": null,
      "metadata": {
        "id": "4MXtRljlb-pK"
      },
      "outputs": [],
      "source": [
        "#Resample\n",
        "from sklearn.utils import resample\n",
        "\n",
        "data_no_retraso = data[data['atraso_15'] == 0]\n",
        "data_atraso = data[data['atraso_15'] == 1]\n",
        "\n",
        "data_atraso_upsampled = resample(data_atraso, \n",
        "                                 replace = True,     # sample with replacement\n",
        "                                 n_samples = 30000,    # to match majority class\n",
        "                                 random_state = 42) # reproducible results\n",
        "\n",
        "data_upsampled = pd.concat([data_no_retraso, data_atraso_upsampled])"
      ]
    },
    {
      "cell_type": "code",
      "execution_count": null,
      "metadata": {
        "id": "vnM3wP3Ab-pK",
        "outputId": "6cc379ce-ca4b-47f8-d5ed-c433fcfaf8d6",
        "colab": {
          "base_uri": "https://localhost:8080/"
        }
      },
      "outputs": [
        {
          "output_type": "execute_result",
          "data": {
            "text/plain": [
              "0    55592\n",
              "1    30000\n",
              "Name: atraso_15, dtype: int64"
            ]
          },
          "metadata": {},
          "execution_count": 82
        }
      ],
      "source": [
        "data_upsampled['atraso_15'].value_counts()"
      ]
    },
    {
      "cell_type": "code",
      "execution_count": null,
      "metadata": {
        "id": "HhwcrBJqb-pL"
      },
      "outputs": [],
      "source": [
        "features_upsampled = pd.concat([pd.get_dummies(data_upsampled['OPERA'], prefix = 'OPERA'),pd.get_dummies(data_upsampled['TIPOVUELO'], prefix = 'TIPOVUELO'), pd.get_dummies(data_upsampled['MES'], prefix = 'MES')], axis = 1)\n",
        "label_upsampled = data_upsampled['atraso_15']"
      ]
    },
    {
      "cell_type": "code",
      "execution_count": null,
      "metadata": {
        "id": "GD_3wQ0ob-pL"
      },
      "outputs": [],
      "source": [
        "x_upsampled_train, x_upsampled_test, y_upsampled_train, y_upsampled_test = train_test_split(features_upsampled, label_upsampled, test_size = 0.33, random_state = 42)"
      ]
    },
    {
      "cell_type": "code",
      "execution_count": null,
      "metadata": {
        "id": "l64vXsBob-pL",
        "colab": {
          "base_uri": "https://localhost:8080/"
        },
        "outputId": "13dddc0c-f7a4-46d9-e251-39a136a4a49d"
      },
      "outputs": [
        {
          "output_type": "execute_result",
          "data": {
            "text/plain": [
              "XGBClassifier(learning_rate=0.01, max_depth=10, random_state=1)"
            ]
          },
          "metadata": {},
          "execution_count": 85
        }
      ],
      "source": [
        "modelxgb_up = xgb.XGBClassifier(random_state=1, learning_rate=0.01, subsample = 1, max_depth = 10)\n",
        "modelxgb_up.fit(x_upsampled_train, y_upsampled_train)"
      ]
    },
    {
      "cell_type": "code",
      "execution_count": null,
      "metadata": {
        "id": "knXZA1OLb-pL"
      },
      "outputs": [],
      "source": [
        "y_upsampled_predxgb = modelxgb_up.predict(x_upsampled_test)"
      ]
    },
    {
      "cell_type": "code",
      "execution_count": null,
      "metadata": {
        "scrolled": true,
        "id": "-VVeh-Wcb-pL",
        "outputId": "514e8b16-0d11-407e-f1b8-eab6208524d4",
        "colab": {
          "base_uri": "https://localhost:8080/"
        }
      },
      "outputs": [
        {
          "output_type": "execute_result",
          "data": {
            "text/plain": [
              "array([[17156,  1193],\n",
              "       [ 7969,  1928]])"
            ]
          },
          "metadata": {},
          "execution_count": 87
        }
      ],
      "source": [
        "confusion_matrix(y_upsampled_test, y_upsampled_predxgb)"
      ]
    },
    {
      "cell_type": "code",
      "source": [
        "print(classification_report(y_upsampled_test, y_upsampled_predxgb))"
      ],
      "metadata": {
        "colab": {
          "base_uri": "https://localhost:8080/"
        },
        "id": "RCquroycj7Hi",
        "outputId": "d9962bd1-65a7-4348-8e6a-ef6fd04b27e5"
      },
      "execution_count": null,
      "outputs": [
        {
          "output_type": "stream",
          "name": "stdout",
          "text": [
            "              precision    recall  f1-score   support\n",
            "\n",
            "           0       0.68      0.93      0.79     18349\n",
            "           1       0.62      0.19      0.30      9897\n",
            "\n",
            "    accuracy                           0.68     28246\n",
            "   macro avg       0.65      0.56      0.54     28246\n",
            "weighted avg       0.66      0.68      0.62     28246\n",
            "\n"
          ]
        }
      ]
    },
    {
      "cell_type": "markdown",
      "source": [
        "La precision par la clase atraso ahora es 62% y la Sensibilidad 19%"
      ],
      "metadata": {
        "id": "S63631Odml0J"
      }
    },
    {
      "cell_type": "code",
      "execution_count": null,
      "metadata": {
        "id": "CSFKGIDjb-pL",
        "outputId": "f453abdc-4a26-4261-d0cd-d59aa79cda0b",
        "colab": {
          "base_uri": "https://localhost:8080/"
        }
      },
      "outputs": [
        {
          "output_type": "execute_result",
          "data": {
            "text/plain": [
              "0.6756354882107201"
            ]
          },
          "metadata": {},
          "execution_count": 89
        }
      ],
      "source": [
        "modelxgb_up.score(x_upsampled_test, y_upsampled_test)"
      ]
    },
    {
      "cell_type": "markdown",
      "metadata": {
        "id": "ADTgd7d5b-pM"
      },
      "source": [
        "Observando los dos métodos para incrementar la performance, se puede ver como el modelo no mejoró. Esto puede ser ya que la data creada al upsamplear no tiene ningún sentido. Si se pudiese pudiese balancear la clase tal vez los modelos tendrían un mejor desempeño.\n",
        "texto en negrita\n",
        "No estoy de acuerdo con estas afirmaciones. El modelo con el upsampling mejora la performance."
      ]
    },
    {
      "cell_type": "markdown",
      "source": [
        "#### Observaciones al trabajo del Data Scientist\n",
        "\n",
        "Me han llamado la atención las siguientes situaciones\n",
        "\n",
        "* **1)** No entiendo por qué se crearon variables como Periodo Dia del vuelo, el día del vuelo, para luego crear un archivo aparte y no utilizarlas en los modelos.\n",
        "* **2)** En la regresión logística, al crear las varibles dicotomizadas (one-hot-encoding) no se pide que se \"bote\" la primera clase para de esta manera evitar la trampa de las variables dummies, que altera los resultados de los regresores tanto en los modelos de regresión como en los logísticos.\n",
        "* **3)** Efectivamente, los modelos presentados en un principio son deficientes. Por lo general tienen una alta Accuracy, pero son muy malos para detectar la clase 1, que es el fenómeno \"atraso\" que es la estrella en esta película. Incluso el XGB inicial clasifica a todos los vuelos como \"No atraso\". Tanto la regresión logística como el XGB Best logran una Sensitivity del 60%, sin embargo la Precision para la clase 1 es muy baja, la máxima que se alcanza con el Grid Search es de un 4%, es decir que el 4% de los vuelos que el modelo señala como atrasados, realmente fueron atrasados, por lo que la cantidad de falsos positivos es altísima.\n",
        "* **4)** En términos generales, el mejor modelo es el XGB en el cual se aplica la técnica de Upsampling. A pesar de bajar la Accuracy del modelo a un 68%, tiene una Sensitivity del 62% y un importante aumento de la Precision de la clase 1 a un 19%. Recuérdese que en los modelos anteriores, esta última era un 4%."
      ],
      "metadata": {
        "id": "NHHHgUcgi35S"
      }
    }
  ],
  "metadata": {
    "kernelspec": {
      "display_name": "Python 3",
      "language": "python",
      "name": "python3"
    },
    "language_info": {
      "codemirror_mode": {
        "name": "ipython",
        "version": 3
      },
      "file_extension": ".py",
      "mimetype": "text/x-python",
      "name": "python",
      "nbconvert_exporter": "python",
      "pygments_lexer": "ipython3",
      "version": "3.9.2"
    },
    "colab": {
      "name": "to-expose.ipynb",
      "provenance": []
    }
  },
  "nbformat": 4,
  "nbformat_minor": 0
}