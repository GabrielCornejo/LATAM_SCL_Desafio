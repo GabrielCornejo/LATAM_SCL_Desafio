{
  "nbformat": 4,
  "nbformat_minor": 0,
  "metadata": {
    "colab": {
      "name": "5_XGB_Best_UP_Grid.ipynb",
      "provenance": []
    },
    "kernelspec": {
      "name": "python3",
      "display_name": "Python 3"
    },
    "language_info": {
      "name": "python"
    }
  },
  "cells": [
    {
      "cell_type": "markdown",
      "source": [
        "#### Creación de la muestra de entrenamiento y testing con sklearn para Up Sampling usando las mejores variables y CV Grid Search en XGBoost. Se usa la misma técnica usada por Juan en la cual tuvo el mejor desempeño. Se obtendrá el XGB y luego se le aplicará un Grid Search (tuneo)"
      ],
      "metadata": {
        "id": "CHw6cBAli096"
      }
    },
    {
      "cell_type": "code",
      "execution_count": null,
      "metadata": {
        "id": "AgdFD8qgiLnf"
      },
      "outputs": [],
      "source": [
        "# Importación de librerías\n",
        "\n",
        "import pandas as pd\n",
        "import numpy as np\n",
        "import matplotlib.pyplot as plt\n",
        "import seaborn as sns\n",
        "from sklearn.utils import shuffle\n",
        "import xgboost as xgb\n",
        "from sklearn.model_selection import train_test_split\n",
        "from sklearn.metrics import confusion_matrix, classification_report\n",
        "from sklearn.model_selection import GridSearchCV\n",
        "\n",
        "import missingno as msng\n",
        "import warnings\n",
        "warnings.filterwarnings('ignore')\n",
        "%matplotlib inline\n",
        "plt.rcParams['figure.figsize'] = (15, 10)\n",
        "\n",
        "df = pd.read_csv('dataset_SCL_2.csv')"
      ]
    },
    {
      "cell_type": "markdown",
      "source": [
        "#### Up Sampling"
      ],
      "metadata": {
        "id": "T3tIMmmZ07cE"
      }
    },
    {
      "cell_type": "code",
      "source": [
        "df['atraso_15'].value_counts()"
      ],
      "metadata": {
        "colab": {
          "base_uri": "https://localhost:8080/"
        },
        "id": "HlrqTKBQ02Bb",
        "outputId": "37a501f0-12b2-47bf-b920-b96af6c11458"
      },
      "execution_count": null,
      "outputs": [
        {
          "output_type": "execute_result",
          "data": {
            "text/plain": [
              "0    55592\n",
              "1    12614\n",
              "Name: atraso_15, dtype: int64"
            ]
          },
          "metadata": {},
          "execution_count": 2
        }
      ]
    },
    {
      "cell_type": "code",
      "source": [
        "#Resample\n",
        "from sklearn.utils import resample\n",
        "\n",
        "data_no_retraso = df[df['atraso_15'] == 0]\n",
        "data_atraso = df[df['atraso_15'] == 1]\n",
        "\n",
        "data_atraso_upsampled = resample(data_atraso, \n",
        "                                 replace = True,     # sample with replacement\n",
        "                                 n_samples = 30000,    # to match majority class\n",
        "                                 random_state = 42) # reproducible results\n",
        "\n",
        "data_upsampled = pd.concat([data_no_retraso, data_atraso_upsampled])"
      ],
      "metadata": {
        "id": "AG0aoDCh1Jqf"
      },
      "execution_count": null,
      "outputs": []
    },
    {
      "cell_type": "code",
      "source": [
        "data_upsampled"
      ],
      "metadata": {
        "colab": {
          "base_uri": "https://localhost:8080/",
          "height": 424
        },
        "id": "7d49_1TtjBzQ",
        "outputId": "c7c51630-ff45-469e-eca7-f0e713695178"
      },
      "execution_count": null,
      "outputs": [
        {
          "output_type": "execute_result",
          "data": {
            "text/plain": [
              "       Unnamed: 0        OPERA  MES TIPOVUELO       SIGLADES     DIANOM  \\\n",
              "0           42405  Grupo LATAM    8         N    Antofagasta    Domingo   \n",
              "1           65490  Grupo LATAM   12         N   Puerto Montt  Miercoles   \n",
              "3            8036  Sky Airline    2         N        Iquique    Viernes   \n",
              "4           41039  Grupo LATAM    8         N    Antofagasta    Viernes   \n",
              "6           67061  Grupo LATAM   12         I      Sao Paulo  Miercoles   \n",
              "...           ...          ...  ...       ...            ...        ...   \n",
              "20923       24107  Sky Airline    5         I   Buenos Aires     Martes   \n",
              "11905       16352  Grupo LATAM    3         I           Lima     Martes   \n",
              "53279        4834  Grupo LATAM    1         I   Buenos Aires     Jueves   \n",
              "67078       11065  Grupo LATAM    2         I  Florianapolis     Martes   \n",
              "4657        62902  Grupo LATAM   12         I      Sao Paulo    Domingo   \n",
              "\n",
              "       temporada_alta periodo_dia  atraso_15  C_J_destinos  C_J_aerolineas  \n",
              "0                   0       noche          0             2               1  \n",
              "1                   1      mañana          0             2               1  \n",
              "3                   1       noche          0             2               1  \n",
              "4                   0       tarde          0             2               1  \n",
              "6                   1       tarde          0             3               1  \n",
              "...               ...         ...        ...           ...             ...  \n",
              "20923               0      mañana          1             3               1  \n",
              "11905               0       tarde          1             3               1  \n",
              "53279               1       noche          1             3               1  \n",
              "67078               1       tarde          1             3               1  \n",
              "4657                0       noche          1             3               1  \n",
              "\n",
              "[85592 rows x 11 columns]"
            ],
            "text/html": [
              "\n",
              "  <div id=\"df-81b9f7c4-900a-48cd-b1c9-7e15692d7df9\">\n",
              "    <div class=\"colab-df-container\">\n",
              "      <div>\n",
              "<style scoped>\n",
              "    .dataframe tbody tr th:only-of-type {\n",
              "        vertical-align: middle;\n",
              "    }\n",
              "\n",
              "    .dataframe tbody tr th {\n",
              "        vertical-align: top;\n",
              "    }\n",
              "\n",
              "    .dataframe thead th {\n",
              "        text-align: right;\n",
              "    }\n",
              "</style>\n",
              "<table border=\"1\" class=\"dataframe\">\n",
              "  <thead>\n",
              "    <tr style=\"text-align: right;\">\n",
              "      <th></th>\n",
              "      <th>Unnamed: 0</th>\n",
              "      <th>OPERA</th>\n",
              "      <th>MES</th>\n",
              "      <th>TIPOVUELO</th>\n",
              "      <th>SIGLADES</th>\n",
              "      <th>DIANOM</th>\n",
              "      <th>temporada_alta</th>\n",
              "      <th>periodo_dia</th>\n",
              "      <th>atraso_15</th>\n",
              "      <th>C_J_destinos</th>\n",
              "      <th>C_J_aerolineas</th>\n",
              "    </tr>\n",
              "  </thead>\n",
              "  <tbody>\n",
              "    <tr>\n",
              "      <th>0</th>\n",
              "      <td>42405</td>\n",
              "      <td>Grupo LATAM</td>\n",
              "      <td>8</td>\n",
              "      <td>N</td>\n",
              "      <td>Antofagasta</td>\n",
              "      <td>Domingo</td>\n",
              "      <td>0</td>\n",
              "      <td>noche</td>\n",
              "      <td>0</td>\n",
              "      <td>2</td>\n",
              "      <td>1</td>\n",
              "    </tr>\n",
              "    <tr>\n",
              "      <th>1</th>\n",
              "      <td>65490</td>\n",
              "      <td>Grupo LATAM</td>\n",
              "      <td>12</td>\n",
              "      <td>N</td>\n",
              "      <td>Puerto Montt</td>\n",
              "      <td>Miercoles</td>\n",
              "      <td>1</td>\n",
              "      <td>mañana</td>\n",
              "      <td>0</td>\n",
              "      <td>2</td>\n",
              "      <td>1</td>\n",
              "    </tr>\n",
              "    <tr>\n",
              "      <th>3</th>\n",
              "      <td>8036</td>\n",
              "      <td>Sky Airline</td>\n",
              "      <td>2</td>\n",
              "      <td>N</td>\n",
              "      <td>Iquique</td>\n",
              "      <td>Viernes</td>\n",
              "      <td>1</td>\n",
              "      <td>noche</td>\n",
              "      <td>0</td>\n",
              "      <td>2</td>\n",
              "      <td>1</td>\n",
              "    </tr>\n",
              "    <tr>\n",
              "      <th>4</th>\n",
              "      <td>41039</td>\n",
              "      <td>Grupo LATAM</td>\n",
              "      <td>8</td>\n",
              "      <td>N</td>\n",
              "      <td>Antofagasta</td>\n",
              "      <td>Viernes</td>\n",
              "      <td>0</td>\n",
              "      <td>tarde</td>\n",
              "      <td>0</td>\n",
              "      <td>2</td>\n",
              "      <td>1</td>\n",
              "    </tr>\n",
              "    <tr>\n",
              "      <th>6</th>\n",
              "      <td>67061</td>\n",
              "      <td>Grupo LATAM</td>\n",
              "      <td>12</td>\n",
              "      <td>I</td>\n",
              "      <td>Sao Paulo</td>\n",
              "      <td>Miercoles</td>\n",
              "      <td>1</td>\n",
              "      <td>tarde</td>\n",
              "      <td>0</td>\n",
              "      <td>3</td>\n",
              "      <td>1</td>\n",
              "    </tr>\n",
              "    <tr>\n",
              "      <th>...</th>\n",
              "      <td>...</td>\n",
              "      <td>...</td>\n",
              "      <td>...</td>\n",
              "      <td>...</td>\n",
              "      <td>...</td>\n",
              "      <td>...</td>\n",
              "      <td>...</td>\n",
              "      <td>...</td>\n",
              "      <td>...</td>\n",
              "      <td>...</td>\n",
              "      <td>...</td>\n",
              "    </tr>\n",
              "    <tr>\n",
              "      <th>20923</th>\n",
              "      <td>24107</td>\n",
              "      <td>Sky Airline</td>\n",
              "      <td>5</td>\n",
              "      <td>I</td>\n",
              "      <td>Buenos Aires</td>\n",
              "      <td>Martes</td>\n",
              "      <td>0</td>\n",
              "      <td>mañana</td>\n",
              "      <td>1</td>\n",
              "      <td>3</td>\n",
              "      <td>1</td>\n",
              "    </tr>\n",
              "    <tr>\n",
              "      <th>11905</th>\n",
              "      <td>16352</td>\n",
              "      <td>Grupo LATAM</td>\n",
              "      <td>3</td>\n",
              "      <td>I</td>\n",
              "      <td>Lima</td>\n",
              "      <td>Martes</td>\n",
              "      <td>0</td>\n",
              "      <td>tarde</td>\n",
              "      <td>1</td>\n",
              "      <td>3</td>\n",
              "      <td>1</td>\n",
              "    </tr>\n",
              "    <tr>\n",
              "      <th>53279</th>\n",
              "      <td>4834</td>\n",
              "      <td>Grupo LATAM</td>\n",
              "      <td>1</td>\n",
              "      <td>I</td>\n",
              "      <td>Buenos Aires</td>\n",
              "      <td>Jueves</td>\n",
              "      <td>1</td>\n",
              "      <td>noche</td>\n",
              "      <td>1</td>\n",
              "      <td>3</td>\n",
              "      <td>1</td>\n",
              "    </tr>\n",
              "    <tr>\n",
              "      <th>67078</th>\n",
              "      <td>11065</td>\n",
              "      <td>Grupo LATAM</td>\n",
              "      <td>2</td>\n",
              "      <td>I</td>\n",
              "      <td>Florianapolis</td>\n",
              "      <td>Martes</td>\n",
              "      <td>1</td>\n",
              "      <td>tarde</td>\n",
              "      <td>1</td>\n",
              "      <td>3</td>\n",
              "      <td>1</td>\n",
              "    </tr>\n",
              "    <tr>\n",
              "      <th>4657</th>\n",
              "      <td>62902</td>\n",
              "      <td>Grupo LATAM</td>\n",
              "      <td>12</td>\n",
              "      <td>I</td>\n",
              "      <td>Sao Paulo</td>\n",
              "      <td>Domingo</td>\n",
              "      <td>0</td>\n",
              "      <td>noche</td>\n",
              "      <td>1</td>\n",
              "      <td>3</td>\n",
              "      <td>1</td>\n",
              "    </tr>\n",
              "  </tbody>\n",
              "</table>\n",
              "<p>85592 rows × 11 columns</p>\n",
              "</div>\n",
              "      <button class=\"colab-df-convert\" onclick=\"convertToInteractive('df-81b9f7c4-900a-48cd-b1c9-7e15692d7df9')\"\n",
              "              title=\"Convert this dataframe to an interactive table.\"\n",
              "              style=\"display:none;\">\n",
              "        \n",
              "  <svg xmlns=\"http://www.w3.org/2000/svg\" height=\"24px\"viewBox=\"0 0 24 24\"\n",
              "       width=\"24px\">\n",
              "    <path d=\"M0 0h24v24H0V0z\" fill=\"none\"/>\n",
              "    <path d=\"M18.56 5.44l.94 2.06.94-2.06 2.06-.94-2.06-.94-.94-2.06-.94 2.06-2.06.94zm-11 1L8.5 8.5l.94-2.06 2.06-.94-2.06-.94L8.5 2.5l-.94 2.06-2.06.94zm10 10l.94 2.06.94-2.06 2.06-.94-2.06-.94-.94-2.06-.94 2.06-2.06.94z\"/><path d=\"M17.41 7.96l-1.37-1.37c-.4-.4-.92-.59-1.43-.59-.52 0-1.04.2-1.43.59L10.3 9.45l-7.72 7.72c-.78.78-.78 2.05 0 2.83L4 21.41c.39.39.9.59 1.41.59.51 0 1.02-.2 1.41-.59l7.78-7.78 2.81-2.81c.8-.78.8-2.07 0-2.86zM5.41 20L4 18.59l7.72-7.72 1.47 1.35L5.41 20z\"/>\n",
              "  </svg>\n",
              "      </button>\n",
              "      \n",
              "  <style>\n",
              "    .colab-df-container {\n",
              "      display:flex;\n",
              "      flex-wrap:wrap;\n",
              "      gap: 12px;\n",
              "    }\n",
              "\n",
              "    .colab-df-convert {\n",
              "      background-color: #E8F0FE;\n",
              "      border: none;\n",
              "      border-radius: 50%;\n",
              "      cursor: pointer;\n",
              "      display: none;\n",
              "      fill: #1967D2;\n",
              "      height: 32px;\n",
              "      padding: 0 0 0 0;\n",
              "      width: 32px;\n",
              "    }\n",
              "\n",
              "    .colab-df-convert:hover {\n",
              "      background-color: #E2EBFA;\n",
              "      box-shadow: 0px 1px 2px rgba(60, 64, 67, 0.3), 0px 1px 3px 1px rgba(60, 64, 67, 0.15);\n",
              "      fill: #174EA6;\n",
              "    }\n",
              "\n",
              "    [theme=dark] .colab-df-convert {\n",
              "      background-color: #3B4455;\n",
              "      fill: #D2E3FC;\n",
              "    }\n",
              "\n",
              "    [theme=dark] .colab-df-convert:hover {\n",
              "      background-color: #434B5C;\n",
              "      box-shadow: 0px 1px 3px 1px rgba(0, 0, 0, 0.15);\n",
              "      filter: drop-shadow(0px 1px 2px rgba(0, 0, 0, 0.3));\n",
              "      fill: #FFFFFF;\n",
              "    }\n",
              "  </style>\n",
              "\n",
              "      <script>\n",
              "        const buttonEl =\n",
              "          document.querySelector('#df-81b9f7c4-900a-48cd-b1c9-7e15692d7df9 button.colab-df-convert');\n",
              "        buttonEl.style.display =\n",
              "          google.colab.kernel.accessAllowed ? 'block' : 'none';\n",
              "\n",
              "        async function convertToInteractive(key) {\n",
              "          const element = document.querySelector('#df-81b9f7c4-900a-48cd-b1c9-7e15692d7df9');\n",
              "          const dataTable =\n",
              "            await google.colab.kernel.invokeFunction('convertToInteractive',\n",
              "                                                     [key], {});\n",
              "          if (!dataTable) return;\n",
              "\n",
              "          const docLinkHtml = 'Like what you see? Visit the ' +\n",
              "            '<a target=\"_blank\" href=https://colab.research.google.com/notebooks/data_table.ipynb>data table notebook</a>'\n",
              "            + ' to learn more about interactive tables.';\n",
              "          element.innerHTML = '';\n",
              "          dataTable['output_type'] = 'display_data';\n",
              "          await google.colab.output.renderOutput(dataTable, element);\n",
              "          const docLink = document.createElement('div');\n",
              "          docLink.innerHTML = docLinkHtml;\n",
              "          element.appendChild(docLink);\n",
              "        }\n",
              "      </script>\n",
              "    </div>\n",
              "  </div>\n",
              "  "
            ]
          },
          "metadata": {},
          "execution_count": 4
        }
      ]
    },
    {
      "cell_type": "code",
      "source": [
        "data_upsampled['atraso_15'].value_counts()"
      ],
      "metadata": {
        "colab": {
          "base_uri": "https://localhost:8080/"
        },
        "id": "NZnE1LQp1pJW",
        "outputId": "18ed71f4-a738-4086-aa19-2a298faa0858"
      },
      "execution_count": null,
      "outputs": [
        {
          "output_type": "execute_result",
          "data": {
            "text/plain": [
              "0    55592\n",
              "1    30000\n",
              "Name: atraso_15, dtype: int64"
            ]
          },
          "metadata": {},
          "execution_count": 5
        }
      ]
    },
    {
      "cell_type": "code",
      "source": [
        "# El algoritmo que se utilizará será XGBoost, el cual requiere dicotomizar las variables categóricas\n",
        "\n",
        "features_upsampled = pd.concat([pd.get_dummies(data_upsampled['OPERA'], prefix = 'OPERA'), pd.get_dummies(data_upsampled['MES'], prefix = 'MES'), pd.get_dummies(data_upsampled['TIPOVUELO'], prefix = 'TIPOVUELO'), \n",
        "                      pd.get_dummies(data_upsampled['SIGLADES'], prefix = 'SIGLADES'), pd.get_dummies(data_upsampled['DIANOM'], prefix = 'DIANOM'), pd.get_dummies(data_upsampled['periodo_dia'], prefix = 'periodo_dia'),\n",
        "                      pd.get_dummies(data_upsampled['C_J_destinos'], prefix = 'C_J_destinos'), pd.get_dummies(data_upsampled['C_J_aerolineas'], prefix = 'C_J_aerolineas')], axis = 1)\n",
        "label_upsampled = data_upsampled['atraso_15']"
      ],
      "metadata": {
        "id": "p7GxIdr1SFEJ"
      },
      "execution_count": null,
      "outputs": []
    },
    {
      "cell_type": "code",
      "source": [
        "# Se eligen las mejores variables\n",
        "\n",
        "dummies = features_upsampled[['MES_7', 'C_J_destinos_3', 'C_J_aerolineas_2', 'C_J_aerolineas_1', 'periodo_dia_mañana', 'C_J_destinos_1', 'MES_4', 'OPERA_Latin American Wings',\n",
        "                                'MES_12', 'MES_3', 'OPERA_Grupo LATAM', 'OPERA_Aerolineas Argentinas', 'DIANOM_Martes', 'DIANOM_Jueves', 'SIGLADES_Antofagasta',\n",
        "                                 'OPERA_Avianca', 'periodo_dia_tarde', 'OPERA_Aeromexico']]"
      ],
      "metadata": {
        "id": "etO-yvp0n9vx"
      },
      "execution_count": null,
      "outputs": []
    },
    {
      "cell_type": "markdown",
      "source": [
        "#### Utilizando XGBoost"
      ],
      "metadata": {
        "id": "gvw0_V9s_xsp"
      }
    },
    {
      "cell_type": "code",
      "source": [
        "x_upsampled_train, x_upsampled_test, y_upsampled_train, y_upsampled_test = train_test_split(dummies, label_upsampled, test_size = 0.33, random_state = 42)"
      ],
      "metadata": {
        "id": "vzDIiXAB4qI6"
      },
      "execution_count": null,
      "outputs": []
    },
    {
      "cell_type": "code",
      "source": [
        "modelxgb_best_up = xgb.XGBClassifier(random_state=1, learning_rate=0.01, subsample = 1, max_depth = 10)\n",
        "modelxgb_best_up.fit(x_upsampled_train, y_upsampled_train)"
      ],
      "metadata": {
        "colab": {
          "base_uri": "https://localhost:8080/"
        },
        "id": "AruDdhv54ut1",
        "outputId": "f9741586-dd7b-4562-c7ad-2bb20c7f1999"
      },
      "execution_count": null,
      "outputs": [
        {
          "output_type": "execute_result",
          "data": {
            "text/plain": [
              "XGBClassifier(learning_rate=0.01, max_depth=10, random_state=1)"
            ]
          },
          "metadata": {},
          "execution_count": 9
        }
      ]
    },
    {
      "cell_type": "code",
      "source": [
        "y_best_upsampled_predxgb = modelxgb_best_up.predict(x_upsampled_test)"
      ],
      "metadata": {
        "id": "A9xzKs7E5tre"
      },
      "execution_count": null,
      "outputs": []
    },
    {
      "cell_type": "markdown",
      "source": [
        "#### Métricas XGBoost"
      ],
      "metadata": {
        "id": "G3c41qhUvlXm"
      }
    },
    {
      "cell_type": "code",
      "source": [
        "confusion_matrix(y_upsampled_test, y_best_upsampled_predxgb)"
      ],
      "metadata": {
        "colab": {
          "base_uri": "https://localhost:8080/"
        },
        "id": "mOCPFOP9vifd",
        "outputId": "00dbea2c-174f-4480-ec77-2fb388d7840f"
      },
      "execution_count": null,
      "outputs": [
        {
          "output_type": "execute_result",
          "data": {
            "text/plain": [
              "array([[16678,  1671],\n",
              "       [ 7394,  2503]])"
            ]
          },
          "metadata": {},
          "execution_count": 11
        }
      ]
    },
    {
      "cell_type": "code",
      "source": [
        "print(classification_report(y_upsampled_test, y_best_upsampled_predxgb))"
      ],
      "metadata": {
        "colab": {
          "base_uri": "https://localhost:8080/"
        },
        "id": "-HfYXdFPvrsx",
        "outputId": "944d8213-4320-47f3-a350-e13d6c02851c"
      },
      "execution_count": null,
      "outputs": [
        {
          "output_type": "stream",
          "name": "stdout",
          "text": [
            "              precision    recall  f1-score   support\n",
            "\n",
            "           0       0.69      0.91      0.79     18349\n",
            "           1       0.60      0.25      0.36      9897\n",
            "\n",
            "    accuracy                           0.68     28246\n",
            "   macro avg       0.65      0.58      0.57     28246\n",
            "weighted avg       0.66      0.68      0.64     28246\n",
            "\n"
          ]
        }
      ]
    },
    {
      "cell_type": "markdown",
      "source": [
        "### Grid Search CV sobre Modelo XG Boost Up Sampling y con los mejores features"
      ],
      "metadata": {
        "id": "y2_HzZI17pfm"
      }
    },
    {
      "cell_type": "code",
      "source": [
        "parameters = {\n",
        "                'learning_rate': [0.01,0.05, 0.1],\n",
        "                'n_estimators': [50, 100, 150],\n",
        "                'subsample': [0.5, 0.9]\n",
        "}\n",
        "\n",
        "modelxgb_best_up_GridCV = GridSearchCV(modelxgb_best_up, param_grid = parameters,\n",
        "    cv = 2, n_jobs=-1, verbose=1).fit(x_upsampled_train, y_upsampled_train)"
      ],
      "metadata": {
        "colab": {
          "base_uri": "https://localhost:8080/"
        },
        "id": "DKXSYVt-uVL5",
        "outputId": "3bd2e421-8710-47a9-b143-f93a4b604b0e"
      },
      "execution_count": null,
      "outputs": [
        {
          "output_type": "stream",
          "name": "stdout",
          "text": [
            "Fitting 2 folds for each of 18 candidates, totalling 36 fits\n"
          ]
        }
      ]
    },
    {
      "cell_type": "code",
      "source": [
        "y_predxgb_best_up_GridCV = modelxgb_best_up_GridCV.predict(x_upsampled_test)"
      ],
      "metadata": {
        "id": "7iy8eEDi_6_7"
      },
      "execution_count": null,
      "outputs": []
    },
    {
      "cell_type": "markdown",
      "source": [
        "#### Métricas XGBoost"
      ],
      "metadata": {
        "id": "WU4G8ST7_9qY"
      }
    },
    {
      "cell_type": "code",
      "source": [
        "confusion_matrix(y_upsampled_test, y_predxgb_best_up_GridCV)"
      ],
      "metadata": {
        "colab": {
          "base_uri": "https://localhost:8080/"
        },
        "id": "9HqHGAGhAAl8",
        "outputId": "780ccbe1-33c3-40c1-8856-ec98574048ac"
      },
      "execution_count": null,
      "outputs": [
        {
          "output_type": "execute_result",
          "data": {
            "text/plain": [
              "array([[16691,  1658],\n",
              "       [ 7388,  2509]])"
            ]
          },
          "metadata": {},
          "execution_count": 15
        }
      ]
    },
    {
      "cell_type": "code",
      "source": [
        "print(classification_report(y_upsampled_test, y_predxgb_best_up_GridCV))"
      ],
      "metadata": {
        "colab": {
          "base_uri": "https://localhost:8080/"
        },
        "id": "HznbIjLxAEWx",
        "outputId": "3e810e83-5419-4e3c-8d9a-35741b9a49ab"
      },
      "execution_count": null,
      "outputs": [
        {
          "output_type": "stream",
          "name": "stdout",
          "text": [
            "              precision    recall  f1-score   support\n",
            "\n",
            "           0       0.69      0.91      0.79     18349\n",
            "           1       0.60      0.25      0.36      9897\n",
            "\n",
            "    accuracy                           0.68     28246\n",
            "   macro avg       0.65      0.58      0.57     28246\n",
            "weighted avg       0.66      0.68      0.64     28246\n",
            "\n"
          ]
        }
      ]
    },
    {
      "cell_type": "markdown",
      "source": [
        "### Este modelo tiene un Accuracy del 68%, una Sensitivity del 60% y una Precision para la clase 1 del 25%. No se han logrado mejoras, salvo una mejor Accuracy."
      ],
      "metadata": {
        "id": "ns6-FcEyvZzA"
      }
    }
  ]
}