{
  "nbformat": 4,
  "nbformat_minor": 0,
  "metadata": {
    "colab": {
      "name": "6_Reg_LOG.ipynb",
      "provenance": []
    },
    "kernelspec": {
      "name": "python3",
      "display_name": "Python 3"
    },
    "language_info": {
      "name": "python"
    }
  },
  "cells": [
    {
      "cell_type": "markdown",
      "source": [
        "### Regresión Logística.\n",
        "### Aunque no es el objetivo explicar cómo las variables independientes explican el atraso, se ha desechado 1 clase de cada variable dicotomizada y así evitar la multicolinealidad en el modelo."
      ],
      "metadata": {
        "id": "0QG-37IqL2AZ"
      }
    },
    {
      "cell_type": "code",
      "execution_count": 12,
      "metadata": {
        "id": "RdFiWjG-Lgny"
      },
      "outputs": [],
      "source": [
        "# Importación de librerías\n",
        "\n",
        "import pandas as pd\n",
        "import numpy as np\n",
        "import matplotlib.pyplot as plt\n",
        "import seaborn as sns\n",
        "from sklearn.utils import shuffle\n",
        "import xgboost as xgb\n",
        "from sklearn.model_selection import train_test_split\n",
        "from sklearn.ensemble import RandomForestClassifier\n",
        "from sklearn.metrics import accuracy_score\n",
        "from sklearn.metrics import confusion_matrix, classification_report\n",
        "from sklearn.linear_model import LogisticRegression\n",
        "\n",
        "import missingno as msng\n",
        "import warnings\n",
        "warnings.filterwarnings('ignore')\n",
        "%matplotlib inline\n",
        "plt.rcParams['figure.figsize'] = (15, 10)\n",
        "\n",
        "mf = pd.read_csv('dataset_SCL_2.csv')"
      ]
    },
    {
      "cell_type": "code",
      "source": [
        "mf.head()"
      ],
      "metadata": {
        "colab": {
          "base_uri": "https://localhost:8080/",
          "height": 206
        },
        "id": "5ulX-v63L_ie",
        "outputId": "2ac80b70-9740-42ef-eccc-1d5fe12352a0"
      },
      "execution_count": 4,
      "outputs": [
        {
          "output_type": "execute_result",
          "data": {
            "text/plain": [
              "   Unnamed: 0        OPERA  MES TIPOVUELO      SIGLADES     DIANOM  \\\n",
              "0       42405  Grupo LATAM    8         N   Antofagasta    Domingo   \n",
              "1       65490  Grupo LATAM   12         N  Puerto Montt  Miercoles   \n",
              "2       37211  Grupo LATAM    7         I       Rosario     Sabado   \n",
              "3        8036  Sky Airline    2         N       Iquique    Viernes   \n",
              "4       41039  Grupo LATAM    8         N   Antofagasta    Viernes   \n",
              "\n",
              "   temporada_alta periodo_dia  atraso_15  C_J_destinos  C_J_aerolineas  \n",
              "0               0       noche          0             2               1  \n",
              "1               1      mañana          0             2               1  \n",
              "2               1      mañana          1             3               1  \n",
              "3               1       noche          0             2               1  \n",
              "4               0       tarde          0             2               1  "
            ],
            "text/html": [
              "\n",
              "  <div id=\"df-c88a2152-32cb-42f1-9aea-98d357f2d059\">\n",
              "    <div class=\"colab-df-container\">\n",
              "      <div>\n",
              "<style scoped>\n",
              "    .dataframe tbody tr th:only-of-type {\n",
              "        vertical-align: middle;\n",
              "    }\n",
              "\n",
              "    .dataframe tbody tr th {\n",
              "        vertical-align: top;\n",
              "    }\n",
              "\n",
              "    .dataframe thead th {\n",
              "        text-align: right;\n",
              "    }\n",
              "</style>\n",
              "<table border=\"1\" class=\"dataframe\">\n",
              "  <thead>\n",
              "    <tr style=\"text-align: right;\">\n",
              "      <th></th>\n",
              "      <th>Unnamed: 0</th>\n",
              "      <th>OPERA</th>\n",
              "      <th>MES</th>\n",
              "      <th>TIPOVUELO</th>\n",
              "      <th>SIGLADES</th>\n",
              "      <th>DIANOM</th>\n",
              "      <th>temporada_alta</th>\n",
              "      <th>periodo_dia</th>\n",
              "      <th>atraso_15</th>\n",
              "      <th>C_J_destinos</th>\n",
              "      <th>C_J_aerolineas</th>\n",
              "    </tr>\n",
              "  </thead>\n",
              "  <tbody>\n",
              "    <tr>\n",
              "      <th>0</th>\n",
              "      <td>42405</td>\n",
              "      <td>Grupo LATAM</td>\n",
              "      <td>8</td>\n",
              "      <td>N</td>\n",
              "      <td>Antofagasta</td>\n",
              "      <td>Domingo</td>\n",
              "      <td>0</td>\n",
              "      <td>noche</td>\n",
              "      <td>0</td>\n",
              "      <td>2</td>\n",
              "      <td>1</td>\n",
              "    </tr>\n",
              "    <tr>\n",
              "      <th>1</th>\n",
              "      <td>65490</td>\n",
              "      <td>Grupo LATAM</td>\n",
              "      <td>12</td>\n",
              "      <td>N</td>\n",
              "      <td>Puerto Montt</td>\n",
              "      <td>Miercoles</td>\n",
              "      <td>1</td>\n",
              "      <td>mañana</td>\n",
              "      <td>0</td>\n",
              "      <td>2</td>\n",
              "      <td>1</td>\n",
              "    </tr>\n",
              "    <tr>\n",
              "      <th>2</th>\n",
              "      <td>37211</td>\n",
              "      <td>Grupo LATAM</td>\n",
              "      <td>7</td>\n",
              "      <td>I</td>\n",
              "      <td>Rosario</td>\n",
              "      <td>Sabado</td>\n",
              "      <td>1</td>\n",
              "      <td>mañana</td>\n",
              "      <td>1</td>\n",
              "      <td>3</td>\n",
              "      <td>1</td>\n",
              "    </tr>\n",
              "    <tr>\n",
              "      <th>3</th>\n",
              "      <td>8036</td>\n",
              "      <td>Sky Airline</td>\n",
              "      <td>2</td>\n",
              "      <td>N</td>\n",
              "      <td>Iquique</td>\n",
              "      <td>Viernes</td>\n",
              "      <td>1</td>\n",
              "      <td>noche</td>\n",
              "      <td>0</td>\n",
              "      <td>2</td>\n",
              "      <td>1</td>\n",
              "    </tr>\n",
              "    <tr>\n",
              "      <th>4</th>\n",
              "      <td>41039</td>\n",
              "      <td>Grupo LATAM</td>\n",
              "      <td>8</td>\n",
              "      <td>N</td>\n",
              "      <td>Antofagasta</td>\n",
              "      <td>Viernes</td>\n",
              "      <td>0</td>\n",
              "      <td>tarde</td>\n",
              "      <td>0</td>\n",
              "      <td>2</td>\n",
              "      <td>1</td>\n",
              "    </tr>\n",
              "  </tbody>\n",
              "</table>\n",
              "</div>\n",
              "      <button class=\"colab-df-convert\" onclick=\"convertToInteractive('df-c88a2152-32cb-42f1-9aea-98d357f2d059')\"\n",
              "              title=\"Convert this dataframe to an interactive table.\"\n",
              "              style=\"display:none;\">\n",
              "        \n",
              "  <svg xmlns=\"http://www.w3.org/2000/svg\" height=\"24px\"viewBox=\"0 0 24 24\"\n",
              "       width=\"24px\">\n",
              "    <path d=\"M0 0h24v24H0V0z\" fill=\"none\"/>\n",
              "    <path d=\"M18.56 5.44l.94 2.06.94-2.06 2.06-.94-2.06-.94-.94-2.06-.94 2.06-2.06.94zm-11 1L8.5 8.5l.94-2.06 2.06-.94-2.06-.94L8.5 2.5l-.94 2.06-2.06.94zm10 10l.94 2.06.94-2.06 2.06-.94-2.06-.94-.94-2.06-.94 2.06-2.06.94z\"/><path d=\"M17.41 7.96l-1.37-1.37c-.4-.4-.92-.59-1.43-.59-.52 0-1.04.2-1.43.59L10.3 9.45l-7.72 7.72c-.78.78-.78 2.05 0 2.83L4 21.41c.39.39.9.59 1.41.59.51 0 1.02-.2 1.41-.59l7.78-7.78 2.81-2.81c.8-.78.8-2.07 0-2.86zM5.41 20L4 18.59l7.72-7.72 1.47 1.35L5.41 20z\"/>\n",
              "  </svg>\n",
              "      </button>\n",
              "      \n",
              "  <style>\n",
              "    .colab-df-container {\n",
              "      display:flex;\n",
              "      flex-wrap:wrap;\n",
              "      gap: 12px;\n",
              "    }\n",
              "\n",
              "    .colab-df-convert {\n",
              "      background-color: #E8F0FE;\n",
              "      border: none;\n",
              "      border-radius: 50%;\n",
              "      cursor: pointer;\n",
              "      display: none;\n",
              "      fill: #1967D2;\n",
              "      height: 32px;\n",
              "      padding: 0 0 0 0;\n",
              "      width: 32px;\n",
              "    }\n",
              "\n",
              "    .colab-df-convert:hover {\n",
              "      background-color: #E2EBFA;\n",
              "      box-shadow: 0px 1px 2px rgba(60, 64, 67, 0.3), 0px 1px 3px 1px rgba(60, 64, 67, 0.15);\n",
              "      fill: #174EA6;\n",
              "    }\n",
              "\n",
              "    [theme=dark] .colab-df-convert {\n",
              "      background-color: #3B4455;\n",
              "      fill: #D2E3FC;\n",
              "    }\n",
              "\n",
              "    [theme=dark] .colab-df-convert:hover {\n",
              "      background-color: #434B5C;\n",
              "      box-shadow: 0px 1px 3px 1px rgba(0, 0, 0, 0.15);\n",
              "      filter: drop-shadow(0px 1px 2px rgba(0, 0, 0, 0.3));\n",
              "      fill: #FFFFFF;\n",
              "    }\n",
              "  </style>\n",
              "\n",
              "      <script>\n",
              "        const buttonEl =\n",
              "          document.querySelector('#df-c88a2152-32cb-42f1-9aea-98d357f2d059 button.colab-df-convert');\n",
              "        buttonEl.style.display =\n",
              "          google.colab.kernel.accessAllowed ? 'block' : 'none';\n",
              "\n",
              "        async function convertToInteractive(key) {\n",
              "          const element = document.querySelector('#df-c88a2152-32cb-42f1-9aea-98d357f2d059');\n",
              "          const dataTable =\n",
              "            await google.colab.kernel.invokeFunction('convertToInteractive',\n",
              "                                                     [key], {});\n",
              "          if (!dataTable) return;\n",
              "\n",
              "          const docLinkHtml = 'Like what you see? Visit the ' +\n",
              "            '<a target=\"_blank\" href=https://colab.research.google.com/notebooks/data_table.ipynb>data table notebook</a>'\n",
              "            + ' to learn more about interactive tables.';\n",
              "          element.innerHTML = '';\n",
              "          dataTable['output_type'] = 'display_data';\n",
              "          await google.colab.output.renderOutput(dataTable, element);\n",
              "          const docLink = document.createElement('div');\n",
              "          docLink.innerHTML = docLinkHtml;\n",
              "          element.appendChild(docLink);\n",
              "        }\n",
              "      </script>\n",
              "    </div>\n",
              "  </div>\n",
              "  "
            ]
          },
          "metadata": {},
          "execution_count": 4
        }
      ]
    },
    {
      "cell_type": "code",
      "source": [
        "mf.info()"
      ],
      "metadata": {
        "colab": {
          "base_uri": "https://localhost:8080/"
        },
        "id": "UsR0MIlSMdw5",
        "outputId": "56a6e6a6-8101-4ba5-d893-49b55776307f"
      },
      "execution_count": 5,
      "outputs": [
        {
          "output_type": "stream",
          "name": "stdout",
          "text": [
            "<class 'pandas.core.frame.DataFrame'>\n",
            "RangeIndex: 68206 entries, 0 to 68205\n",
            "Data columns (total 11 columns):\n",
            " #   Column          Non-Null Count  Dtype \n",
            "---  ------          --------------  ----- \n",
            " 0   Unnamed: 0      68206 non-null  int64 \n",
            " 1   OPERA           68206 non-null  object\n",
            " 2   MES             68206 non-null  int64 \n",
            " 3   TIPOVUELO       68206 non-null  object\n",
            " 4   SIGLADES        68206 non-null  object\n",
            " 5   DIANOM          68206 non-null  object\n",
            " 6   temporada_alta  68206 non-null  int64 \n",
            " 7   periodo_dia     66976 non-null  object\n",
            " 8   atraso_15       68206 non-null  int64 \n",
            " 9   C_J_destinos    68206 non-null  int64 \n",
            " 10  C_J_aerolineas  68206 non-null  int64 \n",
            "dtypes: int64(6), object(5)\n",
            "memory usage: 5.7+ MB\n"
          ]
        }
      ]
    },
    {
      "cell_type": "code",
      "source": [
        "# Creamos las variables dummies. Se usa drop_first para evitar la multicolinealidad extrema en la reg log\n",
        "\n",
        "features_reg_log = pd.concat([pd.get_dummies(mf['OPERA'], prefix = 'OPERA', drop_first=True), \n",
        "                      pd.get_dummies(mf['MES'], prefix = 'MES', drop_first=True), \n",
        "                      pd.get_dummies(mf['TIPOVUELO'], prefix = 'TIPOVUELO', drop_first=True),\n",
        "                      pd.get_dummies(mf['SIGLADES'], drop_first=True),\n",
        "                      pd.get_dummies(mf['DIANOM'], drop_first=True),\n",
        "                      pd.get_dummies(mf['periodo_dia'], drop_first=True),\n",
        "                      pd.get_dummies(mf['C_J_destinos'], prefix = 'C_J_destinos', drop_first=True),\n",
        "                      pd.get_dummies(mf['C_J_aerolineas'], prefix = 'C_J_aerolineas', drop_first=True)], axis = 1)\n",
        "label = mf['atraso_15']"
      ],
      "metadata": {
        "id": "JexXCgERMg4c"
      },
      "execution_count": 6,
      "outputs": []
    },
    {
      "cell_type": "code",
      "source": [
        "features_reg_log.head()"
      ],
      "metadata": {
        "colab": {
          "base_uri": "https://localhost:8080/",
          "height": 317
        },
        "id": "UBNa5WUQMkX-",
        "outputId": "2563dcdd-dfac-43ca-c0a7-42b653cb0ef2"
      },
      "execution_count": 7,
      "outputs": [
        {
          "output_type": "execute_result",
          "data": {
            "text/plain": [
              "   OPERA_Aeromexico  OPERA_Air Canada  OPERA_Air France  OPERA_Alitalia  \\\n",
              "0                 0                 0                 0               0   \n",
              "1                 0                 0                 0               0   \n",
              "2                 0                 0                 0               0   \n",
              "3                 0                 0                 0               0   \n",
              "4                 0                 0                 0               0   \n",
              "\n",
              "   OPERA_American Airlines  OPERA_Austral  OPERA_Avianca  \\\n",
              "0                        0              0              0   \n",
              "1                        0              0              0   \n",
              "2                        0              0              0   \n",
              "3                        0              0              0   \n",
              "4                        0              0              0   \n",
              "\n",
              "   OPERA_British Airways  OPERA_Copa Air  OPERA_Delta Air  ...  Sabado  \\\n",
              "0                      0               0                0  ...       0   \n",
              "1                      0               0                0  ...       0   \n",
              "2                      0               0                0  ...       1   \n",
              "3                      0               0                0  ...       0   \n",
              "4                      0               0                0  ...       0   \n",
              "\n",
              "   Viernes  noche  tarde  C_J_destinos_2  C_J_destinos_3  C_J_aerolineas_2  \\\n",
              "0        0      1      0               1               0                 0   \n",
              "1        0      0      0               1               0                 0   \n",
              "2        0      0      0               0               1                 0   \n",
              "3        1      1      0               1               0                 0   \n",
              "4        1      0      1               1               0                 0   \n",
              "\n",
              "   C_J_aerolineas_3  C_J_aerolineas_4  C_J_aerolineas_5  \n",
              "0                 0                 0                 0  \n",
              "1                 0                 0                 0  \n",
              "2                 0                 0                 0  \n",
              "3                 0                 0                 0  \n",
              "4                 0                 0                 0  \n",
              "\n",
              "[5 rows x 109 columns]"
            ],
            "text/html": [
              "\n",
              "  <div id=\"df-fd54c013-824b-4fa7-b8af-d6c346f7ae1c\">\n",
              "    <div class=\"colab-df-container\">\n",
              "      <div>\n",
              "<style scoped>\n",
              "    .dataframe tbody tr th:only-of-type {\n",
              "        vertical-align: middle;\n",
              "    }\n",
              "\n",
              "    .dataframe tbody tr th {\n",
              "        vertical-align: top;\n",
              "    }\n",
              "\n",
              "    .dataframe thead th {\n",
              "        text-align: right;\n",
              "    }\n",
              "</style>\n",
              "<table border=\"1\" class=\"dataframe\">\n",
              "  <thead>\n",
              "    <tr style=\"text-align: right;\">\n",
              "      <th></th>\n",
              "      <th>OPERA_Aeromexico</th>\n",
              "      <th>OPERA_Air Canada</th>\n",
              "      <th>OPERA_Air France</th>\n",
              "      <th>OPERA_Alitalia</th>\n",
              "      <th>OPERA_American Airlines</th>\n",
              "      <th>OPERA_Austral</th>\n",
              "      <th>OPERA_Avianca</th>\n",
              "      <th>OPERA_British Airways</th>\n",
              "      <th>OPERA_Copa Air</th>\n",
              "      <th>OPERA_Delta Air</th>\n",
              "      <th>...</th>\n",
              "      <th>Sabado</th>\n",
              "      <th>Viernes</th>\n",
              "      <th>noche</th>\n",
              "      <th>tarde</th>\n",
              "      <th>C_J_destinos_2</th>\n",
              "      <th>C_J_destinos_3</th>\n",
              "      <th>C_J_aerolineas_2</th>\n",
              "      <th>C_J_aerolineas_3</th>\n",
              "      <th>C_J_aerolineas_4</th>\n",
              "      <th>C_J_aerolineas_5</th>\n",
              "    </tr>\n",
              "  </thead>\n",
              "  <tbody>\n",
              "    <tr>\n",
              "      <th>0</th>\n",
              "      <td>0</td>\n",
              "      <td>0</td>\n",
              "      <td>0</td>\n",
              "      <td>0</td>\n",
              "      <td>0</td>\n",
              "      <td>0</td>\n",
              "      <td>0</td>\n",
              "      <td>0</td>\n",
              "      <td>0</td>\n",
              "      <td>0</td>\n",
              "      <td>...</td>\n",
              "      <td>0</td>\n",
              "      <td>0</td>\n",
              "      <td>1</td>\n",
              "      <td>0</td>\n",
              "      <td>1</td>\n",
              "      <td>0</td>\n",
              "      <td>0</td>\n",
              "      <td>0</td>\n",
              "      <td>0</td>\n",
              "      <td>0</td>\n",
              "    </tr>\n",
              "    <tr>\n",
              "      <th>1</th>\n",
              "      <td>0</td>\n",
              "      <td>0</td>\n",
              "      <td>0</td>\n",
              "      <td>0</td>\n",
              "      <td>0</td>\n",
              "      <td>0</td>\n",
              "      <td>0</td>\n",
              "      <td>0</td>\n",
              "      <td>0</td>\n",
              "      <td>0</td>\n",
              "      <td>...</td>\n",
              "      <td>0</td>\n",
              "      <td>0</td>\n",
              "      <td>0</td>\n",
              "      <td>0</td>\n",
              "      <td>1</td>\n",
              "      <td>0</td>\n",
              "      <td>0</td>\n",
              "      <td>0</td>\n",
              "      <td>0</td>\n",
              "      <td>0</td>\n",
              "    </tr>\n",
              "    <tr>\n",
              "      <th>2</th>\n",
              "      <td>0</td>\n",
              "      <td>0</td>\n",
              "      <td>0</td>\n",
              "      <td>0</td>\n",
              "      <td>0</td>\n",
              "      <td>0</td>\n",
              "      <td>0</td>\n",
              "      <td>0</td>\n",
              "      <td>0</td>\n",
              "      <td>0</td>\n",
              "      <td>...</td>\n",
              "      <td>1</td>\n",
              "      <td>0</td>\n",
              "      <td>0</td>\n",
              "      <td>0</td>\n",
              "      <td>0</td>\n",
              "      <td>1</td>\n",
              "      <td>0</td>\n",
              "      <td>0</td>\n",
              "      <td>0</td>\n",
              "      <td>0</td>\n",
              "    </tr>\n",
              "    <tr>\n",
              "      <th>3</th>\n",
              "      <td>0</td>\n",
              "      <td>0</td>\n",
              "      <td>0</td>\n",
              "      <td>0</td>\n",
              "      <td>0</td>\n",
              "      <td>0</td>\n",
              "      <td>0</td>\n",
              "      <td>0</td>\n",
              "      <td>0</td>\n",
              "      <td>0</td>\n",
              "      <td>...</td>\n",
              "      <td>0</td>\n",
              "      <td>1</td>\n",
              "      <td>1</td>\n",
              "      <td>0</td>\n",
              "      <td>1</td>\n",
              "      <td>0</td>\n",
              "      <td>0</td>\n",
              "      <td>0</td>\n",
              "      <td>0</td>\n",
              "      <td>0</td>\n",
              "    </tr>\n",
              "    <tr>\n",
              "      <th>4</th>\n",
              "      <td>0</td>\n",
              "      <td>0</td>\n",
              "      <td>0</td>\n",
              "      <td>0</td>\n",
              "      <td>0</td>\n",
              "      <td>0</td>\n",
              "      <td>0</td>\n",
              "      <td>0</td>\n",
              "      <td>0</td>\n",
              "      <td>0</td>\n",
              "      <td>...</td>\n",
              "      <td>0</td>\n",
              "      <td>1</td>\n",
              "      <td>0</td>\n",
              "      <td>1</td>\n",
              "      <td>1</td>\n",
              "      <td>0</td>\n",
              "      <td>0</td>\n",
              "      <td>0</td>\n",
              "      <td>0</td>\n",
              "      <td>0</td>\n",
              "    </tr>\n",
              "  </tbody>\n",
              "</table>\n",
              "<p>5 rows × 109 columns</p>\n",
              "</div>\n",
              "      <button class=\"colab-df-convert\" onclick=\"convertToInteractive('df-fd54c013-824b-4fa7-b8af-d6c346f7ae1c')\"\n",
              "              title=\"Convert this dataframe to an interactive table.\"\n",
              "              style=\"display:none;\">\n",
              "        \n",
              "  <svg xmlns=\"http://www.w3.org/2000/svg\" height=\"24px\"viewBox=\"0 0 24 24\"\n",
              "       width=\"24px\">\n",
              "    <path d=\"M0 0h24v24H0V0z\" fill=\"none\"/>\n",
              "    <path d=\"M18.56 5.44l.94 2.06.94-2.06 2.06-.94-2.06-.94-.94-2.06-.94 2.06-2.06.94zm-11 1L8.5 8.5l.94-2.06 2.06-.94-2.06-.94L8.5 2.5l-.94 2.06-2.06.94zm10 10l.94 2.06.94-2.06 2.06-.94-2.06-.94-.94-2.06-.94 2.06-2.06.94z\"/><path d=\"M17.41 7.96l-1.37-1.37c-.4-.4-.92-.59-1.43-.59-.52 0-1.04.2-1.43.59L10.3 9.45l-7.72 7.72c-.78.78-.78 2.05 0 2.83L4 21.41c.39.39.9.59 1.41.59.51 0 1.02-.2 1.41-.59l7.78-7.78 2.81-2.81c.8-.78.8-2.07 0-2.86zM5.41 20L4 18.59l7.72-7.72 1.47 1.35L5.41 20z\"/>\n",
              "  </svg>\n",
              "      </button>\n",
              "      \n",
              "  <style>\n",
              "    .colab-df-container {\n",
              "      display:flex;\n",
              "      flex-wrap:wrap;\n",
              "      gap: 12px;\n",
              "    }\n",
              "\n",
              "    .colab-df-convert {\n",
              "      background-color: #E8F0FE;\n",
              "      border: none;\n",
              "      border-radius: 50%;\n",
              "      cursor: pointer;\n",
              "      display: none;\n",
              "      fill: #1967D2;\n",
              "      height: 32px;\n",
              "      padding: 0 0 0 0;\n",
              "      width: 32px;\n",
              "    }\n",
              "\n",
              "    .colab-df-convert:hover {\n",
              "      background-color: #E2EBFA;\n",
              "      box-shadow: 0px 1px 2px rgba(60, 64, 67, 0.3), 0px 1px 3px 1px rgba(60, 64, 67, 0.15);\n",
              "      fill: #174EA6;\n",
              "    }\n",
              "\n",
              "    [theme=dark] .colab-df-convert {\n",
              "      background-color: #3B4455;\n",
              "      fill: #D2E3FC;\n",
              "    }\n",
              "\n",
              "    [theme=dark] .colab-df-convert:hover {\n",
              "      background-color: #434B5C;\n",
              "      box-shadow: 0px 1px 3px 1px rgba(0, 0, 0, 0.15);\n",
              "      filter: drop-shadow(0px 1px 2px rgba(0, 0, 0, 0.3));\n",
              "      fill: #FFFFFF;\n",
              "    }\n",
              "  </style>\n",
              "\n",
              "      <script>\n",
              "        const buttonEl =\n",
              "          document.querySelector('#df-fd54c013-824b-4fa7-b8af-d6c346f7ae1c button.colab-df-convert');\n",
              "        buttonEl.style.display =\n",
              "          google.colab.kernel.accessAllowed ? 'block' : 'none';\n",
              "\n",
              "        async function convertToInteractive(key) {\n",
              "          const element = document.querySelector('#df-fd54c013-824b-4fa7-b8af-d6c346f7ae1c');\n",
              "          const dataTable =\n",
              "            await google.colab.kernel.invokeFunction('convertToInteractive',\n",
              "                                                     [key], {});\n",
              "          if (!dataTable) return;\n",
              "\n",
              "          const docLinkHtml = 'Like what you see? Visit the ' +\n",
              "            '<a target=\"_blank\" href=https://colab.research.google.com/notebooks/data_table.ipynb>data table notebook</a>'\n",
              "            + ' to learn more about interactive tables.';\n",
              "          element.innerHTML = '';\n",
              "          dataTable['output_type'] = 'display_data';\n",
              "          await google.colab.output.renderOutput(dataTable, element);\n",
              "          const docLink = document.createElement('div');\n",
              "          docLink.innerHTML = docLinkHtml;\n",
              "          element.appendChild(docLink);\n",
              "        }\n",
              "      </script>\n",
              "    </div>\n",
              "  </div>\n",
              "  "
            ]
          },
          "metadata": {},
          "execution_count": 7
        }
      ]
    },
    {
      "cell_type": "markdown",
      "source": [
        "Se separan las muestras de entrenamiento y testing. 70% entrenamiento, 30% testing."
      ],
      "metadata": {
        "id": "21Z-LOj4MqgC"
      }
    },
    {
      "cell_type": "code",
      "source": [
        "x_train, x_test, y_train, y_test = train_test_split(features_reg_log, label, test_size = 0.3, random_state = 100)"
      ],
      "metadata": {
        "id": "9Pj_XKCoMoMG"
      },
      "execution_count": 8,
      "outputs": []
    },
    {
      "cell_type": "code",
      "source": [
        "x_train.shape, x_test.shape"
      ],
      "metadata": {
        "colab": {
          "base_uri": "https://localhost:8080/"
        },
        "id": "0Je19kC6MzM1",
        "outputId": "fb494771-9de5-4ee9-ab58-9644134cc9ef"
      },
      "execution_count": 9,
      "outputs": [
        {
          "output_type": "execute_result",
          "data": {
            "text/plain": [
              "((47744, 109), (20462, 109))"
            ]
          },
          "metadata": {},
          "execution_count": 9
        }
      ]
    },
    {
      "cell_type": "code",
      "source": [
        "y_train.value_counts('%')"
      ],
      "metadata": {
        "colab": {
          "base_uri": "https://localhost:8080/"
        },
        "id": "YGZLcQ5VM3tC",
        "outputId": "9af2eab6-1377-4827-dcaa-132427936284"
      },
      "execution_count": 10,
      "outputs": [
        {
          "output_type": "execute_result",
          "data": {
            "text/plain": [
              "0    0.813903\n",
              "1    0.186097\n",
              "Name: atraso_15, dtype: float64"
            ]
          },
          "metadata": {},
          "execution_count": 10
        }
      ]
    },
    {
      "cell_type": "code",
      "source": [
        "y_test.value_counts('%')"
      ],
      "metadata": {
        "colab": {
          "base_uri": "https://localhost:8080/"
        },
        "id": "oaopyCYAM4Bh",
        "outputId": "36bf2a88-0f7b-4deb-c71f-805e811f60b2"
      },
      "execution_count": 11,
      "outputs": [
        {
          "output_type": "execute_result",
          "data": {
            "text/plain": [
              "0    0.81776\n",
              "1    0.18224\n",
              "Name: atraso_15, dtype: float64"
            ]
          },
          "metadata": {},
          "execution_count": 11
        }
      ]
    },
    {
      "cell_type": "code",
      "source": [
        "logReg = LogisticRegression()\n",
        "model = logReg.fit(x_train, y_train)"
      ],
      "metadata": {
        "id": "_Erxq_yAM_UN"
      },
      "execution_count": 13,
      "outputs": []
    },
    {
      "cell_type": "code",
      "source": [
        "y_pred = model.predict(x_test)"
      ],
      "metadata": {
        "id": "XMM5J9UpN8qV"
      },
      "execution_count": 14,
      "outputs": []
    },
    {
      "cell_type": "markdown",
      "source": [
        "#### Métricas Regresión Logística"
      ],
      "metadata": {
        "id": "t29VUVm0ODlV"
      }
    },
    {
      "cell_type": "code",
      "source": [
        "confusion_matrix(y_test, y_pred)"
      ],
      "metadata": {
        "colab": {
          "base_uri": "https://localhost:8080/"
        },
        "id": "bYLKfNQaN_kN",
        "outputId": "c72f128c-d826-420e-96cb-33ca9ca470e9"
      },
      "execution_count": 15,
      "outputs": [
        {
          "output_type": "execute_result",
          "data": {
            "text/plain": [
              "array([[16577,   156],\n",
              "       [ 3575,   154]])"
            ]
          },
          "metadata": {},
          "execution_count": 15
        }
      ]
    },
    {
      "cell_type": "code",
      "source": [
        "print(classification_report(y_test, y_pred))"
      ],
      "metadata": {
        "colab": {
          "base_uri": "https://localhost:8080/"
        },
        "id": "S8fb6Ap9OHUu",
        "outputId": "0831b2fb-5858-4d88-e5b9-f272c6c3594d"
      },
      "execution_count": 16,
      "outputs": [
        {
          "output_type": "stream",
          "name": "stdout",
          "text": [
            "              precision    recall  f1-score   support\n",
            "\n",
            "           0       0.82      0.99      0.90     16733\n",
            "           1       0.50      0.04      0.08      3729\n",
            "\n",
            "    accuracy                           0.82     20462\n",
            "   macro avg       0.66      0.52      0.49     20462\n",
            "weighted avg       0.76      0.82      0.75     20462\n",
            "\n"
          ]
        }
      ]
    },
    {
      "cell_type": "markdown",
      "source": [
        "### Este modelo tiene un Accuracy del 82%, pero una Sensitivity muy baja (50%) y una Precision para la clase 1 de solo el 4%. Es decepcionante el resultado de este modelo."
      ],
      "metadata": {
        "id": "OfltI-5exDe2"
      }
    }
  ]
}